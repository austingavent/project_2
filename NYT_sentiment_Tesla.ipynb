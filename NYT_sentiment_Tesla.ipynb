{
 "cells": [
  {
   "cell_type": "code",
   "execution_count": 1,
   "metadata": {},
   "outputs": [],
   "source": [
    "import requests\n",
    "import os\n",
    "from dotenv import load_dotenv\n",
    "import pandas as pd"
   ]
  },
  {
   "cell_type": "code",
   "execution_count": 2,
   "metadata": {},
   "outputs": [
    {
     "data": {
      "text/plain": [
       "['Tesla_sentiment_NYT.ipynb',\n",
       " 'NYT_sentiment_Tesla.ipynb',\n",
       " '.DS_Store',\n",
       " 'NYT_sentimentTesla.ipynb',\n",
       " 'NYT_sentiment_Apple.ipynb',\n",
       " 'Apple_sentiment_NYT.ipynb',\n",
       " 'NYT_sentiment_Microsoft.ipynb',\n",
       " 'AppleSentimentMonths.pickle',\n",
       " 'FinTechHomework',\n",
       " 'NYT_sentimentMicrosoft.ipynb',\n",
       " '.env',\n",
       " 'AppleSentiment.pickle',\n",
       " '05-Stu_Correlating_Returns',\n",
       " 'TeslaSentiment.pickle',\n",
       " '.ipynb_checkpoints',\n",
       " 'NYT_sentimentAMD.ipynb',\n",
       " 'Microsoft_sentiment_NYT.ipynb',\n",
       " 'choice_df.csv',\n",
       " 'MicrosoftSentiment.pickle']"
      ]
     },
     "execution_count": 2,
     "metadata": {},
     "output_type": "execute_result"
    }
   ],
   "source": [
    "os.listdir()"
   ]
  },
  {
   "cell_type": "code",
   "execution_count": 3,
   "metadata": {},
   "outputs": [
    {
     "data": {
      "text/plain": [
       "True"
      ]
     },
     "execution_count": 3,
     "metadata": {},
     "output_type": "execute_result"
    }
   ],
   "source": [
    "load_dotenv()"
   ]
  },
  {
   "cell_type": "code",
   "execution_count": 4,
   "metadata": {},
   "outputs": [],
   "source": [
    "NYT_API=os.getenv('NYT_API')"
   ]
  },
  {
   "cell_type": "code",
   "execution_count": 6,
   "metadata": {},
   "outputs": [],
   "source": [
    "topic='Tesla'\n",
    "url=f'https://api.nytimes.com/svc/search/v2/articlesearch.json?q={topic}&api-key={NYT_API}'\n",
    "response=requests.get(url)\n",
    "data=response.json()['response']['docs'][0]"
   ]
  },
  {
   "cell_type": "code",
   "execution_count": 7,
   "metadata": {},
   "outputs": [],
   "source": [
    "junb= '20190601'\n",
    "june= '20190630'\n",
    "julb= '20190701'\n",
    "jule= '20190731'\n",
    "augb= '20190801'\n",
    "auge= '20190830'\n",
    "sepb= '20190901'\n",
    "sepe= '20190930'\n",
    "octb= '20191001'\n",
    "octe= '20191031'\n",
    "novb= '20191101'\n",
    "nove= '20191130'\n",
    "decb= '20191201'\n",
    "dece= '20191231'"
   ]
  },
  {
   "cell_type": "code",
   "execution_count": 8,
   "metadata": {},
   "outputs": [],
   "source": [
    "def getHeadlines(start,end):\n",
    "    headlines=[]\n",
    "    i=1\n",
    "    max_results=100\n",
    "    topic='Tesla'\n",
    "    # begin_date=20120101&end_date=20121231\n",
    "    beg_date=start\n",
    "    end_date=end\n",
    "    for n in range(1, int(max_results/10)): \n",
    "        url=f'https://api.nytimes.com/svc/search/v2/articlesearch.json?q={topic}&api-key={NYT_API}&page={n}&begin_date={beg_date}&end_date={end_date}'\n",
    "        response=requests.get(url)\n",
    "        data=response.json()\n",
    "        article_list=data['response']['docs']\n",
    "        for each_article in article_list: \n",
    "            article_dict={}\n",
    "            article_dict['item']=i\n",
    "            article_dict['headline']=each_article['headline']['main']\n",
    "            article_dict['pub_date']=each_article['pub_date']\n",
    "            headlines.append(article_dict)\n",
    "            i=i+1\n",
    "    df = pd.DataFrame(headlines)\n",
    "    return df"
   ]
  },
  {
   "cell_type": "code",
   "execution_count": null,
   "metadata": {},
   "outputs": [],
   "source": []
  },
  {
   "cell_type": "code",
   "execution_count": 9,
   "metadata": {},
   "outputs": [],
   "source": [
    "from nltk.sentiment.vader import SentimentIntensityAnalyzer\n",
    "\n",
    "# Instantiate SentimentIntensityAnalyzer\n",
    "sid = SentimentIntensityAnalyzer()\n",
    "\n",
    "# Create function that computes average compound sentiment of headlines for each day\n",
    "def headline_sentiment_summarizer_avg(headlines):\n",
    "    # print(headlines)\n",
    "    sentiment_by_word=[]\n",
    "    sentiment_by_sentence=[]\n",
    "    for each_headline in headlines:\n",
    "        article_score=[]\n",
    "        sentiment_by_sentence.append(sid.polarity_scores(each_headline)[\"compound\"])\n",
    "        for each_word in each_headline.split(' '):\n",
    "            if each_word == None:\n",
    "                continue\n",
    "            else:\n",
    "                # print(f'{each_word}-{sid.polarity_scores(each_word)}')\n",
    "                article_score.append(sid.polarity_scores(each_word)[\"compound\"])\n",
    "                # \n",
    "        sentiment_by_word.append(sum(article_score) / len(article_score))\n",
    "        # print(article_score)\n",
    "        # print('-'*20)\n",
    "    return sentiment_by_word, sentiment_by_sentence"
   ]
  },
  {
   "cell_type": "code",
   "execution_count": 10,
   "metadata": {},
   "outputs": [],
   "source": [
    "july = getHeadlines(julb, jule)"
   ]
  },
  {
   "cell_type": "code",
   "execution_count": 11,
   "metadata": {},
   "outputs": [],
   "source": [
    "results=headline_sentiment_summarizer_avg(july['headline'])\n",
    "july['sent_by_word_score']=results[0]\n",
    "july['sent_by_sentence_score']=results[1]"
   ]
  },
  {
   "cell_type": "code",
   "execution_count": 12,
   "metadata": {},
   "outputs": [
    {
     "data": {
      "text/html": [
       "<div>\n",
       "<style scoped>\n",
       "    .dataframe tbody tr th:only-of-type {\n",
       "        vertical-align: middle;\n",
       "    }\n",
       "\n",
       "    .dataframe tbody tr th {\n",
       "        vertical-align: top;\n",
       "    }\n",
       "\n",
       "    .dataframe thead th {\n",
       "        text-align: right;\n",
       "    }\n",
       "</style>\n",
       "<table border=\"1\" class=\"dataframe\">\n",
       "  <thead>\n",
       "    <tr style=\"text-align: right;\">\n",
       "      <th></th>\n",
       "      <th>item</th>\n",
       "      <th>headline</th>\n",
       "      <th>pub_date</th>\n",
       "      <th>sent_by_word_score</th>\n",
       "      <th>sent_by_sentence_score</th>\n",
       "    </tr>\n",
       "  </thead>\n",
       "  <tbody>\n",
       "    <tr>\n",
       "      <th>0</th>\n",
       "      <td>1</td>\n",
       "      <td>The Week in Business: Nike Faces a Sneaker Cri...</td>\n",
       "      <td>2019-07-06T17:02:36+0000</td>\n",
       "      <td>0.000000</td>\n",
       "      <td>0.0000</td>\n",
       "    </tr>\n",
       "    <tr>\n",
       "      <th>1</th>\n",
       "      <td>2</td>\n",
       "      <td>Puerto Rico, Boris Johnson, India: Your Monday...</td>\n",
       "      <td>2019-07-22T21:59:51+0000</td>\n",
       "      <td>0.000000</td>\n",
       "      <td>0.0000</td>\n",
       "    </tr>\n",
       "    <tr>\n",
       "      <th>2</th>\n",
       "      <td>3</td>\n",
       "      <td>The Kern River Can Be Deadly. Here’s How to St...</td>\n",
       "      <td>2019-07-26T13:02:26+0000</td>\n",
       "      <td>0.040036</td>\n",
       "      <td>0.4404</td>\n",
       "    </tr>\n",
       "    <tr>\n",
       "      <th>3</th>\n",
       "      <td>4</td>\n",
       "      <td>In Hong Kong Protests, Faces Become Weapons</td>\n",
       "      <td>2019-07-26T09:00:16+0000</td>\n",
       "      <td>-0.095243</td>\n",
       "      <td>-0.5859</td>\n",
       "    </tr>\n",
       "    <tr>\n",
       "      <th>4</th>\n",
       "      <td>5</td>\n",
       "      <td>Koch Executive’s Harassment in China Adds to F...</td>\n",
       "      <td>2019-07-11T23:00:09+0000</td>\n",
       "      <td>-0.096380</td>\n",
       "      <td>-0.7430</td>\n",
       "    </tr>\n",
       "  </tbody>\n",
       "</table>\n",
       "</div>"
      ],
      "text/plain": [
       "   item                                           headline  \\\n",
       "0     1  The Week in Business: Nike Faces a Sneaker Cri...   \n",
       "1     2  Puerto Rico, Boris Johnson, India: Your Monday...   \n",
       "2     3  The Kern River Can Be Deadly. Here’s How to St...   \n",
       "3     4        In Hong Kong Protests, Faces Become Weapons   \n",
       "4     5  Koch Executive’s Harassment in China Adds to F...   \n",
       "\n",
       "                   pub_date  sent_by_word_score  sent_by_sentence_score  \n",
       "0  2019-07-06T17:02:36+0000            0.000000                  0.0000  \n",
       "1  2019-07-22T21:59:51+0000            0.000000                  0.0000  \n",
       "2  2019-07-26T13:02:26+0000            0.040036                  0.4404  \n",
       "3  2019-07-26T09:00:16+0000           -0.095243                 -0.5859  \n",
       "4  2019-07-11T23:00:09+0000           -0.096380                 -0.7430  "
      ]
     },
     "execution_count": 12,
     "metadata": {},
     "output_type": "execute_result"
    }
   ],
   "source": [
    "july.head()"
   ]
  },
  {
   "cell_type": "code",
   "execution_count": null,
   "metadata": {},
   "outputs": [],
   "source": []
  },
  {
   "cell_type": "code",
   "execution_count": 13,
   "metadata": {},
   "outputs": [],
   "source": [
    "june = getHeadlines(junb, june)"
   ]
  },
  {
   "cell_type": "code",
   "execution_count": 14,
   "metadata": {},
   "outputs": [],
   "source": [
    "results=headline_sentiment_summarizer_avg(june['headline'])\n",
    "june['sent_by_word_score']=results[0]\n",
    "june['sent_by_sentence_score']=results[1]"
   ]
  },
  {
   "cell_type": "code",
   "execution_count": 15,
   "metadata": {},
   "outputs": [
    {
     "data": {
      "text/html": [
       "<div>\n",
       "<style scoped>\n",
       "    .dataframe tbody tr th:only-of-type {\n",
       "        vertical-align: middle;\n",
       "    }\n",
       "\n",
       "    .dataframe tbody tr th {\n",
       "        vertical-align: top;\n",
       "    }\n",
       "\n",
       "    .dataframe thead th {\n",
       "        text-align: right;\n",
       "    }\n",
       "</style>\n",
       "<table border=\"1\" class=\"dataframe\">\n",
       "  <thead>\n",
       "    <tr style=\"text-align: right;\">\n",
       "      <th></th>\n",
       "      <th>item</th>\n",
       "      <th>headline</th>\n",
       "      <th>pub_date</th>\n",
       "      <th>sent_by_word_score</th>\n",
       "      <th>sent_by_sentence_score</th>\n",
       "    </tr>\n",
       "  </thead>\n",
       "  <tbody>\n",
       "    <tr>\n",
       "      <th>0</th>\n",
       "      <td>1</td>\n",
       "      <td>Fiat Chrysler Withdraws Its Offer for Renault</td>\n",
       "      <td>2019-06-05T22:57:06+0000</td>\n",
       "      <td>0.000000</td>\n",
       "      <td>0.0000</td>\n",
       "    </tr>\n",
       "    <tr>\n",
       "      <th>1</th>\n",
       "      <td>2</td>\n",
       "      <td>The Car Industry Is Under Siege</td>\n",
       "      <td>2019-06-06T12:44:17+0000</td>\n",
       "      <td>0.000000</td>\n",
       "      <td>0.0000</td>\n",
       "    </tr>\n",
       "    <tr>\n",
       "      <th>2</th>\n",
       "      <td>3</td>\n",
       "      <td>Blue States Roll Out Aggressive Climate Strate...</td>\n",
       "      <td>2019-06-21T17:29:23+0000</td>\n",
       "      <td>-0.011777</td>\n",
       "      <td>-0.1531</td>\n",
       "    </tr>\n",
       "    <tr>\n",
       "      <th>3</th>\n",
       "      <td>4</td>\n",
       "      <td>DealBook Briefing: Big Tech Enters Antitrust P...</td>\n",
       "      <td>2019-06-04T10:29:32+0000</td>\n",
       "      <td>0.000000</td>\n",
       "      <td>0.0000</td>\n",
       "    </tr>\n",
       "    <tr>\n",
       "      <th>4</th>\n",
       "      <td>5</td>\n",
       "      <td>DealBook Briefing: Why Fiat Chrysler Nixed the...</td>\n",
       "      <td>2019-06-06T10:20:38+0000</td>\n",
       "      <td>0.000000</td>\n",
       "      <td>0.0000</td>\n",
       "    </tr>\n",
       "  </tbody>\n",
       "</table>\n",
       "</div>"
      ],
      "text/plain": [
       "   item                                           headline  \\\n",
       "0     1      Fiat Chrysler Withdraws Its Offer for Renault   \n",
       "1     2                    The Car Industry Is Under Siege   \n",
       "2     3  Blue States Roll Out Aggressive Climate Strate...   \n",
       "3     4  DealBook Briefing: Big Tech Enters Antitrust P...   \n",
       "4     5  DealBook Briefing: Why Fiat Chrysler Nixed the...   \n",
       "\n",
       "                   pub_date  sent_by_word_score  sent_by_sentence_score  \n",
       "0  2019-06-05T22:57:06+0000            0.000000                  0.0000  \n",
       "1  2019-06-06T12:44:17+0000            0.000000                  0.0000  \n",
       "2  2019-06-21T17:29:23+0000           -0.011777                 -0.1531  \n",
       "3  2019-06-04T10:29:32+0000            0.000000                  0.0000  \n",
       "4  2019-06-06T10:20:38+0000            0.000000                  0.0000  "
      ]
     },
     "execution_count": 15,
     "metadata": {},
     "output_type": "execute_result"
    }
   ],
   "source": [
    "june.head()"
   ]
  },
  {
   "cell_type": "code",
   "execution_count": 18,
   "metadata": {},
   "outputs": [],
   "source": [
    "august = getHeadlines(augb, auge)"
   ]
  },
  {
   "cell_type": "code",
   "execution_count": 19,
   "metadata": {},
   "outputs": [],
   "source": [
    "results=headline_sentiment_summarizer_avg(august['headline'])\n",
    "august['sent_by_word_score']=results[0]\n",
    "august['sent_by_sentence_score']=results[1]"
   ]
  },
  {
   "cell_type": "code",
   "execution_count": 20,
   "metadata": {},
   "outputs": [
    {
     "data": {
      "text/html": [
       "<div>\n",
       "<style scoped>\n",
       "    .dataframe tbody tr th:only-of-type {\n",
       "        vertical-align: middle;\n",
       "    }\n",
       "\n",
       "    .dataframe tbody tr th {\n",
       "        vertical-align: top;\n",
       "    }\n",
       "\n",
       "    .dataframe thead th {\n",
       "        text-align: right;\n",
       "    }\n",
       "</style>\n",
       "<table border=\"1\" class=\"dataframe\">\n",
       "  <thead>\n",
       "    <tr style=\"text-align: right;\">\n",
       "      <th></th>\n",
       "      <th>item</th>\n",
       "      <th>headline</th>\n",
       "      <th>pub_date</th>\n",
       "      <th>sent_by_word_score</th>\n",
       "      <th>sent_by_sentence_score</th>\n",
       "    </tr>\n",
       "  </thead>\n",
       "  <tbody>\n",
       "    <tr>\n",
       "      <th>0</th>\n",
       "      <td>1</td>\n",
       "      <td>A Financier’s End, and Uber Hits the Skids</td>\n",
       "      <td>2019-08-11T11:00:01+0000</td>\n",
       "      <td>0.000000</td>\n",
       "      <td>0.0000</td>\n",
       "    </tr>\n",
       "    <tr>\n",
       "      <th>1</th>\n",
       "      <td>2</td>\n",
       "      <td>DealBook Briefing: Could This Weekend Bring Re...</td>\n",
       "      <td>2019-08-23T10:12:20+0000</td>\n",
       "      <td>0.043336</td>\n",
       "      <td>0.4767</td>\n",
       "    </tr>\n",
       "    <tr>\n",
       "      <th>2</th>\n",
       "      <td>3</td>\n",
       "      <td>Germany Nears Recession and Chinese Factories ...</td>\n",
       "      <td>2019-08-14T12:12:20+0000</td>\n",
       "      <td>-0.092809</td>\n",
       "      <td>-0.7717</td>\n",
       "    </tr>\n",
       "    <tr>\n",
       "      <th>3</th>\n",
       "      <td>4</td>\n",
       "      <td>Seven Australians You Should Be Reading About</td>\n",
       "      <td>2019-08-16T02:59:24+0000</td>\n",
       "      <td>0.000000</td>\n",
       "      <td>0.0000</td>\n",
       "    </tr>\n",
       "    <tr>\n",
       "      <th>4</th>\n",
       "      <td>5</td>\n",
       "      <td>Closing of Pacific Standard and Topic Shows Pe...</td>\n",
       "      <td>2019-08-17T18:10:32+0000</td>\n",
       "      <td>0.039814</td>\n",
       "      <td>0.5574</td>\n",
       "    </tr>\n",
       "  </tbody>\n",
       "</table>\n",
       "</div>"
      ],
      "text/plain": [
       "   item                                           headline  \\\n",
       "0     1         A Financier’s End, and Uber Hits the Skids   \n",
       "1     2  DealBook Briefing: Could This Weekend Bring Re...   \n",
       "2     3  Germany Nears Recession and Chinese Factories ...   \n",
       "3     4      Seven Australians You Should Be Reading About   \n",
       "4     5  Closing of Pacific Standard and Topic Shows Pe...   \n",
       "\n",
       "                   pub_date  sent_by_word_score  sent_by_sentence_score  \n",
       "0  2019-08-11T11:00:01+0000            0.000000                  0.0000  \n",
       "1  2019-08-23T10:12:20+0000            0.043336                  0.4767  \n",
       "2  2019-08-14T12:12:20+0000           -0.092809                 -0.7717  \n",
       "3  2019-08-16T02:59:24+0000            0.000000                  0.0000  \n",
       "4  2019-08-17T18:10:32+0000            0.039814                  0.5574  "
      ]
     },
     "execution_count": 20,
     "metadata": {},
     "output_type": "execute_result"
    }
   ],
   "source": [
    "august.head()"
   ]
  },
  {
   "cell_type": "code",
   "execution_count": 22,
   "metadata": {},
   "outputs": [],
   "source": [
    "september = getHeadlines(sepb, sepe)"
   ]
  },
  {
   "cell_type": "code",
   "execution_count": 23,
   "metadata": {},
   "outputs": [],
   "source": [
    "results=headline_sentiment_summarizer_avg(september['headline'])\n",
    "september['sent_by_word_score']=results[0]\n",
    "september['sent_by_sentence_score']=results[1]"
   ]
  },
  {
   "cell_type": "code",
   "execution_count": 24,
   "metadata": {},
   "outputs": [
    {
     "data": {
      "text/html": [
       "<div>\n",
       "<style scoped>\n",
       "    .dataframe tbody tr th:only-of-type {\n",
       "        vertical-align: middle;\n",
       "    }\n",
       "\n",
       "    .dataframe tbody tr th {\n",
       "        vertical-align: top;\n",
       "    }\n",
       "\n",
       "    .dataframe thead th {\n",
       "        text-align: right;\n",
       "    }\n",
       "</style>\n",
       "<table border=\"1\" class=\"dataframe\">\n",
       "  <thead>\n",
       "    <tr style=\"text-align: right;\">\n",
       "      <th></th>\n",
       "      <th>item</th>\n",
       "      <th>headline</th>\n",
       "      <th>pub_date</th>\n",
       "      <th>sent_by_word_score</th>\n",
       "      <th>sent_by_sentence_score</th>\n",
       "    </tr>\n",
       "  </thead>\n",
       "  <tbody>\n",
       "    <tr>\n",
       "      <th>0</th>\n",
       "      <td>1</td>\n",
       "      <td>These High-Tech Sensors May Be the Key to Auto...</td>\n",
       "      <td>2019-09-26T10:00:05+0000</td>\n",
       "      <td>0.000000</td>\n",
       "      <td>0.0000</td>\n",
       "    </tr>\n",
       "    <tr>\n",
       "      <th>1</th>\n",
       "      <td>2</td>\n",
       "      <td>The Ups and Downs of Life Without Wheels of My...</td>\n",
       "      <td>2019-09-17T15:01:00+0000</td>\n",
       "      <td>0.000000</td>\n",
       "      <td>0.0000</td>\n",
       "    </tr>\n",
       "    <tr>\n",
       "      <th>2</th>\n",
       "      <td>3</td>\n",
       "      <td>Searching for Fall Colors? Let Me Get the Llam...</td>\n",
       "      <td>2019-09-18T09:00:03+0000</td>\n",
       "      <td>0.000000</td>\n",
       "      <td>0.0000</td>\n",
       "    </tr>\n",
       "    <tr>\n",
       "      <th>3</th>\n",
       "      <td>4</td>\n",
       "      <td>VW Executives and Ex-C.E.O. Are Charged With M...</td>\n",
       "      <td>2019-09-24T11:30:09+0000</td>\n",
       "      <td>-0.055367</td>\n",
       "      <td>-0.4588</td>\n",
       "    </tr>\n",
       "    <tr>\n",
       "      <th>4</th>\n",
       "      <td>5</td>\n",
       "      <td>The Church of Techno-Optimism</td>\n",
       "      <td>2019-09-28T18:30:05+0000</td>\n",
       "      <td>0.000000</td>\n",
       "      <td>0.0000</td>\n",
       "    </tr>\n",
       "  </tbody>\n",
       "</table>\n",
       "</div>"
      ],
      "text/plain": [
       "   item                                           headline  \\\n",
       "0     1  These High-Tech Sensors May Be the Key to Auto...   \n",
       "1     2  The Ups and Downs of Life Without Wheels of My...   \n",
       "2     3  Searching for Fall Colors? Let Me Get the Llam...   \n",
       "3     4  VW Executives and Ex-C.E.O. Are Charged With M...   \n",
       "4     5                      The Church of Techno-Optimism   \n",
       "\n",
       "                   pub_date  sent_by_word_score  sent_by_sentence_score  \n",
       "0  2019-09-26T10:00:05+0000            0.000000                  0.0000  \n",
       "1  2019-09-17T15:01:00+0000            0.000000                  0.0000  \n",
       "2  2019-09-18T09:00:03+0000            0.000000                  0.0000  \n",
       "3  2019-09-24T11:30:09+0000           -0.055367                 -0.4588  \n",
       "4  2019-09-28T18:30:05+0000            0.000000                  0.0000  "
      ]
     },
     "execution_count": 24,
     "metadata": {},
     "output_type": "execute_result"
    }
   ],
   "source": [
    "september.head()"
   ]
  },
  {
   "cell_type": "code",
   "execution_count": 26,
   "metadata": {},
   "outputs": [],
   "source": [
    "october = getHeadlines(octb, octe)"
   ]
  },
  {
   "cell_type": "code",
   "execution_count": 27,
   "metadata": {},
   "outputs": [],
   "source": [
    "results=headline_sentiment_summarizer_avg(october['headline'])\n",
    "october['sent_by_word_score']=results[0]\n",
    "october['sent_by_sentence_score']=results[1]"
   ]
  },
  {
   "cell_type": "code",
   "execution_count": 28,
   "metadata": {},
   "outputs": [
    {
     "data": {
      "text/html": [
       "<div>\n",
       "<style scoped>\n",
       "    .dataframe tbody tr th:only-of-type {\n",
       "        vertical-align: middle;\n",
       "    }\n",
       "\n",
       "    .dataframe tbody tr th {\n",
       "        vertical-align: top;\n",
       "    }\n",
       "\n",
       "    .dataframe thead th {\n",
       "        text-align: right;\n",
       "    }\n",
       "</style>\n",
       "<table border=\"1\" class=\"dataframe\">\n",
       "  <thead>\n",
       "    <tr style=\"text-align: right;\">\n",
       "      <th></th>\n",
       "      <th>item</th>\n",
       "      <th>headline</th>\n",
       "      <th>pub_date</th>\n",
       "      <th>sent_by_word_score</th>\n",
       "      <th>sent_by_sentence_score</th>\n",
       "    </tr>\n",
       "  </thead>\n",
       "  <tbody>\n",
       "    <tr>\n",
       "      <th>0</th>\n",
       "      <td>1</td>\n",
       "      <td>Why Quiet Cars Are Getting Louder</td>\n",
       "      <td>2019-10-24T10:00:09+0000</td>\n",
       "      <td>0.000000</td>\n",
       "      <td>0.0000</td>\n",
       "    </tr>\n",
       "    <tr>\n",
       "      <th>1</th>\n",
       "      <td>2</td>\n",
       "      <td>Testing Cars That Help Drivers Steer Clear of ...</td>\n",
       "      <td>2019-10-29T04:01:05+0000</td>\n",
       "      <td>0.087078</td>\n",
       "      <td>0.6486</td>\n",
       "    </tr>\n",
       "    <tr>\n",
       "      <th>2</th>\n",
       "      <td>3</td>\n",
       "      <td>The Twilight of the Tech Idols</td>\n",
       "      <td>2019-10-10T15:48:21+0000</td>\n",
       "      <td>0.000000</td>\n",
       "      <td>0.0000</td>\n",
       "    </tr>\n",
       "    <tr>\n",
       "      <th>3</th>\n",
       "      <td>4</td>\n",
       "      <td>The Week in Tech: Navigating the Chinese Minef...</td>\n",
       "      <td>2019-10-11T13:00:09+0000</td>\n",
       "      <td>0.000000</td>\n",
       "      <td>0.0000</td>\n",
       "    </tr>\n",
       "    <tr>\n",
       "      <th>4</th>\n",
       "      <td>5</td>\n",
       "      <td>The Steel Mill That Helped Build the American ...</td>\n",
       "      <td>2019-10-16T19:00:08+0000</td>\n",
       "      <td>0.000000</td>\n",
       "      <td>0.0000</td>\n",
       "    </tr>\n",
       "  </tbody>\n",
       "</table>\n",
       "</div>"
      ],
      "text/plain": [
       "   item                                           headline  \\\n",
       "0     1                  Why Quiet Cars Are Getting Louder   \n",
       "1     2  Testing Cars That Help Drivers Steer Clear of ...   \n",
       "2     3                     The Twilight of the Tech Idols   \n",
       "3     4  The Week in Tech: Navigating the Chinese Minef...   \n",
       "4     5  The Steel Mill That Helped Build the American ...   \n",
       "\n",
       "                   pub_date  sent_by_word_score  sent_by_sentence_score  \n",
       "0  2019-10-24T10:00:09+0000            0.000000                  0.0000  \n",
       "1  2019-10-29T04:01:05+0000            0.087078                  0.6486  \n",
       "2  2019-10-10T15:48:21+0000            0.000000                  0.0000  \n",
       "3  2019-10-11T13:00:09+0000            0.000000                  0.0000  \n",
       "4  2019-10-16T19:00:08+0000            0.000000                  0.0000  "
      ]
     },
     "execution_count": 28,
     "metadata": {},
     "output_type": "execute_result"
    }
   ],
   "source": [
    "october.head()"
   ]
  },
  {
   "cell_type": "code",
   "execution_count": 30,
   "metadata": {},
   "outputs": [],
   "source": [
    "november = getHeadlines(novb, nove)"
   ]
  },
  {
   "cell_type": "code",
   "execution_count": 31,
   "metadata": {},
   "outputs": [],
   "source": [
    "results=headline_sentiment_summarizer_avg(november['headline'])\n",
    "november['sent_by_word_score']=results[0]\n",
    "november['sent_by_sentence_score']=results[1]"
   ]
  },
  {
   "cell_type": "code",
   "execution_count": 32,
   "metadata": {},
   "outputs": [
    {
     "data": {
      "text/html": [
       "<div>\n",
       "<style scoped>\n",
       "    .dataframe tbody tr th:only-of-type {\n",
       "        vertical-align: middle;\n",
       "    }\n",
       "\n",
       "    .dataframe tbody tr th {\n",
       "        vertical-align: top;\n",
       "    }\n",
       "\n",
       "    .dataframe thead th {\n",
       "        text-align: right;\n",
       "    }\n",
       "</style>\n",
       "<table border=\"1\" class=\"dataframe\">\n",
       "  <thead>\n",
       "    <tr style=\"text-align: right;\">\n",
       "      <th></th>\n",
       "      <th>item</th>\n",
       "      <th>headline</th>\n",
       "      <th>pub_date</th>\n",
       "      <th>sent_by_word_score</th>\n",
       "      <th>sent_by_sentence_score</th>\n",
       "    </tr>\n",
       "  </thead>\n",
       "  <tbody>\n",
       "    <tr>\n",
       "      <th>0</th>\n",
       "      <td>1</td>\n",
       "      <td>Ford Wants to Sell You an Electric S.U.V. It’s...</td>\n",
       "      <td>2019-11-18T02:30:20+0000</td>\n",
       "      <td>0.000000</td>\n",
       "      <td>0.0000</td>\n",
       "    </tr>\n",
       "    <tr>\n",
       "      <th>1</th>\n",
       "      <td>2</td>\n",
       "      <td>McDonald’s Fires C.E.O. Over Relationship With...</td>\n",
       "      <td>2019-11-04T12:10:08+0000</td>\n",
       "      <td>0.000000</td>\n",
       "      <td>0.0000</td>\n",
       "    </tr>\n",
       "    <tr>\n",
       "      <th>2</th>\n",
       "      <td>3</td>\n",
       "      <td>What to Cook Tonight (Nothing!)</td>\n",
       "      <td>2019-11-18T15:30:00+0000</td>\n",
       "      <td>0.000000</td>\n",
       "      <td>0.0000</td>\n",
       "    </tr>\n",
       "    <tr>\n",
       "      <th>3</th>\n",
       "      <td>4</td>\n",
       "      <td>Teenager Wins $25,000 for Science Project That...</td>\n",
       "      <td>2019-11-07T14:05:39+0000</td>\n",
       "      <td>0.036933</td>\n",
       "      <td>0.4767</td>\n",
       "    </tr>\n",
       "    <tr>\n",
       "      <th>4</th>\n",
       "      <td>5</td>\n",
       "      <td>Democratic Debate, Prince Andrew, National Boo...</td>\n",
       "      <td>2019-11-21T10:13:07+0000</td>\n",
       "      <td>0.045880</td>\n",
       "      <td>0.4588</td>\n",
       "    </tr>\n",
       "  </tbody>\n",
       "</table>\n",
       "</div>"
      ],
      "text/plain": [
       "   item                                           headline  \\\n",
       "0     1  Ford Wants to Sell You an Electric S.U.V. It’s...   \n",
       "1     2  McDonald’s Fires C.E.O. Over Relationship With...   \n",
       "2     3                    What to Cook Tonight (Nothing!)   \n",
       "3     4  Teenager Wins $25,000 for Science Project That...   \n",
       "4     5  Democratic Debate, Prince Andrew, National Boo...   \n",
       "\n",
       "                   pub_date  sent_by_word_score  sent_by_sentence_score  \n",
       "0  2019-11-18T02:30:20+0000            0.000000                  0.0000  \n",
       "1  2019-11-04T12:10:08+0000            0.000000                  0.0000  \n",
       "2  2019-11-18T15:30:00+0000            0.000000                  0.0000  \n",
       "3  2019-11-07T14:05:39+0000            0.036933                  0.4767  \n",
       "4  2019-11-21T10:13:07+0000            0.045880                  0.4588  "
      ]
     },
     "execution_count": 32,
     "metadata": {},
     "output_type": "execute_result"
    }
   ],
   "source": [
    "november.head()"
   ]
  },
  {
   "cell_type": "code",
   "execution_count": 34,
   "metadata": {},
   "outputs": [],
   "source": [
    "december = getHeadlines(decb, dece)"
   ]
  },
  {
   "cell_type": "code",
   "execution_count": 35,
   "metadata": {},
   "outputs": [],
   "source": [
    "results=headline_sentiment_summarizer_avg(december['headline'])\n",
    "december['sent_by_word_score']=results[0]\n",
    "december['sent_by_sentence_score']=results[1]"
   ]
  },
  {
   "cell_type": "code",
   "execution_count": 36,
   "metadata": {},
   "outputs": [
    {
     "data": {
      "text/html": [
       "<div>\n",
       "<style scoped>\n",
       "    .dataframe tbody tr th:only-of-type {\n",
       "        vertical-align: middle;\n",
       "    }\n",
       "\n",
       "    .dataframe tbody tr th {\n",
       "        vertical-align: top;\n",
       "    }\n",
       "\n",
       "    .dataframe thead th {\n",
       "        text-align: right;\n",
       "    }\n",
       "</style>\n",
       "<table border=\"1\" class=\"dataframe\">\n",
       "  <thead>\n",
       "    <tr style=\"text-align: right;\">\n",
       "      <th></th>\n",
       "      <th>item</th>\n",
       "      <th>headline</th>\n",
       "      <th>pub_date</th>\n",
       "      <th>sent_by_word_score</th>\n",
       "      <th>sent_by_sentence_score</th>\n",
       "    </tr>\n",
       "  </thead>\n",
       "  <tbody>\n",
       "    <tr>\n",
       "      <th>0</th>\n",
       "      <td>1</td>\n",
       "      <td>The Week in Business: Amazon Won Christmas</td>\n",
       "      <td>2019-12-29T12:00:07+0000</td>\n",
       "      <td>0.107114</td>\n",
       "      <td>0.6597</td>\n",
       "    </tr>\n",
       "    <tr>\n",
       "      <th>1</th>\n",
       "      <td>2</td>\n",
       "      <td>Gift Ideas for Car Lovers or Commuters</td>\n",
       "      <td>2019-12-11T11:00:14+0000</td>\n",
       "      <td>0.138157</td>\n",
       "      <td>0.7430</td>\n",
       "    </tr>\n",
       "    <tr>\n",
       "      <th>2</th>\n",
       "      <td>3</td>\n",
       "      <td>Have You Ever Tried to Make Money Online?</td>\n",
       "      <td>2019-12-02T10:00:04+0000</td>\n",
       "      <td>0.000000</td>\n",
       "      <td>0.0000</td>\n",
       "    </tr>\n",
       "    <tr>\n",
       "      <th>3</th>\n",
       "      <td>4</td>\n",
       "      <td>Behind a U.A.W. Crisis: Lavish Meals and Luxur...</td>\n",
       "      <td>2019-12-26T08:00:15+0000</td>\n",
       "      <td>-0.069433</td>\n",
       "      <td>-0.6249</td>\n",
       "    </tr>\n",
       "    <tr>\n",
       "      <th>4</th>\n",
       "      <td>5</td>\n",
       "      <td>This Man May Be Big Tech’s Biggest Threat</td>\n",
       "      <td>2019-12-08T20:25:51+0000</td>\n",
       "      <td>-0.065837</td>\n",
       "      <td>-0.5267</td>\n",
       "    </tr>\n",
       "  </tbody>\n",
       "</table>\n",
       "</div>"
      ],
      "text/plain": [
       "   item                                           headline  \\\n",
       "0     1         The Week in Business: Amazon Won Christmas   \n",
       "1     2             Gift Ideas for Car Lovers or Commuters   \n",
       "2     3          Have You Ever Tried to Make Money Online?   \n",
       "3     4  Behind a U.A.W. Crisis: Lavish Meals and Luxur...   \n",
       "4     5          This Man May Be Big Tech’s Biggest Threat   \n",
       "\n",
       "                   pub_date  sent_by_word_score  sent_by_sentence_score  \n",
       "0  2019-12-29T12:00:07+0000            0.107114                  0.6597  \n",
       "1  2019-12-11T11:00:14+0000            0.138157                  0.7430  \n",
       "2  2019-12-02T10:00:04+0000            0.000000                  0.0000  \n",
       "3  2019-12-26T08:00:15+0000           -0.069433                 -0.6249  \n",
       "4  2019-12-08T20:25:51+0000           -0.065837                 -0.5267  "
      ]
     },
     "execution_count": 36,
     "metadata": {},
     "output_type": "execute_result"
    }
   ],
   "source": [
    "december.head()"
   ]
  },
  {
   "cell_type": "code",
   "execution_count": 37,
   "metadata": {},
   "outputs": [],
   "source": [
    "tesla_months = pd.concat([june, july, august, september, october, november, december])"
   ]
  },
  {
   "cell_type": "code",
   "execution_count": 38,
   "metadata": {},
   "outputs": [],
   "source": [
    "tesla_months.to_pickle('TeslaSentimentMonths.pickle')"
   ]
  },
  {
   "cell_type": "code",
   "execution_count": null,
   "metadata": {},
   "outputs": [],
   "source": []
  },
  {
   "cell_type": "code",
   "execution_count": null,
   "metadata": {},
   "outputs": [],
   "source": []
  },
  {
   "cell_type": "code",
   "execution_count": null,
   "metadata": {},
   "outputs": [],
   "source": []
  },
  {
   "cell_type": "code",
   "execution_count": null,
   "metadata": {},
   "outputs": [],
   "source": []
  },
  {
   "cell_type": "code",
   "execution_count": null,
   "metadata": {},
   "outputs": [],
   "source": []
  },
  {
   "cell_type": "code",
   "execution_count": null,
   "metadata": {},
   "outputs": [],
   "source": []
  },
  {
   "cell_type": "code",
   "execution_count": null,
   "metadata": {},
   "outputs": [],
   "source": []
  },
  {
   "cell_type": "code",
   "execution_count": null,
   "metadata": {},
   "outputs": [],
   "source": [
    "# df.to_pickle('AppleSentiment.pickle')"
   ]
  }
 ],
 "metadata": {
  "kernelspec": {
   "display_name": "Python 3",
   "language": "python",
   "name": "python3"
  },
  "language_info": {
   "codemirror_mode": {
    "name": "ipython",
    "version": 3
   },
   "file_extension": ".py",
   "mimetype": "text/x-python",
   "name": "python",
   "nbconvert_exporter": "python",
   "pygments_lexer": "ipython3",
   "version": "3.8.3"
  }
 },
 "nbformat": 4,
 "nbformat_minor": 4
}
