{
 "cells": [
  {
   "cell_type": "code",
   "execution_count": 1,
   "metadata": {},
   "outputs": [],
   "source": [
    "import requests\n",
    "import os\n",
    "from dotenv import load_dotenv\n",
    "import pandas as pd"
   ]
  },
  {
   "cell_type": "code",
   "execution_count": 2,
   "metadata": {},
   "outputs": [
    {
     "data": {
      "text/plain": [
       "['Tesla_sentiment_NYT.ipynb',\n",
       " 'NYT_sentiment_Tesla.ipynb',\n",
       " '.DS_Store',\n",
       " 'NYT_sentimentTesla.ipynb',\n",
       " 'NYT_sentiment_Apple.ipynb',\n",
       " 'Apple_sentiment_NYT.ipynb',\n",
       " 'NYT_sentiment_Microsoft.ipynb',\n",
       " 'AppleSentimentMonths.pickle',\n",
       " 'FinTechHomework',\n",
       " 'NYT_sentimentMicrosoft.ipynb',\n",
       " '.env',\n",
       " 'AppleSentiment.pickle',\n",
       " '05-Stu_Correlating_Returns',\n",
       " 'TeslaSentiment.pickle',\n",
       " '.ipynb_checkpoints',\n",
       " 'NYT_sentimentAMD.ipynb',\n",
       " 'Microsoft_sentiment_NYT.ipynb',\n",
       " 'choice_df.csv',\n",
       " 'MicrosoftSentiment.pickle']"
      ]
     },
     "execution_count": 2,
     "metadata": {},
     "output_type": "execute_result"
    }
   ],
   "source": [
    "os.listdir()"
   ]
  },
  {
   "cell_type": "code",
   "execution_count": 3,
   "metadata": {},
   "outputs": [
    {
     "data": {
      "text/plain": [
       "True"
      ]
     },
     "execution_count": 3,
     "metadata": {},
     "output_type": "execute_result"
    }
   ],
   "source": [
    "load_dotenv()"
   ]
  },
  {
   "cell_type": "code",
   "execution_count": 4,
   "metadata": {},
   "outputs": [],
   "source": [
    "NYT_API=os.getenv('NYT_API')"
   ]
  },
  {
   "cell_type": "code",
   "execution_count": 5,
   "metadata": {},
   "outputs": [],
   "source": [
    "topic='Microsoft'\n",
    "url=f'https://api.nytimes.com/svc/search/v2/articlesearch.json?q={topic}&api-key={NYT_API}'\n",
    "response=requests.get(url)\n",
    "data=response.json()['response']['docs'][0]"
   ]
  },
  {
   "cell_type": "code",
   "execution_count": 6,
   "metadata": {},
   "outputs": [],
   "source": [
    "junb= '20190601'\n",
    "june= '20190630'\n",
    "julb= '20190701'\n",
    "jule= '20190731'\n",
    "augb= '20190801'\n",
    "auge= '20190830'\n",
    "sepb= '20190901'\n",
    "sepe= '20190930'\n",
    "octb= '20191001'\n",
    "octe= '20191031'\n",
    "novb= '20191101'\n",
    "nove= '20191130'\n",
    "decb= '20191201'\n",
    "dece= '20191231'"
   ]
  },
  {
   "cell_type": "code",
   "execution_count": 7,
   "metadata": {},
   "outputs": [],
   "source": [
    "def getHeadlines(start,end):\n",
    "    headlines=[]\n",
    "    i=1\n",
    "    max_results=100\n",
    "    topic='Microsoft'\n",
    "    # begin_date=20120101&end_date=20121231\n",
    "    beg_date=start\n",
    "    end_date=end\n",
    "    for n in range(1, int(max_results/10)): \n",
    "        url=f'https://api.nytimes.com/svc/search/v2/articlesearch.json?q={topic}&api-key={NYT_API}&page={n}&begin_date={beg_date}&end_date={end_date}'\n",
    "        response=requests.get(url)\n",
    "        data=response.json()\n",
    "        article_list=data['response']['docs']\n",
    "        for each_article in article_list: \n",
    "            article_dict={}\n",
    "            article_dict['item']=i\n",
    "            article_dict['headline']=each_article['headline']['main']\n",
    "            article_dict['pub_date']=each_article['pub_date']\n",
    "            headlines.append(article_dict)\n",
    "            i=i+1\n",
    "    df = pd.DataFrame(headlines)\n",
    "    return df"
   ]
  },
  {
   "cell_type": "code",
   "execution_count": null,
   "metadata": {},
   "outputs": [],
   "source": []
  },
  {
   "cell_type": "code",
   "execution_count": 8,
   "metadata": {},
   "outputs": [],
   "source": [
    "from nltk.sentiment.vader import SentimentIntensityAnalyzer\n",
    "\n",
    "# Instantiate SentimentIntensityAnalyzer\n",
    "sid = SentimentIntensityAnalyzer()\n",
    "\n",
    "# Create function that computes average compound sentiment of headlines for each day\n",
    "def headline_sentiment_summarizer_avg(headlines):\n",
    "    # print(headlines)\n",
    "    sentiment_by_word=[]\n",
    "    sentiment_by_sentence=[]\n",
    "    for each_headline in headlines:\n",
    "        article_score=[]\n",
    "        sentiment_by_sentence.append(sid.polarity_scores(each_headline)[\"compound\"])\n",
    "        for each_word in each_headline.split(' '):\n",
    "            if each_word == None:\n",
    "                continue\n",
    "            else:\n",
    "                # print(f'{each_word}-{sid.polarity_scores(each_word)}')\n",
    "                article_score.append(sid.polarity_scores(each_word)[\"compound\"])\n",
    "                # \n",
    "        sentiment_by_word.append(sum(article_score) / len(article_score))\n",
    "        # print(article_score)\n",
    "        # print('-'*20)\n",
    "    return sentiment_by_word, sentiment_by_sentence"
   ]
  },
  {
   "cell_type": "code",
   "execution_count": 9,
   "metadata": {},
   "outputs": [],
   "source": [
    "july = getHeadlines(julb, jule)"
   ]
  },
  {
   "cell_type": "code",
   "execution_count": 10,
   "metadata": {},
   "outputs": [],
   "source": [
    "results=headline_sentiment_summarizer_avg(july['headline'])\n",
    "july['sent_by_word_score']=results[0]\n",
    "july['sent_by_sentence_score']=results[1]"
   ]
  },
  {
   "cell_type": "code",
   "execution_count": 11,
   "metadata": {},
   "outputs": [
    {
     "data": {
      "text/html": [
       "<div>\n",
       "<style scoped>\n",
       "    .dataframe tbody tr th:only-of-type {\n",
       "        vertical-align: middle;\n",
       "    }\n",
       "\n",
       "    .dataframe tbody tr th {\n",
       "        vertical-align: top;\n",
       "    }\n",
       "\n",
       "    .dataframe thead th {\n",
       "        text-align: right;\n",
       "    }\n",
       "</style>\n",
       "<table border=\"1\" class=\"dataframe\">\n",
       "  <thead>\n",
       "    <tr style=\"text-align: right;\">\n",
       "      <th></th>\n",
       "      <th>item</th>\n",
       "      <th>headline</th>\n",
       "      <th>pub_date</th>\n",
       "      <th>sent_by_word_score</th>\n",
       "      <th>sent_by_sentence_score</th>\n",
       "    </tr>\n",
       "  </thead>\n",
       "  <tbody>\n",
       "    <tr>\n",
       "      <th>0</th>\n",
       "      <td>1</td>\n",
       "      <td>Investors Use Indexes to Play in the Video Gam...</td>\n",
       "      <td>2019-07-12T12:00:06+0000</td>\n",
       "      <td>0.034000</td>\n",
       "      <td>0.3400</td>\n",
       "    </tr>\n",
       "    <tr>\n",
       "      <th>1</th>\n",
       "      <td>2</td>\n",
       "      <td>S&amp;P 500 Touches 3,000 as Investors See Rate Cu...</td>\n",
       "      <td>2019-07-10T14:21:49+0000</td>\n",
       "      <td>-0.024667</td>\n",
       "      <td>-0.2960</td>\n",
       "    </tr>\n",
       "    <tr>\n",
       "      <th>2</th>\n",
       "      <td>3</td>\n",
       "      <td>How the Department of Defense Bankrolled Silic...</td>\n",
       "      <td>2019-07-09T09:00:14+0000</td>\n",
       "      <td>0.016000</td>\n",
       "      <td>0.1280</td>\n",
       "    </tr>\n",
       "    <tr>\n",
       "      <th>3</th>\n",
       "      <td>4</td>\n",
       "      <td>Chanda Wong, Christopher Nickelson</td>\n",
       "      <td>2019-07-07T04:30:01+0000</td>\n",
       "      <td>0.000000</td>\n",
       "      <td>0.0000</td>\n",
       "    </tr>\n",
       "    <tr>\n",
       "      <th>4</th>\n",
       "      <td>5</td>\n",
       "      <td>A Failure Here, Damaged Fiber There and a Day ...</td>\n",
       "      <td>2019-07-03T00:42:03+0000</td>\n",
       "      <td>-0.079250</td>\n",
       "      <td>-0.7351</td>\n",
       "    </tr>\n",
       "  </tbody>\n",
       "</table>\n",
       "</div>"
      ],
      "text/plain": [
       "   item                                           headline  \\\n",
       "0     1  Investors Use Indexes to Play in the Video Gam...   \n",
       "1     2  S&P 500 Touches 3,000 as Investors See Rate Cu...   \n",
       "2     3  How the Department of Defense Bankrolled Silic...   \n",
       "3     4                 Chanda Wong, Christopher Nickelson   \n",
       "4     5  A Failure Here, Damaged Fiber There and a Day ...   \n",
       "\n",
       "                   pub_date  sent_by_word_score  sent_by_sentence_score  \n",
       "0  2019-07-12T12:00:06+0000            0.034000                  0.3400  \n",
       "1  2019-07-10T14:21:49+0000           -0.024667                 -0.2960  \n",
       "2  2019-07-09T09:00:14+0000            0.016000                  0.1280  \n",
       "3  2019-07-07T04:30:01+0000            0.000000                  0.0000  \n",
       "4  2019-07-03T00:42:03+0000           -0.079250                 -0.7351  "
      ]
     },
     "execution_count": 11,
     "metadata": {},
     "output_type": "execute_result"
    }
   ],
   "source": [
    "july.head()"
   ]
  },
  {
   "cell_type": "code",
   "execution_count": null,
   "metadata": {},
   "outputs": [],
   "source": []
  },
  {
   "cell_type": "code",
   "execution_count": 12,
   "metadata": {},
   "outputs": [],
   "source": [
    "june = getHeadlines(junb, june)"
   ]
  },
  {
   "cell_type": "code",
   "execution_count": 13,
   "metadata": {},
   "outputs": [],
   "source": [
    "results=headline_sentiment_summarizer_avg(june['headline'])\n",
    "june['sent_by_word_score']=results[0]\n",
    "june['sent_by_sentence_score']=results[1]"
   ]
  },
  {
   "cell_type": "code",
   "execution_count": 14,
   "metadata": {},
   "outputs": [
    {
     "data": {
      "text/html": [
       "<div>\n",
       "<style scoped>\n",
       "    .dataframe tbody tr th:only-of-type {\n",
       "        vertical-align: middle;\n",
       "    }\n",
       "\n",
       "    .dataframe tbody tr th {\n",
       "        vertical-align: top;\n",
       "    }\n",
       "\n",
       "    .dataframe thead th {\n",
       "        text-align: right;\n",
       "    }\n",
       "</style>\n",
       "<table border=\"1\" class=\"dataframe\">\n",
       "  <thead>\n",
       "    <tr style=\"text-align: right;\">\n",
       "      <th></th>\n",
       "      <th>item</th>\n",
       "      <th>headline</th>\n",
       "      <th>pub_date</th>\n",
       "      <th>sent_by_word_score</th>\n",
       "      <th>sent_by_sentence_score</th>\n",
       "    </tr>\n",
       "  </thead>\n",
       "  <tbody>\n",
       "    <tr>\n",
       "      <th>0</th>\n",
       "      <td>1</td>\n",
       "      <td>China Summons Tech Giants to Warn Against Coop...</td>\n",
       "      <td>2019-06-08T06:12:31+0000</td>\n",
       "      <td>-0.060009</td>\n",
       "      <td>-0.6124</td>\n",
       "    </tr>\n",
       "    <tr>\n",
       "      <th>1</th>\n",
       "      <td>2</td>\n",
       "      <td>Slack Stock Soars, Putting Company’s Public Va...</td>\n",
       "      <td>2019-06-20T16:19:04+0000</td>\n",
       "      <td>0.034000</td>\n",
       "      <td>0.3400</td>\n",
       "    </tr>\n",
       "    <tr>\n",
       "      <th>2</th>\n",
       "      <td>3</td>\n",
       "      <td>Letter of Recommendation: Bug Fixes</td>\n",
       "      <td>2019-06-11T09:00:04+0000</td>\n",
       "      <td>0.000000</td>\n",
       "      <td>0.0000</td>\n",
       "    </tr>\n",
       "    <tr>\n",
       "      <th>3</th>\n",
       "      <td>4</td>\n",
       "      <td>Election Rules Are an Obstacle to Cybersecurit...</td>\n",
       "      <td>2019-06-06T09:00:08+0000</td>\n",
       "      <td>-0.036120</td>\n",
       "      <td>-0.3612</td>\n",
       "    </tr>\n",
       "    <tr>\n",
       "      <th>4</th>\n",
       "      <td>5</td>\n",
       "      <td>Ben Horvath, Andrew Begel</td>\n",
       "      <td>2019-06-30T04:15:01+0000</td>\n",
       "      <td>0.000000</td>\n",
       "      <td>0.0000</td>\n",
       "    </tr>\n",
       "  </tbody>\n",
       "</table>\n",
       "</div>"
      ],
      "text/plain": [
       "   item                                           headline  \\\n",
       "0     1  China Summons Tech Giants to Warn Against Coop...   \n",
       "1     2  Slack Stock Soars, Putting Company’s Public Va...   \n",
       "2     3                Letter of Recommendation: Bug Fixes   \n",
       "3     4  Election Rules Are an Obstacle to Cybersecurit...   \n",
       "4     5                          Ben Horvath, Andrew Begel   \n",
       "\n",
       "                   pub_date  sent_by_word_score  sent_by_sentence_score  \n",
       "0  2019-06-08T06:12:31+0000           -0.060009                 -0.6124  \n",
       "1  2019-06-20T16:19:04+0000            0.034000                  0.3400  \n",
       "2  2019-06-11T09:00:04+0000            0.000000                  0.0000  \n",
       "3  2019-06-06T09:00:08+0000           -0.036120                 -0.3612  \n",
       "4  2019-06-30T04:15:01+0000            0.000000                  0.0000  "
      ]
     },
     "execution_count": 14,
     "metadata": {},
     "output_type": "execute_result"
    }
   ],
   "source": [
    "june.head()"
   ]
  },
  {
   "cell_type": "code",
   "execution_count": 16,
   "metadata": {},
   "outputs": [],
   "source": [
    "august = getHeadlines(augb, auge)"
   ]
  },
  {
   "cell_type": "code",
   "execution_count": 17,
   "metadata": {},
   "outputs": [],
   "source": [
    "results=headline_sentiment_summarizer_avg(august['headline'])\n",
    "august['sent_by_word_score']=results[0]\n",
    "august['sent_by_sentence_score']=results[1]"
   ]
  },
  {
   "cell_type": "code",
   "execution_count": 18,
   "metadata": {},
   "outputs": [
    {
     "data": {
      "text/html": [
       "<div>\n",
       "<style scoped>\n",
       "    .dataframe tbody tr th:only-of-type {\n",
       "        vertical-align: middle;\n",
       "    }\n",
       "\n",
       "    .dataframe tbody tr th {\n",
       "        vertical-align: top;\n",
       "    }\n",
       "\n",
       "    .dataframe thead th {\n",
       "        text-align: right;\n",
       "    }\n",
       "</style>\n",
       "<table border=\"1\" class=\"dataframe\">\n",
       "  <thead>\n",
       "    <tr style=\"text-align: right;\">\n",
       "      <th></th>\n",
       "      <th>item</th>\n",
       "      <th>headline</th>\n",
       "      <th>pub_date</th>\n",
       "      <th>sent_by_word_score</th>\n",
       "      <th>sent_by_sentence_score</th>\n",
       "    </tr>\n",
       "  </thead>\n",
       "  <tbody>\n",
       "    <tr>\n",
       "      <th>0</th>\n",
       "      <td>1</td>\n",
       "      <td>Is Spam Trying to Tell Us Something?</td>\n",
       "      <td>2019-08-20T20:40:33+0000</td>\n",
       "      <td>-0.051600</td>\n",
       "      <td>-0.3612</td>\n",
       "    </tr>\n",
       "    <tr>\n",
       "      <th>1</th>\n",
       "      <td>2</td>\n",
       "      <td>Dear Tech Workers, U.S. Service Members Need Y...</td>\n",
       "      <td>2019-08-28T10:00:05+0000</td>\n",
       "      <td>0.087078</td>\n",
       "      <td>0.6486</td>\n",
       "    </tr>\n",
       "    <tr>\n",
       "      <th>2</th>\n",
       "      <td>3</td>\n",
       "      <td>Make Your Own Animated Movies, Frame by Frame</td>\n",
       "      <td>2019-08-07T13:00:08+0000</td>\n",
       "      <td>0.000000</td>\n",
       "      <td>0.0000</td>\n",
       "    </tr>\n",
       "    <tr>\n",
       "      <th>3</th>\n",
       "      <td>4</td>\n",
       "      <td>DealBook Briefing: Les Wexner Says Jeffrey Eps...</td>\n",
       "      <td>2019-08-08T09:58:22+0000</td>\n",
       "      <td>0.000000</td>\n",
       "      <td>0.0000</td>\n",
       "    </tr>\n",
       "    <tr>\n",
       "      <th>4</th>\n",
       "      <td>5</td>\n",
       "      <td>A.I. Is Learning From Humans. Many Humans.</td>\n",
       "      <td>2019-08-16T15:51:11+0000</td>\n",
       "      <td>0.000000</td>\n",
       "      <td>0.0000</td>\n",
       "    </tr>\n",
       "  </tbody>\n",
       "</table>\n",
       "</div>"
      ],
      "text/plain": [
       "   item                                           headline  \\\n",
       "0     1               Is Spam Trying to Tell Us Something?   \n",
       "1     2  Dear Tech Workers, U.S. Service Members Need Y...   \n",
       "2     3      Make Your Own Animated Movies, Frame by Frame   \n",
       "3     4  DealBook Briefing: Les Wexner Says Jeffrey Eps...   \n",
       "4     5         A.I. Is Learning From Humans. Many Humans.   \n",
       "\n",
       "                   pub_date  sent_by_word_score  sent_by_sentence_score  \n",
       "0  2019-08-20T20:40:33+0000           -0.051600                 -0.3612  \n",
       "1  2019-08-28T10:00:05+0000            0.087078                  0.6486  \n",
       "2  2019-08-07T13:00:08+0000            0.000000                  0.0000  \n",
       "3  2019-08-08T09:58:22+0000            0.000000                  0.0000  \n",
       "4  2019-08-16T15:51:11+0000            0.000000                  0.0000  "
      ]
     },
     "execution_count": 18,
     "metadata": {},
     "output_type": "execute_result"
    }
   ],
   "source": [
    "august.head()"
   ]
  },
  {
   "cell_type": "code",
   "execution_count": 20,
   "metadata": {},
   "outputs": [],
   "source": [
    "september = getHeadlines(sepb, sepe)"
   ]
  },
  {
   "cell_type": "code",
   "execution_count": 21,
   "metadata": {},
   "outputs": [],
   "source": [
    "results=headline_sentiment_summarizer_avg(september['headline'])\n",
    "september['sent_by_word_score']=results[0]\n",
    "september['sent_by_sentence_score']=results[1]"
   ]
  },
  {
   "cell_type": "code",
   "execution_count": 22,
   "metadata": {},
   "outputs": [
    {
     "data": {
      "text/html": [
       "<div>\n",
       "<style scoped>\n",
       "    .dataframe tbody tr th:only-of-type {\n",
       "        vertical-align: middle;\n",
       "    }\n",
       "\n",
       "    .dataframe tbody tr th {\n",
       "        vertical-align: top;\n",
       "    }\n",
       "\n",
       "    .dataframe thead th {\n",
       "        text-align: right;\n",
       "    }\n",
       "</style>\n",
       "<table border=\"1\" class=\"dataframe\">\n",
       "  <thead>\n",
       "    <tr style=\"text-align: right;\">\n",
       "      <th></th>\n",
       "      <th>item</th>\n",
       "      <th>headline</th>\n",
       "      <th>pub_date</th>\n",
       "      <th>sent_by_word_score</th>\n",
       "      <th>sent_by_sentence_score</th>\n",
       "    </tr>\n",
       "  </thead>\n",
       "  <tbody>\n",
       "    <tr>\n",
       "      <th>0</th>\n",
       "      <td>1</td>\n",
       "      <td>Can You Draw This? Of Course You Can</td>\n",
       "      <td>2019-09-04T13:00:12+0000</td>\n",
       "      <td>0.000000</td>\n",
       "      <td>0.0000</td>\n",
       "    </tr>\n",
       "    <tr>\n",
       "      <th>1</th>\n",
       "      <td>2</td>\n",
       "      <td>China Lifts Tariffs on Some U.S. Goods in Mode...</td>\n",
       "      <td>2019-09-11T07:01:26+0000</td>\n",
       "      <td>0.000000</td>\n",
       "      <td>0.0000</td>\n",
       "    </tr>\n",
       "    <tr>\n",
       "      <th>2</th>\n",
       "      <td>3</td>\n",
       "      <td>The Inventions That Build a Better World</td>\n",
       "      <td>2019-09-06T10:05:48+0000</td>\n",
       "      <td>0.062914</td>\n",
       "      <td>0.4404</td>\n",
       "    </tr>\n",
       "    <tr>\n",
       "      <th>3</th>\n",
       "      <td>4</td>\n",
       "      <td>When Apps Get Your Medical Data, Your Privacy ...</td>\n",
       "      <td>2019-09-03T07:00:04+0000</td>\n",
       "      <td>0.000000</td>\n",
       "      <td>0.0000</td>\n",
       "    </tr>\n",
       "    <tr>\n",
       "      <th>4</th>\n",
       "      <td>5</td>\n",
       "      <td>A Breakthrough for A.I. Technology: Passing an...</td>\n",
       "      <td>2019-09-04T09:00:10+0000</td>\n",
       "      <td>0.000000</td>\n",
       "      <td>0.0000</td>\n",
       "    </tr>\n",
       "  </tbody>\n",
       "</table>\n",
       "</div>"
      ],
      "text/plain": [
       "   item                                           headline  \\\n",
       "0     1               Can You Draw This? Of Course You Can   \n",
       "1     2  China Lifts Tariffs on Some U.S. Goods in Mode...   \n",
       "2     3           The Inventions That Build a Better World   \n",
       "3     4  When Apps Get Your Medical Data, Your Privacy ...   \n",
       "4     5  A Breakthrough for A.I. Technology: Passing an...   \n",
       "\n",
       "                   pub_date  sent_by_word_score  sent_by_sentence_score  \n",
       "0  2019-09-04T13:00:12+0000            0.000000                  0.0000  \n",
       "1  2019-09-11T07:01:26+0000            0.000000                  0.0000  \n",
       "2  2019-09-06T10:05:48+0000            0.062914                  0.4404  \n",
       "3  2019-09-03T07:00:04+0000            0.000000                  0.0000  \n",
       "4  2019-09-04T09:00:10+0000            0.000000                  0.0000  "
      ]
     },
     "execution_count": 22,
     "metadata": {},
     "output_type": "execute_result"
    }
   ],
   "source": [
    "september.head()"
   ]
  },
  {
   "cell_type": "code",
   "execution_count": 25,
   "metadata": {},
   "outputs": [],
   "source": [
    "october = getHeadlines(octb, octe)"
   ]
  },
  {
   "cell_type": "code",
   "execution_count": 26,
   "metadata": {},
   "outputs": [],
   "source": [
    "results=headline_sentiment_summarizer_avg(october['headline'])\n",
    "october['sent_by_word_score']=results[0]\n",
    "october['sent_by_sentence_score']=results[1]"
   ]
  },
  {
   "cell_type": "code",
   "execution_count": 27,
   "metadata": {},
   "outputs": [
    {
     "data": {
      "text/html": [
       "<div>\n",
       "<style scoped>\n",
       "    .dataframe tbody tr th:only-of-type {\n",
       "        vertical-align: middle;\n",
       "    }\n",
       "\n",
       "    .dataframe tbody tr th {\n",
       "        vertical-align: top;\n",
       "    }\n",
       "\n",
       "    .dataframe thead th {\n",
       "        text-align: right;\n",
       "    }\n",
       "</style>\n",
       "<table border=\"1\" class=\"dataframe\">\n",
       "  <thead>\n",
       "    <tr style=\"text-align: right;\">\n",
       "      <th></th>\n",
       "      <th>item</th>\n",
       "      <th>headline</th>\n",
       "      <th>pub_date</th>\n",
       "      <th>sent_by_word_score</th>\n",
       "      <th>sent_by_sentence_score</th>\n",
       "    </tr>\n",
       "  </thead>\n",
       "  <tbody>\n",
       "    <tr>\n",
       "      <th>0</th>\n",
       "      <td>1</td>\n",
       "      <td>Google Wants Safeguards for Information in Ant...</td>\n",
       "      <td>2019-10-31T23:12:28+0000</td>\n",
       "      <td>-0.005225</td>\n",
       "      <td>-0.0516</td>\n",
       "    </tr>\n",
       "    <tr>\n",
       "      <th>1</th>\n",
       "      <td>2</td>\n",
       "      <td>The Luxury Battle Brewing Over Tiffany</td>\n",
       "      <td>2019-10-28T10:34:24+0000</td>\n",
       "      <td>-0.063633</td>\n",
       "      <td>-0.3818</td>\n",
       "    </tr>\n",
       "    <tr>\n",
       "      <th>2</th>\n",
       "      <td>3</td>\n",
       "      <td>Hating Comic Sans Is Not a Personality</td>\n",
       "      <td>2019-10-09T09:00:18+0000</td>\n",
       "      <td>-0.072943</td>\n",
       "      <td>-0.5106</td>\n",
       "    </tr>\n",
       "    <tr>\n",
       "      <th>3</th>\n",
       "      <td>4</td>\n",
       "      <td>Fund Managers Try Financial Planning as Indexi...</td>\n",
       "      <td>2019-10-11T09:00:15+0000</td>\n",
       "      <td>0.016044</td>\n",
       "      <td>0.1779</td>\n",
       "    </tr>\n",
       "    <tr>\n",
       "      <th>4</th>\n",
       "      <td>5</td>\n",
       "      <td>Typhoon Hagibis, Islamic State, Hong Kong: You...</td>\n",
       "      <td>2019-10-13T20:14:18+0000</td>\n",
       "      <td>0.000000</td>\n",
       "      <td>0.0000</td>\n",
       "    </tr>\n",
       "  </tbody>\n",
       "</table>\n",
       "</div>"
      ],
      "text/plain": [
       "   item                                           headline  \\\n",
       "0     1  Google Wants Safeguards for Information in Ant...   \n",
       "1     2             The Luxury Battle Brewing Over Tiffany   \n",
       "2     3             Hating Comic Sans Is Not a Personality   \n",
       "3     4  Fund Managers Try Financial Planning as Indexi...   \n",
       "4     5  Typhoon Hagibis, Islamic State, Hong Kong: You...   \n",
       "\n",
       "                   pub_date  sent_by_word_score  sent_by_sentence_score  \n",
       "0  2019-10-31T23:12:28+0000           -0.005225                 -0.0516  \n",
       "1  2019-10-28T10:34:24+0000           -0.063633                 -0.3818  \n",
       "2  2019-10-09T09:00:18+0000           -0.072943                 -0.5106  \n",
       "3  2019-10-11T09:00:15+0000            0.016044                  0.1779  \n",
       "4  2019-10-13T20:14:18+0000            0.000000                  0.0000  "
      ]
     },
     "execution_count": 27,
     "metadata": {},
     "output_type": "execute_result"
    }
   ],
   "source": [
    "october.head()"
   ]
  },
  {
   "cell_type": "code",
   "execution_count": 29,
   "metadata": {},
   "outputs": [],
   "source": [
    "november = getHeadlines(novb, nove)"
   ]
  },
  {
   "cell_type": "code",
   "execution_count": 30,
   "metadata": {},
   "outputs": [],
   "source": [
    "results=headline_sentiment_summarizer_avg(november['headline'])\n",
    "november['sent_by_word_score']=results[0]\n",
    "november['sent_by_sentence_score']=results[1]"
   ]
  },
  {
   "cell_type": "code",
   "execution_count": 31,
   "metadata": {},
   "outputs": [
    {
     "data": {
      "text/html": [
       "<div>\n",
       "<style scoped>\n",
       "    .dataframe tbody tr th:only-of-type {\n",
       "        vertical-align: middle;\n",
       "    }\n",
       "\n",
       "    .dataframe tbody tr th {\n",
       "        vertical-align: top;\n",
       "    }\n",
       "\n",
       "    .dataframe thead th {\n",
       "        text-align: right;\n",
       "    }\n",
       "</style>\n",
       "<table border=\"1\" class=\"dataframe\">\n",
       "  <thead>\n",
       "    <tr style=\"text-align: right;\">\n",
       "      <th></th>\n",
       "      <th>item</th>\n",
       "      <th>headline</th>\n",
       "      <th>pub_date</th>\n",
       "      <th>sent_by_word_score</th>\n",
       "      <th>sent_by_sentence_score</th>\n",
       "    </tr>\n",
       "  </thead>\n",
       "  <tbody>\n",
       "    <tr>\n",
       "      <th>0</th>\n",
       "      <td>1</td>\n",
       "      <td>Bill Gates Objects to Elizabeth Warren’s Wealt...</td>\n",
       "      <td>2019-11-07T15:36:12+0000</td>\n",
       "      <td>0.037992</td>\n",
       "      <td>0.4939</td>\n",
       "    </tr>\n",
       "    <tr>\n",
       "      <th>1</th>\n",
       "      <td>2</td>\n",
       "      <td>The Billionaires Are Getting Nervous</td>\n",
       "      <td>2019-11-08T11:00:10+0000</td>\n",
       "      <td>-0.054640</td>\n",
       "      <td>-0.2732</td>\n",
       "    </tr>\n",
       "    <tr>\n",
       "      <th>2</th>\n",
       "      <td>3</td>\n",
       "      <td>DealBook: U.S. Companies, Ranked by What Ameri...</td>\n",
       "      <td>2019-11-12T11:14:31+0000</td>\n",
       "      <td>0.042500</td>\n",
       "      <td>0.3400</td>\n",
       "    </tr>\n",
       "    <tr>\n",
       "      <th>3</th>\n",
       "      <td>4</td>\n",
       "      <td>Google to Store and Analyze Millions of Health...</td>\n",
       "      <td>2019-11-12T00:34:36+0000</td>\n",
       "      <td>0.000000</td>\n",
       "      <td>0.0000</td>\n",
       "    </tr>\n",
       "    <tr>\n",
       "      <th>4</th>\n",
       "      <td>5</td>\n",
       "      <td>What if You Had a Four-Day Week? Why Don’t You?</td>\n",
       "      <td>2019-11-08T11:00:11+0000</td>\n",
       "      <td>0.000000</td>\n",
       "      <td>0.0000</td>\n",
       "    </tr>\n",
       "  </tbody>\n",
       "</table>\n",
       "</div>"
      ],
      "text/plain": [
       "   item                                           headline  \\\n",
       "0     1  Bill Gates Objects to Elizabeth Warren’s Wealt...   \n",
       "1     2               The Billionaires Are Getting Nervous   \n",
       "2     3  DealBook: U.S. Companies, Ranked by What Ameri...   \n",
       "3     4  Google to Store and Analyze Millions of Health...   \n",
       "4     5    What if You Had a Four-Day Week? Why Don’t You?   \n",
       "\n",
       "                   pub_date  sent_by_word_score  sent_by_sentence_score  \n",
       "0  2019-11-07T15:36:12+0000            0.037992                  0.4939  \n",
       "1  2019-11-08T11:00:10+0000           -0.054640                 -0.2732  \n",
       "2  2019-11-12T11:14:31+0000            0.042500                  0.3400  \n",
       "3  2019-11-12T00:34:36+0000            0.000000                  0.0000  \n",
       "4  2019-11-08T11:00:11+0000            0.000000                  0.0000  "
      ]
     },
     "execution_count": 31,
     "metadata": {},
     "output_type": "execute_result"
    }
   ],
   "source": [
    "november.head()"
   ]
  },
  {
   "cell_type": "code",
   "execution_count": 33,
   "metadata": {},
   "outputs": [],
   "source": [
    "december = getHeadlines(decb, dece)"
   ]
  },
  {
   "cell_type": "code",
   "execution_count": 34,
   "metadata": {},
   "outputs": [],
   "source": [
    "results=headline_sentiment_summarizer_avg(december['headline'])\n",
    "december['sent_by_word_score']=results[0]\n",
    "december['sent_by_sentence_score']=results[1]"
   ]
  },
  {
   "cell_type": "code",
   "execution_count": 35,
   "metadata": {},
   "outputs": [
    {
     "data": {
      "text/html": [
       "<div>\n",
       "<style scoped>\n",
       "    .dataframe tbody tr th:only-of-type {\n",
       "        vertical-align: middle;\n",
       "    }\n",
       "\n",
       "    .dataframe tbody tr th {\n",
       "        vertical-align: top;\n",
       "    }\n",
       "\n",
       "    .dataframe thead th {\n",
       "        text-align: right;\n",
       "    }\n",
       "</style>\n",
       "<table border=\"1\" class=\"dataframe\">\n",
       "  <thead>\n",
       "    <tr style=\"text-align: right;\">\n",
       "      <th></th>\n",
       "      <th>item</th>\n",
       "      <th>headline</th>\n",
       "      <th>pub_date</th>\n",
       "      <th>sent_by_word_score</th>\n",
       "      <th>sent_by_sentence_score</th>\n",
       "    </tr>\n",
       "  </thead>\n",
       "  <tbody>\n",
       "    <tr>\n",
       "      <th>0</th>\n",
       "      <td>1</td>\n",
       "      <td>Stocks Are on the Verge of the Best Year Since...</td>\n",
       "      <td>2019-12-27T20:57:14+0000</td>\n",
       "      <td>0.057900</td>\n",
       "      <td>0.6369</td>\n",
       "    </tr>\n",
       "    <tr>\n",
       "      <th>1</th>\n",
       "      <td>2</td>\n",
       "      <td>Era Ends for Google as Founders Step Aside Fro...</td>\n",
       "      <td>2019-12-03T21:47:40+0000</td>\n",
       "      <td>0.000000</td>\n",
       "      <td>0.0000</td>\n",
       "    </tr>\n",
       "    <tr>\n",
       "      <th>2</th>\n",
       "      <td>3</td>\n",
       "      <td>Twelve Million Phones, One Dataset, Zero Privacy</td>\n",
       "      <td>2019-12-19T10:01:03+0000</td>\n",
       "      <td>0.000000</td>\n",
       "      <td>0.0000</td>\n",
       "    </tr>\n",
       "    <tr>\n",
       "      <th>3</th>\n",
       "      <td>4</td>\n",
       "      <td>There Is a Reason Tech Isn’t Safe</td>\n",
       "      <td>2019-12-13T11:00:07+0000</td>\n",
       "      <td>0.062914</td>\n",
       "      <td>0.4404</td>\n",
       "    </tr>\n",
       "    <tr>\n",
       "      <th>4</th>\n",
       "      <td>5</td>\n",
       "      <td>University of Phoenix Cancels $141 Million in ...</td>\n",
       "      <td>2019-12-10T20:34:42+0000</td>\n",
       "      <td>-0.053409</td>\n",
       "      <td>-0.5267</td>\n",
       "    </tr>\n",
       "  </tbody>\n",
       "</table>\n",
       "</div>"
      ],
      "text/plain": [
       "   item                                           headline  \\\n",
       "0     1  Stocks Are on the Verge of the Best Year Since...   \n",
       "1     2  Era Ends for Google as Founders Step Aside Fro...   \n",
       "2     3   Twelve Million Phones, One Dataset, Zero Privacy   \n",
       "3     4                  There Is a Reason Tech Isn’t Safe   \n",
       "4     5  University of Phoenix Cancels $141 Million in ...   \n",
       "\n",
       "                   pub_date  sent_by_word_score  sent_by_sentence_score  \n",
       "0  2019-12-27T20:57:14+0000            0.057900                  0.6369  \n",
       "1  2019-12-03T21:47:40+0000            0.000000                  0.0000  \n",
       "2  2019-12-19T10:01:03+0000            0.000000                  0.0000  \n",
       "3  2019-12-13T11:00:07+0000            0.062914                  0.4404  \n",
       "4  2019-12-10T20:34:42+0000           -0.053409                 -0.5267  "
      ]
     },
     "execution_count": 35,
     "metadata": {},
     "output_type": "execute_result"
    }
   ],
   "source": [
    "december.head()"
   ]
  },
  {
   "cell_type": "code",
   "execution_count": 36,
   "metadata": {},
   "outputs": [],
   "source": [
    "microsoft_months = pd.concat([june, july, august, september, october, november, december])"
   ]
  },
  {
   "cell_type": "code",
   "execution_count": 37,
   "metadata": {},
   "outputs": [],
   "source": [
    "microsoft_months.to_pickle('MicrosoftSentimentMonths.pickle')"
   ]
  },
  {
   "cell_type": "code",
   "execution_count": null,
   "metadata": {},
   "outputs": [],
   "source": []
  },
  {
   "cell_type": "code",
   "execution_count": null,
   "metadata": {},
   "outputs": [],
   "source": []
  },
  {
   "cell_type": "code",
   "execution_count": null,
   "metadata": {},
   "outputs": [],
   "source": []
  },
  {
   "cell_type": "code",
   "execution_count": null,
   "metadata": {},
   "outputs": [],
   "source": []
  },
  {
   "cell_type": "code",
   "execution_count": null,
   "metadata": {},
   "outputs": [],
   "source": []
  },
  {
   "cell_type": "code",
   "execution_count": null,
   "metadata": {},
   "outputs": [],
   "source": []
  },
  {
   "cell_type": "code",
   "execution_count": null,
   "metadata": {},
   "outputs": [],
   "source": []
  },
  {
   "cell_type": "code",
   "execution_count": null,
   "metadata": {},
   "outputs": [],
   "source": [
    "# df.to_pickle('AppleSentiment.pickle')"
   ]
  }
 ],
 "metadata": {
  "kernelspec": {
   "display_name": "Python 3",
   "language": "python",
   "name": "python3"
  },
  "language_info": {
   "codemirror_mode": {
    "name": "ipython",
    "version": 3
   },
   "file_extension": ".py",
   "mimetype": "text/x-python",
   "name": "python",
   "nbconvert_exporter": "python",
   "pygments_lexer": "ipython3",
   "version": "3.8.3"
  }
 },
 "nbformat": 4,
 "nbformat_minor": 4
}
