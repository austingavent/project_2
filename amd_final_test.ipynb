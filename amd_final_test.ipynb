{
 "cells": [
  {
   "cell_type": "code",
   "execution_count": 11,
   "metadata": {},
   "outputs": [],
   "source": [
    "import pandas as pd\n",
    "import numpy as np\n",
    "import datetime as dt\n",
    "from pathlib import Path\n",
    "from datetime import datetime, timedelta\n",
    "%matplotlib inline\n",
    "import yfinance as yf\n",
    "import mibian as mb"
   ]
  },
  {
   "cell_type": "code",
   "execution_count": 12,
   "metadata": {},
   "outputs": [],
   "source": [
    "amd_df = pd.read_pickle('amd_merged.pickle')"
   ]
  },
  {
   "cell_type": "code",
   "execution_count": 13,
   "metadata": {},
   "outputs": [],
   "source": [
    "df = amd_df\n",
    "df = df.drop(columns= ['LastPrice', 'Symbol', 'Volume', 'OpenInterest', 'Volume'])\n",
    "#df['OptionKey'] =df['OptionKey'].map(lambda x: str(x)[:-10])\n"
   ]
  },
  {
   "cell_type": "code",
   "execution_count": 14,
   "metadata": {},
   "outputs": [],
   "source": [
    "df['ExpirationDate'] =  pd.to_datetime(df['ExpirationDate'], infer_datetime_format=True)\n",
    "df['DataDate'] =  pd.to_datetime(df['DataDate'], infer_datetime_format=True)\n",
    "df['delta'] = df['ExpirationDate'] - df['DataDate']\n",
    "\n",
    "df['exp?'] =df['ExpirationDate'] ==df['DataDate']\n",
    "df['long_close'] = ((df['delta'] < np.timedelta64(14, 'D')) & (df['% out'] > -.1) & (df['% out'] < 0))\n",
    "df['long_medium'] = ((df['delta'] < np.timedelta64(14, 'D')) & (df['% out'] > -.2) & (df['% out'] < -.1))\n",
    "df['long_far'] = ((df['delta'] < np.timedelta64(14, 'D')) & (df['% out'] > -.3) & (df['% out'] < -.2))\n",
    "df['short_close'] = ((df['delta'] < np.timedelta64(8, 'D')) & (df['% out'] > -.1) & (df['% out'] < 0))\n",
    "df['short_medium'] = ((df['delta'] < np.timedelta64(8, 'D')) & (df['% out'] > -.2) & (df['% out'] < -.1))\n",
    "df['short_far'] = ((df['delta'] < np.timedelta64(8, 'D')) & (df['% out'] > -.3) & (df['% out'] < -.2))\n",
    "\n",
    "#df['collatarel'] = ((df['delta'] < np.timedelta64(14, 'D')) & (df['% out'] > -.4) & (df['% out'] < -.2))\n",
    "df['Signal'] = np.random.randint(-1,2, df.shape[0])\n",
    "#df.loc[(df['Signal'] == 1) & (df['worth_it'] == True), 'execute']=df.loc[(df['Signal'] == 1) & (df['worth_it'] == True), 'AskPrice']\n",
    "#df['enter?'] = (df['worth_it'] == True) & (df['Signal'] == 1)\n",
    "#df.loc[df['enter?'] == True]\n",
    "pd.set_option('display.max_columns', 30)"
   ]
  },
  {
   "cell_type": "code",
   "execution_count": 15,
   "metadata": {},
   "outputs": [
    {
     "data": {
      "text/plain": [
       "424"
      ]
     },
     "execution_count": 15,
     "metadata": {},
     "output_type": "execute_result"
    }
   ],
   "source": [
    "df_table=df.loc[:, ['OptionKey', 'BidPrice']]\n",
    "df_table=df_table.reset_index()\n",
    "df_table.columns=['PriceDate', 'OptionKey', 'RebuyPrice']\n",
    "df_table['RebuyPrice'].nunique()"
   ]
  },
  {
   "cell_type": "code",
   "execution_count": 16,
   "metadata": {},
   "outputs": [],
   "source": [
    "#msft_df_table['PriceDate'] =  pd.to_datetime(msft_df_table['PriceDate'], infer_datetime_format=True)\n",
    "#msft_result = pd.merge(msft_df, msft_df_table, left_on=['ExpirationDate', 'OptionKey'], right_on=['PriceDate', 'OptionKey'], how='left')\n",
    "#msft_result"
   ]
  },
  {
   "cell_type": "code",
   "execution_count": 17,
   "metadata": {},
   "outputs": [],
   "source": [
    "#ok=msft_result.columns.values.tolist()\n",
    "#for column_name in ok:\n",
    " #  print(msft_result['RebuyPrice'].unique())"
   ]
  },
  {
   "cell_type": "code",
   "execution_count": 18,
   "metadata": {},
   "outputs": [],
   "source": [
    "#exp = (df.loc[df['exp?'] == True], "
   ]
  },
  {
   "cell_type": "code",
   "execution_count": 19,
   "metadata": {},
   "outputs": [
    {
     "data": {
      "text/html": [
       "<div>\n",
       "<style scoped>\n",
       "    .dataframe tbody tr th:only-of-type {\n",
       "        vertical-align: middle;\n",
       "    }\n",
       "\n",
       "    .dataframe tbody tr th {\n",
       "        vertical-align: top;\n",
       "    }\n",
       "\n",
       "    .dataframe thead th {\n",
       "        text-align: right;\n",
       "    }\n",
       "</style>\n",
       "<table border=\"1\" class=\"dataframe\">\n",
       "  <thead>\n",
       "    <tr style=\"text-align: right;\">\n",
       "      <th></th>\n",
       "      <th>OptionKey</th>\n",
       "      <th>xp</th>\n",
       "    </tr>\n",
       "  </thead>\n",
       "  <tbody>\n",
       "    <tr>\n",
       "      <th>2019-11-15</th>\n",
       "      <td>AMD2019-11-15P23.00</td>\n",
       "      <td>0.01</td>\n",
       "    </tr>\n",
       "    <tr>\n",
       "      <th>2019-11-15</th>\n",
       "      <td>AMD2019-11-15P24.00</td>\n",
       "      <td>0.01</td>\n",
       "    </tr>\n",
       "    <tr>\n",
       "      <th>2019-11-15</th>\n",
       "      <td>AMD2019-11-15P25.00</td>\n",
       "      <td>0.01</td>\n",
       "    </tr>\n",
       "    <tr>\n",
       "      <th>2019-11-15</th>\n",
       "      <td>AMD2019-11-15P26.00</td>\n",
       "      <td>0.01</td>\n",
       "    </tr>\n",
       "    <tr>\n",
       "      <th>2019-11-15</th>\n",
       "      <td>AMD2019-11-15P27.00</td>\n",
       "      <td>0.01</td>\n",
       "    </tr>\n",
       "    <tr>\n",
       "      <th>...</th>\n",
       "      <td>...</td>\n",
       "      <td>...</td>\n",
       "    </tr>\n",
       "    <tr>\n",
       "      <th>2019-12-13</th>\n",
       "      <td>AMD2019-12-13P43.50</td>\n",
       "      <td>2.39</td>\n",
       "    </tr>\n",
       "    <tr>\n",
       "      <th>2019-12-13</th>\n",
       "      <td>AMD2019-12-13P44.00</td>\n",
       "      <td>2.89</td>\n",
       "    </tr>\n",
       "    <tr>\n",
       "      <th>2019-12-13</th>\n",
       "      <td>AMD2019-12-13P44.50</td>\n",
       "      <td>3.40</td>\n",
       "    </tr>\n",
       "    <tr>\n",
       "      <th>2019-12-13</th>\n",
       "      <td>AMD2019-12-13P45.00</td>\n",
       "      <td>4.00</td>\n",
       "    </tr>\n",
       "    <tr>\n",
       "      <th>2019-12-13</th>\n",
       "      <td>AMD2019-12-13P46.00</td>\n",
       "      <td>4.95</td>\n",
       "    </tr>\n",
       "  </tbody>\n",
       "</table>\n",
       "<p>118 rows × 2 columns</p>\n",
       "</div>"
      ],
      "text/plain": [
       "                      OptionKey    xp\n",
       "2019-11-15  AMD2019-11-15P23.00  0.01\n",
       "2019-11-15  AMD2019-11-15P24.00  0.01\n",
       "2019-11-15  AMD2019-11-15P25.00  0.01\n",
       "2019-11-15  AMD2019-11-15P26.00  0.01\n",
       "2019-11-15  AMD2019-11-15P27.00  0.01\n",
       "...                         ...   ...\n",
       "2019-12-13  AMD2019-12-13P43.50  2.39\n",
       "2019-12-13  AMD2019-12-13P44.00  2.89\n",
       "2019-12-13  AMD2019-12-13P44.50  3.40\n",
       "2019-12-13  AMD2019-12-13P45.00  4.00\n",
       "2019-12-13  AMD2019-12-13P46.00  4.95\n",
       "\n",
       "[118 rows x 2 columns]"
      ]
     },
     "execution_count": 19,
     "metadata": {},
     "output_type": "execute_result"
    }
   ],
   "source": [
    "xp = df\n",
    "xp.loc[xp['exp?']== True, 'xp' ] = xp.loc[df['exp?'] == True, 'AskPrice']\n",
    "xp = xp.loc[xp['exp?']== True]\n",
    "xp= xp[['OptionKey', 'xp']]\n",
    "xp"
   ]
  },
  {
   "cell_type": "code",
   "execution_count": 20,
   "metadata": {},
   "outputs": [],
   "source": [
    "#mf = exp\n",
    "#mf = mf[['OptionKey', 'xp']]\n",
    "#mf = mf.dropna()\n",
    "#mf\n",
    "#msft_xp"
   ]
  },
  {
   "cell_type": "code",
   "execution_count": 21,
   "metadata": {},
   "outputs": [
    {
     "data": {
      "text/html": [
       "<div>\n",
       "<style scoped>\n",
       "    .dataframe tbody tr th:only-of-type {\n",
       "        vertical-align: middle;\n",
       "    }\n",
       "\n",
       "    .dataframe tbody tr th {\n",
       "        vertical-align: top;\n",
       "    }\n",
       "\n",
       "    .dataframe thead th {\n",
       "        text-align: right;\n",
       "    }\n",
       "</style>\n",
       "<table border=\"1\" class=\"dataframe\">\n",
       "  <thead>\n",
       "    <tr style=\"text-align: right;\">\n",
       "      <th></th>\n",
       "      <th>OptionKey</th>\n",
       "      <th>ExpirationDate</th>\n",
       "      <th>AskPrice</th>\n",
       "      <th>BidPrice</th>\n",
       "      <th>PutCall</th>\n",
       "      <th>StrikePrice</th>\n",
       "      <th>UnderlyingPrice</th>\n",
       "      <th>DataDate</th>\n",
       "      <th>time delta</th>\n",
       "      <th>% out</th>\n",
       "      <th>LSTM Predicted Signal</th>\n",
       "      <th>RF Predicted Value</th>\n",
       "      <th>LSTM OTM Cr Entry</th>\n",
       "      <th>RF OTM Cr Entry</th>\n",
       "      <th>Bid Price</th>\n",
       "      <th>delta</th>\n",
       "      <th>exp?</th>\n",
       "      <th>long_close</th>\n",
       "      <th>long_medium</th>\n",
       "      <th>long_far</th>\n",
       "      <th>short_close</th>\n",
       "      <th>short_medium</th>\n",
       "      <th>short_far</th>\n",
       "      <th>Signal</th>\n",
       "      <th>xp</th>\n",
       "    </tr>\n",
       "  </thead>\n",
       "  <tbody>\n",
       "    <tr>\n",
       "      <th>2019-11-15</th>\n",
       "      <td>AMD2019-11-15P23.00</td>\n",
       "      <td>2019-11-15</td>\n",
       "      <td>0.01</td>\n",
       "      <td>0.00</td>\n",
       "      <td>put</td>\n",
       "      <td>23.0</td>\n",
       "      <td>38.56</td>\n",
       "      <td>2019-11-15</td>\n",
       "      <td>0 days</td>\n",
       "      <td>-0.403527</td>\n",
       "      <td>1</td>\n",
       "      <td>1</td>\n",
       "      <td>0.0</td>\n",
       "      <td>0.0</td>\n",
       "      <td>0.0</td>\n",
       "      <td>0 days</td>\n",
       "      <td>True</td>\n",
       "      <td>False</td>\n",
       "      <td>False</td>\n",
       "      <td>False</td>\n",
       "      <td>False</td>\n",
       "      <td>False</td>\n",
       "      <td>False</td>\n",
       "      <td>-1</td>\n",
       "      <td>0.01</td>\n",
       "    </tr>\n",
       "    <tr>\n",
       "      <th>2019-11-12</th>\n",
       "      <td>AMD2019-11-15P24.00</td>\n",
       "      <td>2019-11-15</td>\n",
       "      <td>0.01</td>\n",
       "      <td>0.00</td>\n",
       "      <td>put</td>\n",
       "      <td>24.0</td>\n",
       "      <td>36.71</td>\n",
       "      <td>2019-11-12</td>\n",
       "      <td>3 days</td>\n",
       "      <td>-0.346227</td>\n",
       "      <td>1</td>\n",
       "      <td>1</td>\n",
       "      <td>0.0</td>\n",
       "      <td>0.0</td>\n",
       "      <td>0.0</td>\n",
       "      <td>3 days</td>\n",
       "      <td>False</td>\n",
       "      <td>False</td>\n",
       "      <td>False</td>\n",
       "      <td>False</td>\n",
       "      <td>False</td>\n",
       "      <td>False</td>\n",
       "      <td>False</td>\n",
       "      <td>0</td>\n",
       "      <td>0.01</td>\n",
       "    </tr>\n",
       "    <tr>\n",
       "      <th>2019-11-15</th>\n",
       "      <td>AMD2019-11-15P24.00</td>\n",
       "      <td>2019-11-15</td>\n",
       "      <td>0.01</td>\n",
       "      <td>0.00</td>\n",
       "      <td>put</td>\n",
       "      <td>24.0</td>\n",
       "      <td>38.56</td>\n",
       "      <td>2019-11-15</td>\n",
       "      <td>0 days</td>\n",
       "      <td>-0.377593</td>\n",
       "      <td>1</td>\n",
       "      <td>1</td>\n",
       "      <td>0.0</td>\n",
       "      <td>0.0</td>\n",
       "      <td>0.0</td>\n",
       "      <td>0 days</td>\n",
       "      <td>True</td>\n",
       "      <td>False</td>\n",
       "      <td>False</td>\n",
       "      <td>False</td>\n",
       "      <td>False</td>\n",
       "      <td>False</td>\n",
       "      <td>False</td>\n",
       "      <td>1</td>\n",
       "      <td>0.01</td>\n",
       "    </tr>\n",
       "    <tr>\n",
       "      <th>2019-11-12</th>\n",
       "      <td>AMD2019-11-15P25.00</td>\n",
       "      <td>2019-11-15</td>\n",
       "      <td>0.01</td>\n",
       "      <td>0.00</td>\n",
       "      <td>put</td>\n",
       "      <td>25.0</td>\n",
       "      <td>36.71</td>\n",
       "      <td>2019-11-12</td>\n",
       "      <td>3 days</td>\n",
       "      <td>-0.318987</td>\n",
       "      <td>1</td>\n",
       "      <td>1</td>\n",
       "      <td>0.0</td>\n",
       "      <td>0.0</td>\n",
       "      <td>0.0</td>\n",
       "      <td>3 days</td>\n",
       "      <td>False</td>\n",
       "      <td>False</td>\n",
       "      <td>False</td>\n",
       "      <td>False</td>\n",
       "      <td>False</td>\n",
       "      <td>False</td>\n",
       "      <td>False</td>\n",
       "      <td>1</td>\n",
       "      <td>0.01</td>\n",
       "    </tr>\n",
       "    <tr>\n",
       "      <th>2019-11-15</th>\n",
       "      <td>AMD2019-11-15P25.00</td>\n",
       "      <td>2019-11-15</td>\n",
       "      <td>0.01</td>\n",
       "      <td>0.00</td>\n",
       "      <td>put</td>\n",
       "      <td>25.0</td>\n",
       "      <td>38.56</td>\n",
       "      <td>2019-11-15</td>\n",
       "      <td>0 days</td>\n",
       "      <td>-0.351660</td>\n",
       "      <td>1</td>\n",
       "      <td>1</td>\n",
       "      <td>0.0</td>\n",
       "      <td>0.0</td>\n",
       "      <td>0.0</td>\n",
       "      <td>0 days</td>\n",
       "      <td>True</td>\n",
       "      <td>False</td>\n",
       "      <td>False</td>\n",
       "      <td>False</td>\n",
       "      <td>False</td>\n",
       "      <td>False</td>\n",
       "      <td>False</td>\n",
       "      <td>0</td>\n",
       "      <td>0.01</td>\n",
       "    </tr>\n",
       "    <tr>\n",
       "      <th>...</th>\n",
       "      <td>...</td>\n",
       "      <td>...</td>\n",
       "      <td>...</td>\n",
       "      <td>...</td>\n",
       "      <td>...</td>\n",
       "      <td>...</td>\n",
       "      <td>...</td>\n",
       "      <td>...</td>\n",
       "      <td>...</td>\n",
       "      <td>...</td>\n",
       "      <td>...</td>\n",
       "      <td>...</td>\n",
       "      <td>...</td>\n",
       "      <td>...</td>\n",
       "      <td>...</td>\n",
       "      <td>...</td>\n",
       "      <td>...</td>\n",
       "      <td>...</td>\n",
       "      <td>...</td>\n",
       "      <td>...</td>\n",
       "      <td>...</td>\n",
       "      <td>...</td>\n",
       "      <td>...</td>\n",
       "      <td>...</td>\n",
       "      <td>...</td>\n",
       "    </tr>\n",
       "    <tr>\n",
       "      <th>2019-11-25</th>\n",
       "      <td>AMD2019-12-27P50.00</td>\n",
       "      <td>2019-12-27</td>\n",
       "      <td>10.35</td>\n",
       "      <td>10.15</td>\n",
       "      <td>put</td>\n",
       "      <td>50.0</td>\n",
       "      <td>39.79</td>\n",
       "      <td>2019-11-25</td>\n",
       "      <td>32 days</td>\n",
       "      <td>0.256597</td>\n",
       "      <td>-1</td>\n",
       "      <td>0</td>\n",
       "      <td>0.0</td>\n",
       "      <td>0.0</td>\n",
       "      <td>1015.0</td>\n",
       "      <td>32 days</td>\n",
       "      <td>False</td>\n",
       "      <td>False</td>\n",
       "      <td>False</td>\n",
       "      <td>False</td>\n",
       "      <td>False</td>\n",
       "      <td>False</td>\n",
       "      <td>False</td>\n",
       "      <td>-1</td>\n",
       "      <td>NaN</td>\n",
       "    </tr>\n",
       "    <tr>\n",
       "      <th>2019-12-02</th>\n",
       "      <td>AMD2019-12-27P50.00</td>\n",
       "      <td>2019-12-27</td>\n",
       "      <td>11.40</td>\n",
       "      <td>11.20</td>\n",
       "      <td>put</td>\n",
       "      <td>50.0</td>\n",
       "      <td>38.73</td>\n",
       "      <td>2019-12-02</td>\n",
       "      <td>25 days</td>\n",
       "      <td>0.290989</td>\n",
       "      <td>-1</td>\n",
       "      <td>0</td>\n",
       "      <td>0.0</td>\n",
       "      <td>0.0</td>\n",
       "      <td>1120.0</td>\n",
       "      <td>25 days</td>\n",
       "      <td>False</td>\n",
       "      <td>False</td>\n",
       "      <td>False</td>\n",
       "      <td>False</td>\n",
       "      <td>False</td>\n",
       "      <td>False</td>\n",
       "      <td>False</td>\n",
       "      <td>0</td>\n",
       "      <td>NaN</td>\n",
       "    </tr>\n",
       "    <tr>\n",
       "      <th>2019-12-03</th>\n",
       "      <td>AMD2019-12-27P50.00</td>\n",
       "      <td>2019-12-27</td>\n",
       "      <td>11.20</td>\n",
       "      <td>11.00</td>\n",
       "      <td>put</td>\n",
       "      <td>50.0</td>\n",
       "      <td>38.90</td>\n",
       "      <td>2019-12-03</td>\n",
       "      <td>24 days</td>\n",
       "      <td>0.285347</td>\n",
       "      <td>-1</td>\n",
       "      <td>0</td>\n",
       "      <td>0.0</td>\n",
       "      <td>0.0</td>\n",
       "      <td>1100.0</td>\n",
       "      <td>24 days</td>\n",
       "      <td>False</td>\n",
       "      <td>False</td>\n",
       "      <td>False</td>\n",
       "      <td>False</td>\n",
       "      <td>False</td>\n",
       "      <td>False</td>\n",
       "      <td>False</td>\n",
       "      <td>-1</td>\n",
       "      <td>NaN</td>\n",
       "    </tr>\n",
       "    <tr>\n",
       "      <th>2019-12-16</th>\n",
       "      <td>AMD2019-12-27P50.00</td>\n",
       "      <td>2019-12-27</td>\n",
       "      <td>7.80</td>\n",
       "      <td>7.60</td>\n",
       "      <td>put</td>\n",
       "      <td>50.0</td>\n",
       "      <td>42.35</td>\n",
       "      <td>2019-12-16</td>\n",
       "      <td>11 days</td>\n",
       "      <td>0.180638</td>\n",
       "      <td>1</td>\n",
       "      <td>1</td>\n",
       "      <td>780.0</td>\n",
       "      <td>780.0</td>\n",
       "      <td>760.0</td>\n",
       "      <td>11 days</td>\n",
       "      <td>False</td>\n",
       "      <td>False</td>\n",
       "      <td>False</td>\n",
       "      <td>False</td>\n",
       "      <td>False</td>\n",
       "      <td>False</td>\n",
       "      <td>False</td>\n",
       "      <td>1</td>\n",
       "      <td>NaN</td>\n",
       "    </tr>\n",
       "    <tr>\n",
       "      <th>2019-12-17</th>\n",
       "      <td>AMD2019-12-27P50.00</td>\n",
       "      <td>2019-12-27</td>\n",
       "      <td>7.30</td>\n",
       "      <td>7.15</td>\n",
       "      <td>put</td>\n",
       "      <td>50.0</td>\n",
       "      <td>42.77</td>\n",
       "      <td>2019-12-17</td>\n",
       "      <td>10 days</td>\n",
       "      <td>0.169044</td>\n",
       "      <td>1</td>\n",
       "      <td>1</td>\n",
       "      <td>730.0</td>\n",
       "      <td>730.0</td>\n",
       "      <td>715.0</td>\n",
       "      <td>10 days</td>\n",
       "      <td>False</td>\n",
       "      <td>False</td>\n",
       "      <td>False</td>\n",
       "      <td>False</td>\n",
       "      <td>False</td>\n",
       "      <td>False</td>\n",
       "      <td>False</td>\n",
       "      <td>0</td>\n",
       "      <td>NaN</td>\n",
       "    </tr>\n",
       "  </tbody>\n",
       "</table>\n",
       "<p>3137 rows × 25 columns</p>\n",
       "</div>"
      ],
      "text/plain": [
       "                      OptionKey ExpirationDate  AskPrice  BidPrice PutCall  \\\n",
       "2019-11-15  AMD2019-11-15P23.00     2019-11-15      0.01      0.00     put   \n",
       "2019-11-12  AMD2019-11-15P24.00     2019-11-15      0.01      0.00     put   \n",
       "2019-11-15  AMD2019-11-15P24.00     2019-11-15      0.01      0.00     put   \n",
       "2019-11-12  AMD2019-11-15P25.00     2019-11-15      0.01      0.00     put   \n",
       "2019-11-15  AMD2019-11-15P25.00     2019-11-15      0.01      0.00     put   \n",
       "...                         ...            ...       ...       ...     ...   \n",
       "2019-11-25  AMD2019-12-27P50.00     2019-12-27     10.35     10.15     put   \n",
       "2019-12-02  AMD2019-12-27P50.00     2019-12-27     11.40     11.20     put   \n",
       "2019-12-03  AMD2019-12-27P50.00     2019-12-27     11.20     11.00     put   \n",
       "2019-12-16  AMD2019-12-27P50.00     2019-12-27      7.80      7.60     put   \n",
       "2019-12-17  AMD2019-12-27P50.00     2019-12-27      7.30      7.15     put   \n",
       "\n",
       "            StrikePrice  UnderlyingPrice   DataDate time delta     % out  \\\n",
       "2019-11-15         23.0            38.56 2019-11-15     0 days -0.403527   \n",
       "2019-11-12         24.0            36.71 2019-11-12     3 days -0.346227   \n",
       "2019-11-15         24.0            38.56 2019-11-15     0 days -0.377593   \n",
       "2019-11-12         25.0            36.71 2019-11-12     3 days -0.318987   \n",
       "2019-11-15         25.0            38.56 2019-11-15     0 days -0.351660   \n",
       "...                 ...              ...        ...        ...       ...   \n",
       "2019-11-25         50.0            39.79 2019-11-25    32 days  0.256597   \n",
       "2019-12-02         50.0            38.73 2019-12-02    25 days  0.290989   \n",
       "2019-12-03         50.0            38.90 2019-12-03    24 days  0.285347   \n",
       "2019-12-16         50.0            42.35 2019-12-16    11 days  0.180638   \n",
       "2019-12-17         50.0            42.77 2019-12-17    10 days  0.169044   \n",
       "\n",
       "            LSTM Predicted Signal  RF Predicted Value  LSTM OTM Cr Entry  \\\n",
       "2019-11-15                      1                   1                0.0   \n",
       "2019-11-12                      1                   1                0.0   \n",
       "2019-11-15                      1                   1                0.0   \n",
       "2019-11-12                      1                   1                0.0   \n",
       "2019-11-15                      1                   1                0.0   \n",
       "...                           ...                 ...                ...   \n",
       "2019-11-25                     -1                   0                0.0   \n",
       "2019-12-02                     -1                   0                0.0   \n",
       "2019-12-03                     -1                   0                0.0   \n",
       "2019-12-16                      1                   1              780.0   \n",
       "2019-12-17                      1                   1              730.0   \n",
       "\n",
       "            RF OTM Cr Entry  Bid Price   delta   exp?  long_close  \\\n",
       "2019-11-15              0.0        0.0  0 days   True       False   \n",
       "2019-11-12              0.0        0.0  3 days  False       False   \n",
       "2019-11-15              0.0        0.0  0 days   True       False   \n",
       "2019-11-12              0.0        0.0  3 days  False       False   \n",
       "2019-11-15              0.0        0.0  0 days   True       False   \n",
       "...                     ...        ...     ...    ...         ...   \n",
       "2019-11-25              0.0     1015.0 32 days  False       False   \n",
       "2019-12-02              0.0     1120.0 25 days  False       False   \n",
       "2019-12-03              0.0     1100.0 24 days  False       False   \n",
       "2019-12-16            780.0      760.0 11 days  False       False   \n",
       "2019-12-17            730.0      715.0 10 days  False       False   \n",
       "\n",
       "            long_medium  long_far  short_close  short_medium  short_far  \\\n",
       "2019-11-15        False     False        False         False      False   \n",
       "2019-11-12        False     False        False         False      False   \n",
       "2019-11-15        False     False        False         False      False   \n",
       "2019-11-12        False     False        False         False      False   \n",
       "2019-11-15        False     False        False         False      False   \n",
       "...                 ...       ...          ...           ...        ...   \n",
       "2019-11-25        False     False        False         False      False   \n",
       "2019-12-02        False     False        False         False      False   \n",
       "2019-12-03        False     False        False         False      False   \n",
       "2019-12-16        False     False        False         False      False   \n",
       "2019-12-17        False     False        False         False      False   \n",
       "\n",
       "            Signal    xp  \n",
       "2019-11-15      -1  0.01  \n",
       "2019-11-12       0  0.01  \n",
       "2019-11-15       1  0.01  \n",
       "2019-11-12       1  0.01  \n",
       "2019-11-15       0  0.01  \n",
       "...            ...   ...  \n",
       "2019-11-25      -1   NaN  \n",
       "2019-12-02       0   NaN  \n",
       "2019-12-03      -1   NaN  \n",
       "2019-12-16       1   NaN  \n",
       "2019-12-17       0   NaN  \n",
       "\n",
       "[3137 rows x 25 columns]"
      ]
     },
     "execution_count": 21,
     "metadata": {},
     "output_type": "execute_result"
    }
   ],
   "source": [
    "df['xp']=df.OptionKey.map(xp.set_index('OptionKey')['xp'])\n",
    "df"
   ]
  },
  {
   "cell_type": "code",
   "execution_count": 22,
   "metadata": {},
   "outputs": [
    {
     "name": "stdout",
     "output_type": "stream",
     "text": [
      "4.9399999999999995\n"
     ]
    },
    {
     "name": "stderr",
     "output_type": "stream",
     "text": [
      "<ipython-input-22-db0ecfdb9cad>:2: SettingWithCopyWarning: \n",
      "A value is trying to be set on a copy of a slice from a DataFrame.\n",
      "Try using .loc[row_indexer,col_indexer] = value instead\n",
      "\n",
      "See the caveats in the documentation: https://pandas.pydata.org/pandas-docs/stable/user_guide/indexing.html#returning-a-view-versus-a-copy\n",
      "  short_close['log'] = short_close['AskPrice'] - short_close['xp']\n"
     ]
    }
   ],
   "source": [
    "short_close = df.loc[(df['short_close']== True) & (df['Signal'] == 1)]\n",
    "short_close['log'] = short_close['AskPrice'] - short_close['xp']\n",
    "short_close_total = short_close['log'].sum()\n",
    "print(short_close_total)"
   ]
  },
  {
   "cell_type": "code",
   "execution_count": 23,
   "metadata": {},
   "outputs": [
    {
     "name": "stdout",
     "output_type": "stream",
     "text": [
      "4.0\n"
     ]
    },
    {
     "name": "stderr",
     "output_type": "stream",
     "text": [
      "<ipython-input-23-26e370e263bb>:2: SettingWithCopyWarning: \n",
      "A value is trying to be set on a copy of a slice from a DataFrame.\n",
      "Try using .loc[row_indexer,col_indexer] = value instead\n",
      "\n",
      "See the caveats in the documentation: https://pandas.pydata.org/pandas-docs/stable/user_guide/indexing.html#returning-a-view-versus-a-copy\n",
      "  short_close_RF['log'] = short_close_RF['AskPrice'] - short_close_RF['xp']\n"
     ]
    }
   ],
   "source": [
    "short_close_RF = df.loc[(df['short_close']== True) & (df['RF Predicted Value'] == 1)]\n",
    "short_close_RF['log'] = short_close_RF['AskPrice'] - short_close_RF['xp']\n",
    "short_close_RF_total = short_close_RF['log'].sum()\n",
    "print(short_close_RF_total)"
   ]
  },
  {
   "cell_type": "code",
   "execution_count": 24,
   "metadata": {},
   "outputs": [
    {
     "name": "stdout",
     "output_type": "stream",
     "text": [
      "2.3400000000000007\n"
     ]
    },
    {
     "name": "stderr",
     "output_type": "stream",
     "text": [
      "<ipython-input-24-859958c1296c>:2: SettingWithCopyWarning: \n",
      "A value is trying to be set on a copy of a slice from a DataFrame.\n",
      "Try using .loc[row_indexer,col_indexer] = value instead\n",
      "\n",
      "See the caveats in the documentation: https://pandas.pydata.org/pandas-docs/stable/user_guide/indexing.html#returning-a-view-versus-a-copy\n",
      "  short_close_LTSM['log'] = short_close_LTSM['AskPrice'] - short_close_LTSM['xp']\n"
     ]
    }
   ],
   "source": [
    "short_close_LTSM = df.loc[(df['short_close']== True) & (df['LSTM Predicted Signal'] == 1)]\n",
    "short_close_LTSM['log'] = short_close_LTSM['AskPrice'] - short_close_LTSM['xp']\n",
    "short_close_LTSM_total = short_close_LTSM['log'].sum()\n",
    "print(short_close_LTSM_total)"
   ]
  },
  {
   "cell_type": "code",
   "execution_count": 25,
   "metadata": {},
   "outputs": [
    {
     "name": "stdout",
     "output_type": "stream",
     "text": [
      "0.28\n"
     ]
    },
    {
     "name": "stderr",
     "output_type": "stream",
     "text": [
      "<ipython-input-25-e8b5d44531af>:2: SettingWithCopyWarning: \n",
      "A value is trying to be set on a copy of a slice from a DataFrame.\n",
      "Try using .loc[row_indexer,col_indexer] = value instead\n",
      "\n",
      "See the caveats in the documentation: https://pandas.pydata.org/pandas-docs/stable/user_guide/indexing.html#returning-a-view-versus-a-copy\n",
      "  short_medium['log'] = short_medium['AskPrice'] - short_medium['xp']\n"
     ]
    }
   ],
   "source": [
    "short_medium = df.loc[(df['short_medium']== True) & (df['Signal'] == 1)]\n",
    "short_medium['log'] = short_medium['AskPrice'] - short_medium['xp']\n",
    "short_medium_total = short_medium['log'].sum()\n",
    "print(short_medium_total)"
   ]
  },
  {
   "cell_type": "code",
   "execution_count": 26,
   "metadata": {},
   "outputs": [
    {
     "name": "stdout",
     "output_type": "stream",
     "text": [
      "0.45999999999999996\n"
     ]
    },
    {
     "name": "stderr",
     "output_type": "stream",
     "text": [
      "<ipython-input-26-3e62de6047f9>:2: SettingWithCopyWarning: \n",
      "A value is trying to be set on a copy of a slice from a DataFrame.\n",
      "Try using .loc[row_indexer,col_indexer] = value instead\n",
      "\n",
      "See the caveats in the documentation: https://pandas.pydata.org/pandas-docs/stable/user_guide/indexing.html#returning-a-view-versus-a-copy\n",
      "  short_medium_RF['log'] = short_medium_RF['AskPrice'] - short_medium_RF['xp']\n"
     ]
    }
   ],
   "source": [
    "short_medium_RF = df.loc[(df['short_medium']== True) & (df['RF Predicted Value'] == 1)]\n",
    "short_medium_RF['log'] = short_medium_RF['AskPrice'] - short_medium_RF['xp']\n",
    "short_medium_RF_total = short_medium_RF['log'].sum()\n",
    "print(short_medium_RF_total)"
   ]
  },
  {
   "cell_type": "code",
   "execution_count": 27,
   "metadata": {},
   "outputs": [
    {
     "name": "stdout",
     "output_type": "stream",
     "text": [
      "0.37\n"
     ]
    },
    {
     "name": "stderr",
     "output_type": "stream",
     "text": [
      "<ipython-input-27-fcf0944296be>:2: SettingWithCopyWarning: \n",
      "A value is trying to be set on a copy of a slice from a DataFrame.\n",
      "Try using .loc[row_indexer,col_indexer] = value instead\n",
      "\n",
      "See the caveats in the documentation: https://pandas.pydata.org/pandas-docs/stable/user_guide/indexing.html#returning-a-view-versus-a-copy\n",
      "  short_medium_LTSM['log'] = short_medium_LTSM['AskPrice'] - short_medium_LTSM['xp']\n"
     ]
    }
   ],
   "source": [
    "short_medium_LTSM = df.loc[(df['short_medium']== True) & (df['LSTM Predicted Signal'] == 1)]\n",
    "short_medium_LTSM['log'] = short_medium_LTSM['AskPrice'] - short_medium_LTSM['xp']\n",
    "short_medium_LTSM_total = short_medium_LTSM['log'].sum()\n",
    "print(short_medium_LTSM_total)"
   ]
  },
  {
   "cell_type": "code",
   "execution_count": 28,
   "metadata": {},
   "outputs": [
    {
     "name": "stdout",
     "output_type": "stream",
     "text": [
      "0.01\n"
     ]
    },
    {
     "name": "stderr",
     "output_type": "stream",
     "text": [
      "<ipython-input-28-ac8845e429a2>:2: SettingWithCopyWarning: \n",
      "A value is trying to be set on a copy of a slice from a DataFrame.\n",
      "Try using .loc[row_indexer,col_indexer] = value instead\n",
      "\n",
      "See the caveats in the documentation: https://pandas.pydata.org/pandas-docs/stable/user_guide/indexing.html#returning-a-view-versus-a-copy\n",
      "  short_far['log'] = short_far['AskPrice'] - short_far['xp']\n"
     ]
    }
   ],
   "source": [
    "short_far = df.loc[(df['short_far']== True) & (df['Signal'] == 1)]\n",
    "short_far['log'] = short_far['AskPrice'] - short_far['xp']\n",
    "short_far_total = short_far['log'].sum()\n",
    "print(short_far_total)"
   ]
  },
  {
   "cell_type": "code",
   "execution_count": 29,
   "metadata": {},
   "outputs": [
    {
     "name": "stdout",
     "output_type": "stream",
     "text": [
      "0.01\n"
     ]
    },
    {
     "name": "stderr",
     "output_type": "stream",
     "text": [
      "<ipython-input-29-b3a1e7696dea>:2: SettingWithCopyWarning: \n",
      "A value is trying to be set on a copy of a slice from a DataFrame.\n",
      "Try using .loc[row_indexer,col_indexer] = value instead\n",
      "\n",
      "See the caveats in the documentation: https://pandas.pydata.org/pandas-docs/stable/user_guide/indexing.html#returning-a-view-versus-a-copy\n",
      "  short_far_LTSM['log'] = short_far_LTSM['AskPrice'] - short_far_LTSM['xp']\n"
     ]
    }
   ],
   "source": [
    "short_far_LTSM = df.loc[(df['short_far']== True) & (df['LSTM Predicted Signal'] == 1)]\n",
    "short_far_LTSM['log'] = short_far_LTSM['AskPrice'] - short_far_LTSM['xp']\n",
    "short_far_LTSM_total = short_far_LTSM['log'].sum()\n",
    "print(short_far_LTSM_total)"
   ]
  },
  {
   "cell_type": "code",
   "execution_count": 30,
   "metadata": {},
   "outputs": [
    {
     "name": "stdout",
     "output_type": "stream",
     "text": [
      "0.0\n"
     ]
    },
    {
     "name": "stderr",
     "output_type": "stream",
     "text": [
      "<ipython-input-30-18c5042b77ee>:2: SettingWithCopyWarning: \n",
      "A value is trying to be set on a copy of a slice from a DataFrame.\n",
      "Try using .loc[row_indexer,col_indexer] = value instead\n",
      "\n",
      "See the caveats in the documentation: https://pandas.pydata.org/pandas-docs/stable/user_guide/indexing.html#returning-a-view-versus-a-copy\n",
      "  short_far_RF['log'] = short_far_RF['AskPrice'] - short_far_RF['xp']\n"
     ]
    }
   ],
   "source": [
    "short_far_RF = df.loc[(df['short_far']== True) & (df['RF Predicted Value'] == 1)]\n",
    "short_far_RF['log'] = short_far_RF['AskPrice'] - short_far_RF['xp']\n",
    "short_far_RF_total = short_far_RF['log'].sum()\n",
    "print(short_far_RF_total)"
   ]
  },
  {
   "cell_type": "code",
   "execution_count": 31,
   "metadata": {},
   "outputs": [
    {
     "name": "stdout",
     "output_type": "stream",
     "text": [
      "12.51\n"
     ]
    },
    {
     "name": "stderr",
     "output_type": "stream",
     "text": [
      "<ipython-input-31-75a269248bd1>:2: SettingWithCopyWarning: \n",
      "A value is trying to be set on a copy of a slice from a DataFrame.\n",
      "Try using .loc[row_indexer,col_indexer] = value instead\n",
      "\n",
      "See the caveats in the documentation: https://pandas.pydata.org/pandas-docs/stable/user_guide/indexing.html#returning-a-view-versus-a-copy\n",
      "  long_close['log'] = long_close['AskPrice'] - long_close['xp']\n"
     ]
    }
   ],
   "source": [
    "long_close = df.loc[(df['long_close']== True) & (df['Signal'] == 1)]\n",
    "long_close['log'] = long_close['AskPrice'] - long_close['xp']\n",
    "long_close_total = long_close['log'].sum()\n",
    "print(long_close_total)"
   ]
  },
  {
   "cell_type": "code",
   "execution_count": 32,
   "metadata": {},
   "outputs": [
    {
     "name": "stdout",
     "output_type": "stream",
     "text": [
      "9.73\n"
     ]
    },
    {
     "name": "stderr",
     "output_type": "stream",
     "text": [
      "<ipython-input-32-3a82462531d2>:2: SettingWithCopyWarning: \n",
      "A value is trying to be set on a copy of a slice from a DataFrame.\n",
      "Try using .loc[row_indexer,col_indexer] = value instead\n",
      "\n",
      "See the caveats in the documentation: https://pandas.pydata.org/pandas-docs/stable/user_guide/indexing.html#returning-a-view-versus-a-copy\n",
      "  long_close_LTSM['log'] = long_close_LTSM['AskPrice'] - long_close_LTSM['xp']\n"
     ]
    }
   ],
   "source": [
    "long_close_LTSM = df.loc[(df['long_close']== True) & (df['LSTM Predicted Signal'] == 1)]\n",
    "long_close_LTSM['log'] = long_close_LTSM['AskPrice'] - long_close_LTSM['xp']\n",
    "long_close_LTSM_total = long_close_LTSM['log'].sum()\n",
    "print(long_close_LTSM_total)"
   ]
  },
  {
   "cell_type": "code",
   "execution_count": 33,
   "metadata": {},
   "outputs": [
    {
     "name": "stdout",
     "output_type": "stream",
     "text": [
      "16.68\n"
     ]
    },
    {
     "name": "stderr",
     "output_type": "stream",
     "text": [
      "<ipython-input-33-2c96faa3b979>:2: SettingWithCopyWarning: \n",
      "A value is trying to be set on a copy of a slice from a DataFrame.\n",
      "Try using .loc[row_indexer,col_indexer] = value instead\n",
      "\n",
      "See the caveats in the documentation: https://pandas.pydata.org/pandas-docs/stable/user_guide/indexing.html#returning-a-view-versus-a-copy\n",
      "  long_close_RF['log'] = long_close_RF['AskPrice'] - long_close_RF['xp']\n"
     ]
    }
   ],
   "source": [
    "long_close_RF = df.loc[(df['long_close']== True) & (df['RF Predicted Value'] == 1)]\n",
    "long_close_RF['log'] = long_close_RF['AskPrice'] - long_close_RF['xp']\n",
    "long_close_RF_total = long_close_RF['log'].sum()\n",
    "print(long_close_RF_total)"
   ]
  },
  {
   "cell_type": "code",
   "execution_count": 34,
   "metadata": {},
   "outputs": [
    {
     "name": "stdout",
     "output_type": "stream",
     "text": [
      "0.06\n"
     ]
    },
    {
     "name": "stderr",
     "output_type": "stream",
     "text": [
      "<ipython-input-34-f50bec28ebd4>:2: SettingWithCopyWarning: \n",
      "A value is trying to be set on a copy of a slice from a DataFrame.\n",
      "Try using .loc[row_indexer,col_indexer] = value instead\n",
      "\n",
      "See the caveats in the documentation: https://pandas.pydata.org/pandas-docs/stable/user_guide/indexing.html#returning-a-view-versus-a-copy\n",
      "  long_far['log'] = long_far['AskPrice'] - long_far['xp']\n"
     ]
    }
   ],
   "source": [
    "long_far = df.loc[(df['long_far']== True) & (df['Signal'] == 1)]\n",
    "long_far['log'] = long_far['AskPrice'] - long_far['xp']\n",
    "long_far_total = long_far['log'].sum()\n",
    "print(long_far_total)"
   ]
  },
  {
   "cell_type": "code",
   "execution_count": 35,
   "metadata": {},
   "outputs": [
    {
     "name": "stdout",
     "output_type": "stream",
     "text": [
      "0.1\n"
     ]
    },
    {
     "name": "stderr",
     "output_type": "stream",
     "text": [
      "<ipython-input-35-42ba9debbf05>:2: SettingWithCopyWarning: \n",
      "A value is trying to be set on a copy of a slice from a DataFrame.\n",
      "Try using .loc[row_indexer,col_indexer] = value instead\n",
      "\n",
      "See the caveats in the documentation: https://pandas.pydata.org/pandas-docs/stable/user_guide/indexing.html#returning-a-view-versus-a-copy\n",
      "  long_far_RF['log'] = long_far_RF['AskPrice'] - long_far_RF['xp']\n"
     ]
    }
   ],
   "source": [
    "long_far_RF = df.loc[(df['long_far']== True) & (df['RF Predicted Value'] == 1)]\n",
    "long_far_RF['log'] = long_far_RF['AskPrice'] - long_far_RF['xp']\n",
    "long_far_RF_total = long_far_RF['log'].sum()\n",
    "print(long_far_RF_total)"
   ]
  },
  {
   "cell_type": "code",
   "execution_count": 36,
   "metadata": {},
   "outputs": [
    {
     "name": "stdout",
     "output_type": "stream",
     "text": [
      "0.04\n"
     ]
    },
    {
     "name": "stderr",
     "output_type": "stream",
     "text": [
      "<ipython-input-36-7db88ed9f97f>:2: SettingWithCopyWarning: \n",
      "A value is trying to be set on a copy of a slice from a DataFrame.\n",
      "Try using .loc[row_indexer,col_indexer] = value instead\n",
      "\n",
      "See the caveats in the documentation: https://pandas.pydata.org/pandas-docs/stable/user_guide/indexing.html#returning-a-view-versus-a-copy\n",
      "  long_far_LTSM['log'] = long_far_LTSM['AskPrice'] - long_far_LTSM['xp']\n"
     ]
    }
   ],
   "source": [
    "long_far_LTSM = df.loc[(df['long_far']== True) & (df['LSTM Predicted Signal'] == 1)]\n",
    "long_far_LTSM['log'] = long_far_LTSM['AskPrice'] - long_far_LTSM['xp']\n",
    "long_far_LTSM_total = long_far_LTSM['log'].sum()\n",
    "print(long_far_LTSM_total)"
   ]
  },
  {
   "cell_type": "code",
   "execution_count": 37,
   "metadata": {},
   "outputs": [
    {
     "name": "stdout",
     "output_type": "stream",
     "text": [
      "1.35\n"
     ]
    },
    {
     "name": "stderr",
     "output_type": "stream",
     "text": [
      "<ipython-input-37-9fa1fb1575a9>:2: SettingWithCopyWarning: \n",
      "A value is trying to be set on a copy of a slice from a DataFrame.\n",
      "Try using .loc[row_indexer,col_indexer] = value instead\n",
      "\n",
      "See the caveats in the documentation: https://pandas.pydata.org/pandas-docs/stable/user_guide/indexing.html#returning-a-view-versus-a-copy\n",
      "  long_medium_LTSM['log'] = long_medium_LTSM['AskPrice'] - long_medium_LTSM['xp']\n"
     ]
    }
   ],
   "source": [
    "long_medium_LTSM = df.loc[(df['long_medium']== True) & (df['LSTM Predicted Signal'] == 1)]\n",
    "long_medium_LTSM['log'] = long_medium_LTSM['AskPrice'] - long_medium_LTSM['xp']\n",
    "long_medium_LTSM_total = long_medium_LTSM['log'].sum()\n",
    "print(long_medium_LTSM_total)"
   ]
  },
  {
   "cell_type": "code",
   "execution_count": 38,
   "metadata": {},
   "outputs": [
    {
     "name": "stdout",
     "output_type": "stream",
     "text": [
      "2.12\n"
     ]
    },
    {
     "name": "stderr",
     "output_type": "stream",
     "text": [
      "<ipython-input-38-29d39dcc6c84>:2: SettingWithCopyWarning: \n",
      "A value is trying to be set on a copy of a slice from a DataFrame.\n",
      "Try using .loc[row_indexer,col_indexer] = value instead\n",
      "\n",
      "See the caveats in the documentation: https://pandas.pydata.org/pandas-docs/stable/user_guide/indexing.html#returning-a-view-versus-a-copy\n",
      "  long_medium_RF['log'] = long_medium_RF['AskPrice'] - long_medium_RF['xp']\n"
     ]
    }
   ],
   "source": [
    "long_medium_RF = df.loc[(df['long_medium']== True) & (df['RF Predicted Value'] == 1)]\n",
    "long_medium_RF['log'] = long_medium_RF['AskPrice'] - long_medium_RF['xp']\n",
    "long_medium_RF_total = long_medium_RF['log'].sum()\n",
    "print(long_medium_RF_total)"
   ]
  },
  {
   "cell_type": "code",
   "execution_count": 39,
   "metadata": {},
   "outputs": [
    {
     "name": "stdout",
     "output_type": "stream",
     "text": [
      "1.08\n"
     ]
    },
    {
     "name": "stderr",
     "output_type": "stream",
     "text": [
      "<ipython-input-39-466d7a72f370>:2: SettingWithCopyWarning: \n",
      "A value is trying to be set on a copy of a slice from a DataFrame.\n",
      "Try using .loc[row_indexer,col_indexer] = value instead\n",
      "\n",
      "See the caveats in the documentation: https://pandas.pydata.org/pandas-docs/stable/user_guide/indexing.html#returning-a-view-versus-a-copy\n",
      "  long_medium['log'] = long_medium['AskPrice'] - long_medium['xp']\n"
     ]
    }
   ],
   "source": [
    "long_medium = df.loc[(df['long_medium']== True) & (df['Signal'] == 1)]\n",
    "long_medium['log'] = long_medium['AskPrice'] - long_medium['xp']\n",
    "long_medium_total = long_medium['log'].sum()\n",
    "print(long_medium_total)"
   ]
  },
  {
   "cell_type": "code",
   "execution_count": 40,
   "metadata": {},
   "outputs": [
    {
     "data": {
      "text/plain": [
       "-0.835"
      ]
     },
     "execution_count": 40,
     "metadata": {},
     "output_type": "execute_result"
    }
   ],
   "source": [
    "short_close_negatives =(short_close.loc[(short_close.log < 0)])\n",
    "short_close_negatives.log.mean()\n",
    "# there are 14 times we were wrong"
   ]
  },
  {
   "cell_type": "code",
   "execution_count": 41,
   "metadata": {},
   "outputs": [
    {
     "data": {
      "text/html": [
       "<div>\n",
       "<style scoped>\n",
       "    .dataframe tbody tr th:only-of-type {\n",
       "        vertical-align: middle;\n",
       "    }\n",
       "\n",
       "    .dataframe tbody tr th {\n",
       "        vertical-align: top;\n",
       "    }\n",
       "\n",
       "    .dataframe thead th {\n",
       "        text-align: right;\n",
       "    }\n",
       "</style>\n",
       "<table border=\"1\" class=\"dataframe\">\n",
       "  <thead>\n",
       "    <tr style=\"text-align: right;\">\n",
       "      <th></th>\n",
       "      <th>OptionKey</th>\n",
       "      <th>ExpirationDate</th>\n",
       "      <th>AskPrice</th>\n",
       "      <th>BidPrice</th>\n",
       "      <th>PutCall</th>\n",
       "      <th>StrikePrice</th>\n",
       "      <th>UnderlyingPrice</th>\n",
       "      <th>DataDate</th>\n",
       "      <th>time delta</th>\n",
       "      <th>% out</th>\n",
       "      <th>LSTM Predicted Signal</th>\n",
       "      <th>RF Predicted Value</th>\n",
       "      <th>LSTM OTM Cr Entry</th>\n",
       "      <th>RF OTM Cr Entry</th>\n",
       "      <th>Bid Price</th>\n",
       "      <th>delta</th>\n",
       "      <th>exp?</th>\n",
       "      <th>long_close</th>\n",
       "      <th>long_medium</th>\n",
       "      <th>long_far</th>\n",
       "      <th>short_close</th>\n",
       "      <th>short_medium</th>\n",
       "      <th>short_far</th>\n",
       "      <th>Signal</th>\n",
       "      <th>xp</th>\n",
       "      <th>log</th>\n",
       "    </tr>\n",
       "  </thead>\n",
       "  <tbody>\n",
       "    <tr>\n",
       "      <th>2019-11-15</th>\n",
       "      <td>AMD2019-11-22P38.50</td>\n",
       "      <td>2019-11-22</td>\n",
       "      <td>0.79</td>\n",
       "      <td>0.76</td>\n",
       "      <td>put</td>\n",
       "      <td>38.5</td>\n",
       "      <td>38.56</td>\n",
       "      <td>2019-11-15</td>\n",
       "      <td>7 days</td>\n",
       "      <td>-0.001556</td>\n",
       "      <td>1</td>\n",
       "      <td>1</td>\n",
       "      <td>0.0</td>\n",
       "      <td>0.0</td>\n",
       "      <td>76.0</td>\n",
       "      <td>7 days</td>\n",
       "      <td>False</td>\n",
       "      <td>True</td>\n",
       "      <td>False</td>\n",
       "      <td>False</td>\n",
       "      <td>True</td>\n",
       "      <td>False</td>\n",
       "      <td>False</td>\n",
       "      <td>1</td>\n",
       "      <td>0.01</td>\n",
       "      <td>0.78</td>\n",
       "    </tr>\n",
       "    <tr>\n",
       "      <th>2019-11-15</th>\n",
       "      <td>AMD2019-11-22P38.00</td>\n",
       "      <td>2019-11-22</td>\n",
       "      <td>0.56</td>\n",
       "      <td>0.55</td>\n",
       "      <td>put</td>\n",
       "      <td>38.0</td>\n",
       "      <td>38.56</td>\n",
       "      <td>2019-11-15</td>\n",
       "      <td>7 days</td>\n",
       "      <td>-0.014523</td>\n",
       "      <td>1</td>\n",
       "      <td>1</td>\n",
       "      <td>0.0</td>\n",
       "      <td>0.0</td>\n",
       "      <td>55.0</td>\n",
       "      <td>7 days</td>\n",
       "      <td>False</td>\n",
       "      <td>True</td>\n",
       "      <td>False</td>\n",
       "      <td>False</td>\n",
       "      <td>True</td>\n",
       "      <td>False</td>\n",
       "      <td>False</td>\n",
       "      <td>1</td>\n",
       "      <td>0.01</td>\n",
       "      <td>0.55</td>\n",
       "    </tr>\n",
       "    <tr>\n",
       "      <th>2019-11-29</th>\n",
       "      <td>AMD2019-12-06P38.50</td>\n",
       "      <td>2019-12-06</td>\n",
       "      <td>0.50</td>\n",
       "      <td>0.49</td>\n",
       "      <td>put</td>\n",
       "      <td>38.5</td>\n",
       "      <td>39.15</td>\n",
       "      <td>2019-11-29</td>\n",
       "      <td>7 days</td>\n",
       "      <td>-0.016603</td>\n",
       "      <td>-1</td>\n",
       "      <td>0</td>\n",
       "      <td>0.0</td>\n",
       "      <td>0.0</td>\n",
       "      <td>49.0</td>\n",
       "      <td>7 days</td>\n",
       "      <td>False</td>\n",
       "      <td>True</td>\n",
       "      <td>False</td>\n",
       "      <td>False</td>\n",
       "      <td>True</td>\n",
       "      <td>False</td>\n",
       "      <td>False</td>\n",
       "      <td>1</td>\n",
       "      <td>0.01</td>\n",
       "      <td>0.49</td>\n",
       "    </tr>\n",
       "    <tr>\n",
       "      <th>2019-12-02</th>\n",
       "      <td>AMD2019-12-06P38.00</td>\n",
       "      <td>2019-12-06</td>\n",
       "      <td>0.41</td>\n",
       "      <td>0.40</td>\n",
       "      <td>put</td>\n",
       "      <td>38.0</td>\n",
       "      <td>38.73</td>\n",
       "      <td>2019-12-02</td>\n",
       "      <td>4 days</td>\n",
       "      <td>-0.018848</td>\n",
       "      <td>-1</td>\n",
       "      <td>0</td>\n",
       "      <td>0.0</td>\n",
       "      <td>0.0</td>\n",
       "      <td>40.0</td>\n",
       "      <td>4 days</td>\n",
       "      <td>False</td>\n",
       "      <td>True</td>\n",
       "      <td>False</td>\n",
       "      <td>False</td>\n",
       "      <td>True</td>\n",
       "      <td>False</td>\n",
       "      <td>False</td>\n",
       "      <td>1</td>\n",
       "      <td>0.01</td>\n",
       "      <td>0.40</td>\n",
       "    </tr>\n",
       "    <tr>\n",
       "      <th>2019-11-12</th>\n",
       "      <td>AMD2019-11-15P36.00</td>\n",
       "      <td>2019-11-15</td>\n",
       "      <td>0.28</td>\n",
       "      <td>0.27</td>\n",
       "      <td>put</td>\n",
       "      <td>36.0</td>\n",
       "      <td>36.71</td>\n",
       "      <td>2019-11-12</td>\n",
       "      <td>3 days</td>\n",
       "      <td>-0.019341</td>\n",
       "      <td>1</td>\n",
       "      <td>1</td>\n",
       "      <td>0.0</td>\n",
       "      <td>0.0</td>\n",
       "      <td>27.0</td>\n",
       "      <td>3 days</td>\n",
       "      <td>False</td>\n",
       "      <td>True</td>\n",
       "      <td>False</td>\n",
       "      <td>False</td>\n",
       "      <td>True</td>\n",
       "      <td>False</td>\n",
       "      <td>False</td>\n",
       "      <td>1</td>\n",
       "      <td>0.01</td>\n",
       "      <td>0.27</td>\n",
       "    </tr>\n",
       "  </tbody>\n",
       "</table>\n",
       "</div>"
      ],
      "text/plain": [
       "                      OptionKey ExpirationDate  AskPrice  BidPrice PutCall  \\\n",
       "2019-11-15  AMD2019-11-22P38.50     2019-11-22      0.79      0.76     put   \n",
       "2019-11-15  AMD2019-11-22P38.00     2019-11-22      0.56      0.55     put   \n",
       "2019-11-29  AMD2019-12-06P38.50     2019-12-06      0.50      0.49     put   \n",
       "2019-12-02  AMD2019-12-06P38.00     2019-12-06      0.41      0.40     put   \n",
       "2019-11-12  AMD2019-11-15P36.00     2019-11-15      0.28      0.27     put   \n",
       "\n",
       "            StrikePrice  UnderlyingPrice   DataDate time delta     % out  \\\n",
       "2019-11-15         38.5            38.56 2019-11-15     7 days -0.001556   \n",
       "2019-11-15         38.0            38.56 2019-11-15     7 days -0.014523   \n",
       "2019-11-29         38.5            39.15 2019-11-29     7 days -0.016603   \n",
       "2019-12-02         38.0            38.73 2019-12-02     4 days -0.018848   \n",
       "2019-11-12         36.0            36.71 2019-11-12     3 days -0.019341   \n",
       "\n",
       "            LSTM Predicted Signal  RF Predicted Value  LSTM OTM Cr Entry  \\\n",
       "2019-11-15                      1                   1                0.0   \n",
       "2019-11-15                      1                   1                0.0   \n",
       "2019-11-29                     -1                   0                0.0   \n",
       "2019-12-02                     -1                   0                0.0   \n",
       "2019-11-12                      1                   1                0.0   \n",
       "\n",
       "            RF OTM Cr Entry  Bid Price  delta   exp?  long_close  long_medium  \\\n",
       "2019-11-15              0.0       76.0 7 days  False        True        False   \n",
       "2019-11-15              0.0       55.0 7 days  False        True        False   \n",
       "2019-11-29              0.0       49.0 7 days  False        True        False   \n",
       "2019-12-02              0.0       40.0 4 days  False        True        False   \n",
       "2019-11-12              0.0       27.0 3 days  False        True        False   \n",
       "\n",
       "            long_far  short_close  short_medium  short_far  Signal    xp   log  \n",
       "2019-11-15     False         True         False      False       1  0.01  0.78  \n",
       "2019-11-15     False         True         False      False       1  0.01  0.55  \n",
       "2019-11-29     False         True         False      False       1  0.01  0.49  \n",
       "2019-12-02     False         True         False      False       1  0.01  0.40  \n",
       "2019-11-12     False         True         False      False       1  0.01  0.27  "
      ]
     },
     "execution_count": 41,
     "metadata": {},
     "output_type": "execute_result"
    }
   ],
   "source": [
    "short_close_positives =(short_close.loc[(short_close.log > 0)])\n",
    "#short_close_positives.log.mean()\n",
    "short_close_positives = short_close_positives.sort_values('log', ascending= False)\n",
    "short_close_positives.head()"
   ]
  },
  {
   "cell_type": "code",
   "execution_count": 42,
   "metadata": {},
   "outputs": [
    {
     "data": {
      "text/plain": [
       "(83, 26)"
      ]
     },
     "execution_count": 42,
     "metadata": {},
     "output_type": "execute_result"
    }
   ],
   "source": [
    "short_close.shape"
   ]
  },
  {
   "cell_type": "code",
   "execution_count": 43,
   "metadata": {},
   "outputs": [
    {
     "ename": "AttributeError",
     "evalue": "'DataFrame' object has no attribute 'dropindex'",
     "output_type": "error",
     "traceback": [
      "\u001b[1;31m---------------------------------------------------------------------------\u001b[0m",
      "\u001b[1;31mAttributeError\u001b[0m                            Traceback (most recent call last)",
      "\u001b[1;32m<ipython-input-43-63e05cf01640>\u001b[0m in \u001b[0;36m<module>\u001b[1;34m\u001b[0m\n\u001b[0;32m      1\u001b[0m \u001b[0mshort_close\u001b[0m \u001b[1;33m=\u001b[0m \u001b[0mshort_close\u001b[0m\u001b[1;33m.\u001b[0m\u001b[0msort_values\u001b[0m\u001b[1;33m(\u001b[0m\u001b[1;34m'log'\u001b[0m\u001b[1;33m,\u001b[0m \u001b[0mascending\u001b[0m \u001b[1;33m=\u001b[0m \u001b[1;32mTrue\u001b[0m\u001b[1;33m)\u001b[0m\u001b[1;33m\u001b[0m\u001b[1;33m\u001b[0m\u001b[0m\n\u001b[0;32m      2\u001b[0m \u001b[0mshort_close\u001b[0m \u001b[1;33m=\u001b[0m \u001b[0mshort_close\u001b[0m\u001b[1;33m.\u001b[0m\u001b[0mdropna\u001b[0m\u001b[1;33m(\u001b[0m\u001b[1;33m)\u001b[0m\u001b[1;33m\u001b[0m\u001b[1;33m\u001b[0m\u001b[0m\n\u001b[1;32m----> 3\u001b[1;33m \u001b[0mshort_close\u001b[0m \u001b[1;33m=\u001b[0m \u001b[0mshort_close\u001b[0m\u001b[1;33m.\u001b[0m\u001b[0mdropindex\u001b[0m\u001b[1;33m(\u001b[0m\u001b[1;33m)\u001b[0m\u001b[1;33m\u001b[0m\u001b[1;33m\u001b[0m\u001b[0m\n\u001b[0m\u001b[0;32m      4\u001b[0m \u001b[0mshort_close_max_premium\u001b[0m \u001b[1;33m=\u001b[0m \u001b[0mshort_close\u001b[0m\u001b[1;33m[\u001b[0m\u001b[1;34m'log'\u001b[0m\u001b[1;33m]\u001b[0m\u001b[1;33m.\u001b[0m\u001b[0mtail\u001b[0m\u001b[1;33m(\u001b[0m\u001b[1;33m)\u001b[0m\u001b[1;33m\u001b[0m\u001b[1;33m\u001b[0m\u001b[0m\n",
      "\u001b[1;32m~\\anaconda3\\lib\\site-packages\\pandas\\core\\generic.py\u001b[0m in \u001b[0;36m__getattr__\u001b[1;34m(self, name)\u001b[0m\n\u001b[0;32m   5137\u001b[0m             \u001b[1;32mif\u001b[0m \u001b[0mself\u001b[0m\u001b[1;33m.\u001b[0m\u001b[0m_info_axis\u001b[0m\u001b[1;33m.\u001b[0m\u001b[0m_can_hold_identifiers_and_holds_name\u001b[0m\u001b[1;33m(\u001b[0m\u001b[0mname\u001b[0m\u001b[1;33m)\u001b[0m\u001b[1;33m:\u001b[0m\u001b[1;33m\u001b[0m\u001b[1;33m\u001b[0m\u001b[0m\n\u001b[0;32m   5138\u001b[0m                 \u001b[1;32mreturn\u001b[0m \u001b[0mself\u001b[0m\u001b[1;33m[\u001b[0m\u001b[0mname\u001b[0m\u001b[1;33m]\u001b[0m\u001b[1;33m\u001b[0m\u001b[1;33m\u001b[0m\u001b[0m\n\u001b[1;32m-> 5139\u001b[1;33m             \u001b[1;32mreturn\u001b[0m \u001b[0mobject\u001b[0m\u001b[1;33m.\u001b[0m\u001b[0m__getattribute__\u001b[0m\u001b[1;33m(\u001b[0m\u001b[0mself\u001b[0m\u001b[1;33m,\u001b[0m \u001b[0mname\u001b[0m\u001b[1;33m)\u001b[0m\u001b[1;33m\u001b[0m\u001b[1;33m\u001b[0m\u001b[0m\n\u001b[0m\u001b[0;32m   5140\u001b[0m \u001b[1;33m\u001b[0m\u001b[0m\n\u001b[0;32m   5141\u001b[0m     \u001b[1;32mdef\u001b[0m \u001b[0m__setattr__\u001b[0m\u001b[1;33m(\u001b[0m\u001b[0mself\u001b[0m\u001b[1;33m,\u001b[0m \u001b[0mname\u001b[0m\u001b[1;33m:\u001b[0m \u001b[0mstr\u001b[0m\u001b[1;33m,\u001b[0m \u001b[0mvalue\u001b[0m\u001b[1;33m)\u001b[0m \u001b[1;33m->\u001b[0m \u001b[1;32mNone\u001b[0m\u001b[1;33m:\u001b[0m\u001b[1;33m\u001b[0m\u001b[1;33m\u001b[0m\u001b[0m\n",
      "\u001b[1;31mAttributeError\u001b[0m: 'DataFrame' object has no attribute 'dropindex'"
     ]
    }
   ],
   "source": [
    "short_close = short_close.sort_values('log', ascending = True)\n",
    "short_close = short_close.dropna()\n",
    "short_close = short_close.dropindex()\n",
    "short_close_max_premium = short_close['log'].tail()"
   ]
  },
  {
   "cell_type": "code",
   "execution_count": 44,
   "metadata": {},
   "outputs": [
    {
     "data": {
      "text/plain": [
       "2019-11-19   -0.99\n",
       "2019-11-20   -0.68\n",
       "2019-12-13    0.00\n",
       "2019-11-27    0.00\n",
       "2019-11-22    0.00\n",
       "Name: log, dtype: float64"
      ]
     },
     "execution_count": 44,
     "metadata": {},
     "output_type": "execute_result"
    }
   ],
   "source": [
    "short_close_max_loss = short_close['log'].head()\n",
    "short_close_max_loss"
   ]
  },
  {
   "cell_type": "code",
   "execution_count": 45,
   "metadata": {},
   "outputs": [
    {
     "name": "stdout",
     "output_type": "stream",
     "text": [
      "the biggest loses were 4.0\n"
     ]
    }
   ],
   "source": [
    "print(f'the biggest loses were', short_close_RF_total)"
   ]
  },
  {
   "cell_type": "code",
   "execution_count": 46,
   "metadata": {},
   "outputs": [
    {
     "name": "stdout",
     "output_type": "stream",
     "text": [
      "Selling options expiring in a week and close to the money,\n",
      " RF generated: 4.0 \n",
      " LTSM generated: 2.3400000000000007\n",
      "\n",
      "Selling options expiring in a week and slightly out to the money,\n",
      " RF generated: 0.45999999999999996 \n",
      " LTSM generated: 0.37\n",
      "\n",
      "Selling options expiring in a week and far out to the money,\n",
      " RF generated: 0.0 \n",
      " LTSM generated: 0.01\n"
     ]
    }
   ],
   "source": [
    "print('Selling options expiring in a week and close to the money,\\n RF generated:', short_close_RF_total, '\\n LTSM generated:', short_close_LTSM_total)\n",
    "print('\\nSelling options expiring in a week and slightly out to the money,\\n RF generated:', short_medium_RF_total, '\\n LTSM generated:', short_medium_LTSM_total)\n",
    "print('\\nSelling options expiring in a week and far out to the money,\\n RF generated:', short_far_RF_total, '\\n LTSM generated:', short_far_LTSM_total)\n"
   ]
  },
  {
   "cell_type": "code",
   "execution_count": 47,
   "metadata": {},
   "outputs": [
    {
     "name": "stdout",
     "output_type": "stream",
     "text": [
      "Selling options expiring in a two weeks and close to the money,\n",
      " RF generated: 16.68 \n",
      " LTSM generated: 9.73\n",
      "\n",
      "Selling options expiring in two weeks and slightly out to the money,\n",
      " RF generated: 2.12 \n",
      " LTSM generated: 1.35\n",
      "\n",
      "Selling options expiring in two weeks and far out to the money,\n",
      " RF generated: 0.1 \n",
      " LTSM generated: 0.04\n"
     ]
    }
   ],
   "source": [
    "print('Selling options expiring in a two weeks and close to the money,\\n RF generated:', long_close_RF_total, '\\n LTSM generated:', long_close_LTSM_total)\n",
    "print('\\nSelling options expiring in two weeks and slightly out to the money,\\n RF generated:', long_medium_RF_total, '\\n LTSM generated:', long_medium_LTSM_total)\n",
    "print('\\nSelling options expiring in two weeks and far out to the money,\\n RF generated:', long_far_RF_total, '\\n LTSM generated:', long_far_LTSM_total)\n"
   ]
  },
  {
   "cell_type": "code",
   "execution_count": null,
   "metadata": {},
   "outputs": [],
   "source": []
  }
 ],
 "metadata": {
  "kernelspec": {
   "display_name": "Python 3",
   "language": "python",
   "name": "python3"
  },
  "language_info": {
   "codemirror_mode": {
    "name": "ipython",
    "version": 3
   },
   "file_extension": ".py",
   "mimetype": "text/x-python",
   "name": "python",
   "nbconvert_exporter": "python",
   "pygments_lexer": "ipython3",
   "version": "3.8.3"
  }
 },
 "nbformat": 4,
 "nbformat_minor": 4
}
