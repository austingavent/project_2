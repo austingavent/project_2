{
 "cells": [
  {
   "cell_type": "code",
   "execution_count": 76,
   "metadata": {},
   "outputs": [],
   "source": [
    "import pandas as pd\n",
    "import numpy as np\n",
    "import datetime as dt\n",
    "from pathlib import Path\n",
    "from datetime import datetime, timedelta\n",
    "from dotenv import load_dotenv\n",
    "import os\n",
    "import requests\n",
    "import alpaca_trade_api as tradeapi\n",
    "import matplotlib.pyplot as plt\n",
    "import hvplot.pandas\n",
    "%matplotlib inline\n",
    "\n",
    "import warnings\n",
    "warnings.filterwarnings('ignore')\n",
    "\n",
    "#Import SKLearn Library and Classes\n",
    "from sklearn.ensemble import RandomForestClassifier\n",
    "from sklearn.datasets import make_classification"
   ]
  },
  {
   "cell_type": "code",
   "execution_count": 141,
   "metadata": {},
   "outputs": [
    {
     "data": {
      "text/html": [
       "<div>\n",
       "<style scoped>\n",
       "    .dataframe tbody tr th:only-of-type {\n",
       "        vertical-align: middle;\n",
       "    }\n",
       "\n",
       "    .dataframe tbody tr th {\n",
       "        vertical-align: top;\n",
       "    }\n",
       "\n",
       "    .dataframe thead th {\n",
       "        text-align: right;\n",
       "    }\n",
       "</style>\n",
       "<table border=\"1\" class=\"dataframe\">\n",
       "  <thead>\n",
       "    <tr style=\"text-align: right;\">\n",
       "      <th></th>\n",
       "      <th>AMD Close</th>\n",
       "      <th>AMD Volume</th>\n",
       "      <th>bollinger_mid_band</th>\n",
       "      <th>bollinger_std</th>\n",
       "      <th>bollinger_upper_band</th>\n",
       "      <th>bollinger_lower_band</th>\n",
       "      <th>bollinger_long</th>\n",
       "      <th>bollinger_short</th>\n",
       "      <th>bollinger_signal</th>\n",
       "      <th>rvol</th>\n",
       "      <th>rvol SD</th>\n",
       "      <th>rvol signal</th>\n",
       "      <th>daily returns</th>\n",
       "    </tr>\n",
       "  </thead>\n",
       "  <tbody>\n",
       "    <tr>\n",
       "      <th>2019-07-26</th>\n",
       "      <td>34.01</td>\n",
       "      <td>40369473</td>\n",
       "      <td>32.8090</td>\n",
       "      <td>1.163419</td>\n",
       "      <td>33.972419</td>\n",
       "      <td>31.645581</td>\n",
       "      <td>0.0</td>\n",
       "      <td>-1.0</td>\n",
       "      <td>-1.0</td>\n",
       "      <td>0.912169</td>\n",
       "      <td>0.913205</td>\n",
       "      <td>0.0</td>\n",
       "      <td>0.010398</td>\n",
       "    </tr>\n",
       "    <tr>\n",
       "      <th>2019-07-29</th>\n",
       "      <td>33.48</td>\n",
       "      <td>42767769</td>\n",
       "      <td>32.9640</td>\n",
       "      <td>1.020501</td>\n",
       "      <td>33.984501</td>\n",
       "      <td>31.943499</td>\n",
       "      <td>0.0</td>\n",
       "      <td>0.0</td>\n",
       "      <td>0.0</td>\n",
       "      <td>0.962055</td>\n",
       "      <td>0.931985</td>\n",
       "      <td>1.0</td>\n",
       "      <td>-0.015584</td>\n",
       "    </tr>\n",
       "    <tr>\n",
       "      <th>2019-07-30</th>\n",
       "      <td>33.87</td>\n",
       "      <td>54286925</td>\n",
       "      <td>33.0975</td>\n",
       "      <td>0.949785</td>\n",
       "      <td>34.047285</td>\n",
       "      <td>32.147715</td>\n",
       "      <td>0.0</td>\n",
       "      <td>0.0</td>\n",
       "      <td>0.0</td>\n",
       "      <td>1.222984</td>\n",
       "      <td>0.963948</td>\n",
       "      <td>1.0</td>\n",
       "      <td>0.011649</td>\n",
       "    </tr>\n",
       "    <tr>\n",
       "      <th>2019-07-31</th>\n",
       "      <td>30.43</td>\n",
       "      <td>110558754</td>\n",
       "      <td>33.0560</td>\n",
       "      <td>1.047414</td>\n",
       "      <td>34.103414</td>\n",
       "      <td>32.008586</td>\n",
       "      <td>1.0</td>\n",
       "      <td>0.0</td>\n",
       "      <td>1.0</td>\n",
       "      <td>2.296310</td>\n",
       "      <td>1.130589</td>\n",
       "      <td>1.0</td>\n",
       "      <td>-0.101565</td>\n",
       "    </tr>\n",
       "    <tr>\n",
       "      <th>2019-08-01</th>\n",
       "      <td>29.86</td>\n",
       "      <td>76711829</td>\n",
       "      <td>32.9900</td>\n",
       "      <td>1.202024</td>\n",
       "      <td>34.192024</td>\n",
       "      <td>31.787976</td>\n",
       "      <td>1.0</td>\n",
       "      <td>0.0</td>\n",
       "      <td>1.0</td>\n",
       "      <td>1.506163</td>\n",
       "      <td>1.185642</td>\n",
       "      <td>1.0</td>\n",
       "      <td>-0.018732</td>\n",
       "    </tr>\n",
       "  </tbody>\n",
       "</table>\n",
       "</div>"
      ],
      "text/plain": [
       "            AMD Close  AMD Volume  bollinger_mid_band  bollinger_std  \\\n",
       "2019-07-26      34.01    40369473             32.8090       1.163419   \n",
       "2019-07-29      33.48    42767769             32.9640       1.020501   \n",
       "2019-07-30      33.87    54286925             33.0975       0.949785   \n",
       "2019-07-31      30.43   110558754             33.0560       1.047414   \n",
       "2019-08-01      29.86    76711829             32.9900       1.202024   \n",
       "\n",
       "            bollinger_upper_band  bollinger_lower_band  bollinger_long  \\\n",
       "2019-07-26             33.972419             31.645581             0.0   \n",
       "2019-07-29             33.984501             31.943499             0.0   \n",
       "2019-07-30             34.047285             32.147715             0.0   \n",
       "2019-07-31             34.103414             32.008586             1.0   \n",
       "2019-08-01             34.192024             31.787976             1.0   \n",
       "\n",
       "            bollinger_short  bollinger_signal      rvol   rvol SD  \\\n",
       "2019-07-26             -1.0              -1.0  0.912169  0.913205   \n",
       "2019-07-29              0.0               0.0  0.962055  0.931985   \n",
       "2019-07-30              0.0               0.0  1.222984  0.963948   \n",
       "2019-07-31              0.0               1.0  2.296310  1.130589   \n",
       "2019-08-01              0.0               1.0  1.506163  1.185642   \n",
       "\n",
       "            rvol signal  daily returns  \n",
       "2019-07-26          0.0       0.010398  \n",
       "2019-07-29          1.0      -0.015584  \n",
       "2019-07-30          1.0       0.011649  \n",
       "2019-07-31          1.0      -0.101565  \n",
       "2019-08-01          1.0      -0.018732  "
      ]
     },
     "execution_count": 141,
     "metadata": {},
     "output_type": "execute_result"
    }
   ],
   "source": [
    "#set path to Features CSV and read in CSV\n",
    "amd_df = pd.read_pickle('Resources/amd_features_df.pickle')\n",
    "amd_df.head()"
   ]
  },
  {
   "cell_type": "code",
   "execution_count": 178,
   "metadata": {},
   "outputs": [],
   "source": [
    "#Create new trading signals Df, Set index as datetime object and drop extraneous columns\n",
    "trading_signals_df = pd.DataFrame()"
   ]
  },
  {
   "cell_type": "code",
   "execution_count": 179,
   "metadata": {},
   "outputs": [
    {
     "data": {
      "text/html": [
       "<div>\n",
       "<style scoped>\n",
       "    .dataframe tbody tr th:only-of-type {\n",
       "        vertical-align: middle;\n",
       "    }\n",
       "\n",
       "    .dataframe tbody tr th {\n",
       "        vertical-align: top;\n",
       "    }\n",
       "\n",
       "    .dataframe thead th {\n",
       "        text-align: right;\n",
       "    }\n",
       "</style>\n",
       "<table border=\"1\" class=\"dataframe\">\n",
       "  <thead>\n",
       "    <tr style=\"text-align: right;\">\n",
       "      <th></th>\n",
       "      <th>bollinger_signal</th>\n",
       "      <th>rvol signal</th>\n",
       "    </tr>\n",
       "  </thead>\n",
       "  <tbody>\n",
       "    <tr>\n",
       "      <th>2019-07-26</th>\n",
       "      <td>NaN</td>\n",
       "      <td>NaN</td>\n",
       "    </tr>\n",
       "    <tr>\n",
       "      <th>2019-07-29</th>\n",
       "      <td>-1.0</td>\n",
       "      <td>0.0</td>\n",
       "    </tr>\n",
       "    <tr>\n",
       "      <th>2019-07-30</th>\n",
       "      <td>0.0</td>\n",
       "      <td>1.0</td>\n",
       "    </tr>\n",
       "    <tr>\n",
       "      <th>2019-07-31</th>\n",
       "      <td>0.0</td>\n",
       "      <td>1.0</td>\n",
       "    </tr>\n",
       "    <tr>\n",
       "      <th>2019-08-01</th>\n",
       "      <td>1.0</td>\n",
       "      <td>1.0</td>\n",
       "    </tr>\n",
       "  </tbody>\n",
       "</table>\n",
       "</div>"
      ],
      "text/plain": [
       "            bollinger_signal  rvol signal\n",
       "2019-07-26               NaN          NaN\n",
       "2019-07-29              -1.0          0.0\n",
       "2019-07-30               0.0          1.0\n",
       "2019-07-31               0.0          1.0\n",
       "2019-08-01               1.0          1.0"
      ]
     },
     "execution_count": 179,
     "metadata": {},
     "output_type": "execute_result"
    }
   ],
   "source": [
    "#create features only dataframe by shifting feature signal by user defined target\n",
    "threshold = .01\n",
    "shift = 1\n",
    "x_var_list = ['bollinger_signal', 'rvol signal']\n",
    "\n",
    "trading_signals_df[x_var_list] = amd_df[x_var_list].shift(1)\n",
    "\n",
    "trading_signals_df = trading_signals_df.set_index(pd.to_datetime(amd_df.index, infer_datetime_format=True))\n",
    "trading_signals_df.head()"
   ]
  },
  {
   "cell_type": "code",
   "execution_count": 180,
   "metadata": {},
   "outputs": [],
   "source": [
    "#add dependent variable for targeting at least 1% positive return\n",
    "trading_signals_df['Positive Return'] = np.where(amd_df['daily returns'].shift(shift) >= threshold, 1, 0)"
   ]
  },
  {
   "cell_type": "code",
   "execution_count": 181,
   "metadata": {},
   "outputs": [
    {
     "data": {
      "text/html": [
       "<div>\n",
       "<style scoped>\n",
       "    .dataframe tbody tr th:only-of-type {\n",
       "        vertical-align: middle;\n",
       "    }\n",
       "\n",
       "    .dataframe tbody tr th {\n",
       "        vertical-align: top;\n",
       "    }\n",
       "\n",
       "    .dataframe thead th {\n",
       "        text-align: right;\n",
       "    }\n",
       "</style>\n",
       "<table border=\"1\" class=\"dataframe\">\n",
       "  <thead>\n",
       "    <tr style=\"text-align: right;\">\n",
       "      <th></th>\n",
       "      <th>bollinger_signal</th>\n",
       "      <th>rvol signal</th>\n",
       "      <th>Positive Return</th>\n",
       "    </tr>\n",
       "  </thead>\n",
       "  <tbody>\n",
       "    <tr>\n",
       "      <th>2019-07-29</th>\n",
       "      <td>-1.0</td>\n",
       "      <td>0.0</td>\n",
       "      <td>1</td>\n",
       "    </tr>\n",
       "    <tr>\n",
       "      <th>2019-07-30</th>\n",
       "      <td>0.0</td>\n",
       "      <td>1.0</td>\n",
       "      <td>0</td>\n",
       "    </tr>\n",
       "    <tr>\n",
       "      <th>2019-07-31</th>\n",
       "      <td>0.0</td>\n",
       "      <td>1.0</td>\n",
       "      <td>1</td>\n",
       "    </tr>\n",
       "    <tr>\n",
       "      <th>2019-08-01</th>\n",
       "      <td>1.0</td>\n",
       "      <td>1.0</td>\n",
       "      <td>0</td>\n",
       "    </tr>\n",
       "    <tr>\n",
       "      <th>2019-08-02</th>\n",
       "      <td>1.0</td>\n",
       "      <td>1.0</td>\n",
       "      <td>0</td>\n",
       "    </tr>\n",
       "    <tr>\n",
       "      <th>...</th>\n",
       "      <td>...</td>\n",
       "      <td>...</td>\n",
       "      <td>...</td>\n",
       "    </tr>\n",
       "    <tr>\n",
       "      <th>2019-12-23</th>\n",
       "      <td>-1.0</td>\n",
       "      <td>1.0</td>\n",
       "      <td>1</td>\n",
       "    </tr>\n",
       "    <tr>\n",
       "      <th>2019-12-24</th>\n",
       "      <td>-1.0</td>\n",
       "      <td>1.0</td>\n",
       "      <td>1</td>\n",
       "    </tr>\n",
       "    <tr>\n",
       "      <th>2019-12-26</th>\n",
       "      <td>-1.0</td>\n",
       "      <td>0.0</td>\n",
       "      <td>1</td>\n",
       "    </tr>\n",
       "    <tr>\n",
       "      <th>2019-12-27</th>\n",
       "      <td>-1.0</td>\n",
       "      <td>1.0</td>\n",
       "      <td>0</td>\n",
       "    </tr>\n",
       "    <tr>\n",
       "      <th>2019-12-30</th>\n",
       "      <td>-1.0</td>\n",
       "      <td>0.0</td>\n",
       "      <td>0</td>\n",
       "    </tr>\n",
       "  </tbody>\n",
       "</table>\n",
       "<p>108 rows × 3 columns</p>\n",
       "</div>"
      ],
      "text/plain": [
       "            bollinger_signal  rvol signal  Positive Return\n",
       "2019-07-29              -1.0          0.0                1\n",
       "2019-07-30               0.0          1.0                0\n",
       "2019-07-31               0.0          1.0                1\n",
       "2019-08-01               1.0          1.0                0\n",
       "2019-08-02               1.0          1.0                0\n",
       "...                      ...          ...              ...\n",
       "2019-12-23              -1.0          1.0                1\n",
       "2019-12-24              -1.0          1.0                1\n",
       "2019-12-26              -1.0          0.0                1\n",
       "2019-12-27              -1.0          1.0                0\n",
       "2019-12-30              -1.0          0.0                0\n",
       "\n",
       "[108 rows x 3 columns]"
      ]
     },
     "execution_count": 181,
     "metadata": {},
     "output_type": "execute_result"
    }
   ],
   "source": [
    "#drop Na\n",
    "trading_signals_df = trading_signals_df.dropna()\n",
    "trading_signals_df"
   ]
  },
  {
   "cell_type": "code",
   "execution_count": 182,
   "metadata": {},
   "outputs": [
    {
     "name": "stdout",
     "output_type": "stream",
     "text": [
      "Training Start: 2019-07-29 00:00:00\n",
      "Training End: 2019-07-30\n",
      "Testing Start: 2019-08-01\n",
      "Testing End: 2019-12-30 00:00:00\n"
     ]
    }
   ],
   "source": [
    "#Assign Training and testing windows\n",
    "\n",
    "training_start = trading_signals_df.index.min()\n",
    "training_end = '2019-07-30'\n",
    "\n",
    "# Construct testing start and end dates\n",
    "testing_start =  '2019-08-01'\n",
    "testing_end = trading_signals_df.index.max()\n",
    "\n",
    "# Print training and testing start/end dates\n",
    "print(f\"Training Start: {training_start}\")\n",
    "print(f\"Training End: {training_end}\")\n",
    "print(f\"Testing Start: {testing_start}\")\n",
    "print(f\"Testing End: {testing_end}\")"
   ]
  },
  {
   "cell_type": "code",
   "execution_count": 183,
   "metadata": {},
   "outputs": [],
   "source": [
    "# Construct the X_train and y_train datasets\n",
    "X_train = trading_signals_df[x_var_list][training_start:training_end]\n",
    "y_train = trading_signals_df['Positive Return'][training_start:training_end]"
   ]
  },
  {
   "cell_type": "code",
   "execution_count": 184,
   "metadata": {},
   "outputs": [],
   "source": [
    "# Construct the X_test and y_test datasets\n",
    "X_test = trading_signals_df[x_var_list][testing_start:testing_end]\n",
    "y_test = trading_signals_df['Positive Return'][testing_start:testing_end]"
   ]
  },
  {
   "cell_type": "code",
   "execution_count": 185,
   "metadata": {},
   "outputs": [],
   "source": [
    "#Train Random Forest Model\n",
    "# Fit a SKLearn linear regression using just the training set (X_train, Y_train):\n",
    "model = RandomForestClassifier(n_estimators=100, max_depth=3, random_state=0)\n",
    "model.fit(X_train, y_train)\n",
    "\n",
    "# Make a prediction of \"y\" values from the X_test dataset\n",
    "predictions = model.predict(X_test)"
   ]
  },
  {
   "cell_type": "code",
   "execution_count": 186,
   "metadata": {},
   "outputs": [
    {
     "data": {
      "text/html": [
       "<div>\n",
       "<style scoped>\n",
       "    .dataframe tbody tr th:only-of-type {\n",
       "        vertical-align: middle;\n",
       "    }\n",
       "\n",
       "    .dataframe tbody tr th {\n",
       "        vertical-align: top;\n",
       "    }\n",
       "\n",
       "    .dataframe thead th {\n",
       "        text-align: right;\n",
       "    }\n",
       "</style>\n",
       "<table border=\"1\" class=\"dataframe\">\n",
       "  <thead>\n",
       "    <tr style=\"text-align: right;\">\n",
       "      <th></th>\n",
       "      <th>Positive Return</th>\n",
       "      <th>Predicted Value</th>\n",
       "      <th>Daily Returns</th>\n",
       "    </tr>\n",
       "  </thead>\n",
       "  <tbody>\n",
       "    <tr>\n",
       "      <th>2019-08-01</th>\n",
       "      <td>0</td>\n",
       "      <td>0</td>\n",
       "      <td>-0.018732</td>\n",
       "    </tr>\n",
       "    <tr>\n",
       "      <th>2019-08-02</th>\n",
       "      <td>0</td>\n",
       "      <td>0</td>\n",
       "      <td>-0.013396</td>\n",
       "    </tr>\n",
       "    <tr>\n",
       "      <th>2019-08-05</th>\n",
       "      <td>0</td>\n",
       "      <td>0</td>\n",
       "      <td>-0.050238</td>\n",
       "    </tr>\n",
       "    <tr>\n",
       "      <th>2019-08-06</th>\n",
       "      <td>0</td>\n",
       "      <td>0</td>\n",
       "      <td>0.031094</td>\n",
       "    </tr>\n",
       "    <tr>\n",
       "      <th>2019-08-07</th>\n",
       "      <td>1</td>\n",
       "      <td>0</td>\n",
       "      <td>0.011785</td>\n",
       "    </tr>\n",
       "    <tr>\n",
       "      <th>...</th>\n",
       "      <td>...</td>\n",
       "      <td>...</td>\n",
       "      <td>...</td>\n",
       "    </tr>\n",
       "    <tr>\n",
       "      <th>2019-12-23</th>\n",
       "      <td>1</td>\n",
       "      <td>0</td>\n",
       "      <td>0.029665</td>\n",
       "    </tr>\n",
       "    <tr>\n",
       "      <th>2019-12-24</th>\n",
       "      <td>1</td>\n",
       "      <td>0</td>\n",
       "      <td>0.023312</td>\n",
       "    </tr>\n",
       "    <tr>\n",
       "      <th>2019-12-26</th>\n",
       "      <td>1</td>\n",
       "      <td>1</td>\n",
       "      <td>0.002364</td>\n",
       "    </tr>\n",
       "    <tr>\n",
       "      <th>2019-12-27</th>\n",
       "      <td>0</td>\n",
       "      <td>0</td>\n",
       "      <td>-0.009863</td>\n",
       "    </tr>\n",
       "    <tr>\n",
       "      <th>2019-12-30</th>\n",
       "      <td>0</td>\n",
       "      <td>1</td>\n",
       "      <td>-0.014292</td>\n",
       "    </tr>\n",
       "  </tbody>\n",
       "</table>\n",
       "<p>105 rows × 3 columns</p>\n",
       "</div>"
      ],
      "text/plain": [
       "            Positive Return  Predicted Value  Daily Returns\n",
       "2019-08-01                0                0      -0.018732\n",
       "2019-08-02                0                0      -0.013396\n",
       "2019-08-05                0                0      -0.050238\n",
       "2019-08-06                0                0       0.031094\n",
       "2019-08-07                1                0       0.011785\n",
       "...                     ...              ...            ...\n",
       "2019-12-23                1                0       0.029665\n",
       "2019-12-24                1                0       0.023312\n",
       "2019-12-26                1                1       0.002364\n",
       "2019-12-27                0                0      -0.009863\n",
       "2019-12-30                0                1      -0.014292\n",
       "\n",
       "[105 rows x 3 columns]"
      ]
     },
     "execution_count": 186,
     "metadata": {},
     "output_type": "execute_result"
    }
   ],
   "source": [
    "# Assemble actual y data (Y_test) with predicted y data (from just above) into two columns in a dataframe:\n",
    "Results = y_test.to_frame()\n",
    "Results[\"Predicted Value\"] = predictions\n",
    "Results['Daily Returns'] = amd_df['daily returns']\n",
    "Results"
   ]
  },
  {
   "cell_type": "code",
   "execution_count": 187,
   "metadata": {},
   "outputs": [
    {
     "data": {
      "text/plain": [
       "28"
      ]
     },
     "execution_count": 187,
     "metadata": {},
     "output_type": "execute_result"
    }
   ],
   "source": [
    "Results['Predicted Value'].sum()"
   ]
  },
  {
   "cell_type": "code",
   "execution_count": 190,
   "metadata": {},
   "outputs": [
    {
     "data": {
      "text/plain": [
       "40"
      ]
     },
     "execution_count": 190,
     "metadata": {},
     "output_type": "execute_result"
    }
   ],
   "source": [
    "Results['Positive Return'].sum()"
   ]
  },
  {
   "cell_type": "code",
   "execution_count": 188,
   "metadata": {},
   "outputs": [
    {
     "data": {
      "text/plain": [
       "<AxesSubplot:>"
      ]
     },
     "execution_count": 188,
     "metadata": {},
     "output_type": "execute_result"
    },
    {
     "data": {
      "image/png": "[encoded data removed]",
      "text/plain": [
       "<Figure size 432x288 with 1 Axes>"
      ]
     },
     "metadata": {
      "needs_background": "light"
     },
     "output_type": "display_data"
    }
   ],
   "source": [
    "# Calculate cumulative return of model and plot the result\n",
    "(1 + (Results['Daily Returns'] * Results['Predicted Value'])).cumprod().plot()"
   ]
  },
  {
   "cell_type": "code",
   "execution_count": 189,
   "metadata": {},
   "outputs": [
    {
     "data": {
      "text/plain": [
       "<AxesSubplot:>"
      ]
     },
     "execution_count": 189,
     "metadata": {},
     "output_type": "execute_result"
    },
    {
     "data": {
      "image/png": "[encoded data removed]",
      "text/plain": [
       "<Figure size 432x288 with 1 Axes>"
      ]
     },
     "metadata": {
      "needs_background": "light"
     },
     "output_type": "display_data"
    }
   ],
   "source": [
    "# Set initial capital allocation\n",
    "initial_capital = 100000\n",
    "\n",
    "# Plot cumulative return of model in terms of capital\n",
    "cumulative_return_capital = initial_capital * (1 + (Results['Daily Returns'] * Results['Predicted Value'])).cumprod()\n",
    "cumulative_return_capital.plot()"
   ]
  },
  {
   "cell_type": "code",
   "execution_count": null,
   "metadata": {},
   "outputs": [],
   "source": []
  }
 ],
 "metadata": {
  "kernelspec": {
   "display_name": "Python 3",
   "language": "python",
   "name": "python3"
  },
  "language_info": {
   "codemirror_mode": {
    "name": "ipython",
    "version": 3
   },
   "file_extension": ".py",
   "mimetype": "text/x-python",
   "name": "python",
   "nbconvert_exporter": "python",
   "pygments_lexer": "ipython3",
   "version": "3.7.9"
  }
 },
 "nbformat": 4,
 "nbformat_minor": 4
}
