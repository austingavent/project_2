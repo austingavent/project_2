{
 "cells": [
  {
   "cell_type": "code",
   "execution_count": 1,
   "metadata": {},
   "outputs": [],
   "source": [
    "import pandas as pd\n",
    "import numpy as np\n",
    "import datetime as dt\n",
    "from pathlib import Path\n",
    "from datetime import datetime, timedelta\n",
    "%matplotlib inline\n",
    "import yfinance as yf\n",
    "import mibian as mb"
   ]
  },
  {
   "cell_type": "code",
   "execution_count": 2,
   "metadata": {},
   "outputs": [],
   "source": [
    "tsla_df = pd.read_pickle('tsla_merged.pickle')"
   ]
  },
  {
   "cell_type": "code",
   "execution_count": 3,
   "metadata": {},
   "outputs": [],
   "source": [
    "df = tsla_df\n",
    "df = df.drop(columns= ['LastPrice', 'Symbol', 'Volume', 'OpenInterest', 'Volume'])\n",
    "#df['OptionKey'] =df['OptionKey'].map(lambda x: str(x)[:-10])\n"
   ]
  },
  {
   "cell_type": "code",
   "execution_count": 26,
   "metadata": {},
   "outputs": [],
   "source": [
    "df['ExpirationDate'] =  pd.to_datetime(df['ExpirationDate'], infer_datetime_format=True)\n",
    "df['DataDate'] =  pd.to_datetime(df['DataDate'], infer_datetime_format=True)\n",
    "df['delta'] = df['ExpirationDate'] - df['DataDate']\n",
    "\n",
    "df['exp?'] =df['ExpirationDate'] ==df['DataDate']\n",
    "df['long_close'] = ((df['delta'] < np.timedelta64(14, 'D')) & (df['% out'] > -.1) & (df['% out'] < 0))\n",
    "df['long_medium'] = ((df['delta'] < np.timedelta64(14, 'D')) & (df['% out'] > -.2) & (df['% out'] < -.1))\n",
    "df['long_far'] = ((df['delta'] < np.timedelta64(14, 'D')) & (df['% out'] > -.3) & (df['% out'] < -.2))\n",
    "df['short_close'] = ((df['delta'] < np.timedelta64(8, 'D')) & (df['% out'] > -.1) & (df['% out'] < 0))\n",
    "df['short_medium'] = ((df['delta'] < np.timedelta64(8, 'D')) & (df['% out'] > -.2) & (df['% out'] < -.1))\n",
    "df['short_far'] = ((df['delta'] < np.timedelta64(8, 'D')) & (df['% out'] > -.3) & (df['% out'] < -.2))\n",
    "\n",
    "#df['collatarel'] = ((df['delta'] < np.timedelta64(14, 'D')) & (df['% out'] > -.4) & (df['% out'] < -.2))\n",
    "df['Signal'] = np.random.randint(-1,2, df.shape[0])\n",
    "#df.loc[(df['Signal'] == 1) & (df['worth_it'] == True), 'execute']=df.loc[(df['Signal'] == 1) & (df['worth_it'] == True), 'AskPrice']\n",
    "#df['enter?'] = (df['worth_it'] == True) & (df['Signal'] == 1)\n",
    "#df.loc[df['enter?'] == True]\n",
    "pd.set_option('display.max_columns', 30)"
   ]
  },
  {
   "cell_type": "code",
   "execution_count": 27,
   "metadata": {},
   "outputs": [
    {
     "data": {
      "text/plain": [
       "1259"
      ]
     },
     "execution_count": 27,
     "metadata": {},
     "output_type": "execute_result"
    }
   ],
   "source": [
    "df_table=df.loc[:, ['OptionKey', 'BidPrice']]\n",
    "df_table=df_table.reset_index()\n",
    "df_table.columns=['PriceDate', 'OptionKey', 'RebuyPrice']\n",
    "df_table['RebuyPrice'].nunique()"
   ]
  },
  {
   "cell_type": "code",
   "execution_count": null,
   "metadata": {},
   "outputs": [],
   "source": [
    "#msft_df_table['PriceDate'] =  pd.to_datetime(msft_df_table['PriceDate'], infer_datetime_format=True)\n",
    "#msft_result = pd.merge(msft_df, msft_df_table, left_on=['ExpirationDate', 'OptionKey'], right_on=['PriceDate', 'OptionKey'], how='left')\n",
    "#msft_result"
   ]
  },
  {
   "cell_type": "code",
   "execution_count": 5,
   "metadata": {},
   "outputs": [],
   "source": [
    "#ok=msft_result.columns.values.tolist()\n",
    "#for column_name in ok:\n",
    " #  print(msft_result['RebuyPrice'].unique())"
   ]
  },
  {
   "cell_type": "code",
   "execution_count": 6,
   "metadata": {},
   "outputs": [],
   "source": [
    "#exp = (df.loc[df['exp?'] == True], "
   ]
  },
  {
   "cell_type": "code",
   "execution_count": 28,
   "metadata": {},
   "outputs": [
    {
     "data": {
      "text/html": [
       "<div>\n",
       "<style scoped>\n",
       "    .dataframe tbody tr th:only-of-type {\n",
       "        vertical-align: middle;\n",
       "    }\n",
       "\n",
       "    .dataframe tbody tr th {\n",
       "        vertical-align: top;\n",
       "    }\n",
       "\n",
       "    .dataframe thead th {\n",
       "        text-align: right;\n",
       "    }\n",
       "</style>\n",
       "<table border=\"1\" class=\"dataframe\">\n",
       "  <thead>\n",
       "    <tr style=\"text-align: right;\">\n",
       "      <th></th>\n",
       "      <th>OptionKey</th>\n",
       "      <th>xp</th>\n",
       "    </tr>\n",
       "  </thead>\n",
       "  <tbody>\n",
       "    <tr>\n",
       "      <th>2019-11-15</th>\n",
       "      <td>TSLA2019-11-15P165.00</td>\n",
       "      <td>0.01</td>\n",
       "    </tr>\n",
       "    <tr>\n",
       "      <th>2019-11-15</th>\n",
       "      <td>TSLA2019-11-15P170.00</td>\n",
       "      <td>0.01</td>\n",
       "    </tr>\n",
       "    <tr>\n",
       "      <th>2019-11-15</th>\n",
       "      <td>TSLA2019-11-15P180.00</td>\n",
       "      <td>0.06</td>\n",
       "    </tr>\n",
       "    <tr>\n",
       "      <th>2019-11-15</th>\n",
       "      <td>TSLA2019-11-15P200.00</td>\n",
       "      <td>0.01</td>\n",
       "    </tr>\n",
       "    <tr>\n",
       "      <th>2019-11-15</th>\n",
       "      <td>TSLA2019-11-15P205.00</td>\n",
       "      <td>0.01</td>\n",
       "    </tr>\n",
       "    <tr>\n",
       "      <th>...</th>\n",
       "      <td>...</td>\n",
       "      <td>...</td>\n",
       "    </tr>\n",
       "    <tr>\n",
       "      <th>2019-12-13</th>\n",
       "      <td>TSLA2019-12-13P375.00</td>\n",
       "      <td>18.60</td>\n",
       "    </tr>\n",
       "    <tr>\n",
       "      <th>2019-12-13</th>\n",
       "      <td>TSLA2019-12-13P380.00</td>\n",
       "      <td>23.60</td>\n",
       "    </tr>\n",
       "    <tr>\n",
       "      <th>2019-12-13</th>\n",
       "      <td>TSLA2019-12-13P385.00</td>\n",
       "      <td>28.55</td>\n",
       "    </tr>\n",
       "    <tr>\n",
       "      <th>2019-12-13</th>\n",
       "      <td>TSLA2019-12-13P395.00</td>\n",
       "      <td>38.55</td>\n",
       "    </tr>\n",
       "    <tr>\n",
       "      <th>2019-12-13</th>\n",
       "      <td>TSLA2019-12-13P400.00</td>\n",
       "      <td>43.10</td>\n",
       "    </tr>\n",
       "  </tbody>\n",
       "</table>\n",
       "<p>223 rows × 2 columns</p>\n",
       "</div>"
      ],
      "text/plain": [
       "                        OptionKey     xp\n",
       "2019-11-15  TSLA2019-11-15P165.00   0.01\n",
       "2019-11-15  TSLA2019-11-15P170.00   0.01\n",
       "2019-11-15  TSLA2019-11-15P180.00   0.06\n",
       "2019-11-15  TSLA2019-11-15P200.00   0.01\n",
       "2019-11-15  TSLA2019-11-15P205.00   0.01\n",
       "...                           ...    ...\n",
       "2019-12-13  TSLA2019-12-13P375.00  18.60\n",
       "2019-12-13  TSLA2019-12-13P380.00  23.60\n",
       "2019-12-13  TSLA2019-12-13P385.00  28.55\n",
       "2019-12-13  TSLA2019-12-13P395.00  38.55\n",
       "2019-12-13  TSLA2019-12-13P400.00  43.10\n",
       "\n",
       "[223 rows x 2 columns]"
      ]
     },
     "execution_count": 28,
     "metadata": {},
     "output_type": "execute_result"
    }
   ],
   "source": [
    "xp = df\n",
    "xp.loc[xp['exp?']== True, 'xp' ] = xp.loc[df['exp?'] == True, 'AskPrice']\n",
    "xp = xp.loc[xp['exp?']== True]\n",
    "xp= xp[['OptionKey', 'xp']]\n",
    "xp"
   ]
  },
  {
   "cell_type": "code",
   "execution_count": 8,
   "metadata": {},
   "outputs": [],
   "source": [
    "#mf = exp\n",
    "#mf = mf[['OptionKey', 'xp']]\n",
    "#mf = mf.dropna()\n",
    "#mf\n",
    "#msft_xp"
   ]
  },
  {
   "cell_type": "code",
   "execution_count": 29,
   "metadata": {},
   "outputs": [
    {
     "data": {
      "text/html": [
       "<div>\n",
       "<style scoped>\n",
       "    .dataframe tbody tr th:only-of-type {\n",
       "        vertical-align: middle;\n",
       "    }\n",
       "\n",
       "    .dataframe tbody tr th {\n",
       "        vertical-align: top;\n",
       "    }\n",
       "\n",
       "    .dataframe thead th {\n",
       "        text-align: right;\n",
       "    }\n",
       "</style>\n",
       "<table border=\"1\" class=\"dataframe\">\n",
       "  <thead>\n",
       "    <tr style=\"text-align: right;\">\n",
       "      <th></th>\n",
       "      <th>OptionKey</th>\n",
       "      <th>ExpirationDate</th>\n",
       "      <th>AskPrice</th>\n",
       "      <th>BidPrice</th>\n",
       "      <th>PutCall</th>\n",
       "      <th>StrikePrice</th>\n",
       "      <th>UnderlyingPrice</th>\n",
       "      <th>DataDate</th>\n",
       "      <th>time delta</th>\n",
       "      <th>% out</th>\n",
       "      <th>LSTM Predicted Signal</th>\n",
       "      <th>RF Predicted Value</th>\n",
       "      <th>LSTM OTM Cr Entry</th>\n",
       "      <th>RF OTM Cr Entry</th>\n",
       "      <th>Bid Price</th>\n",
       "      <th>delta</th>\n",
       "      <th>exp?</th>\n",
       "      <th>long_close</th>\n",
       "      <th>long_medium</th>\n",
       "      <th>long_far</th>\n",
       "      <th>short_close</th>\n",
       "      <th>short_medium</th>\n",
       "      <th>short_far</th>\n",
       "      <th>Signal</th>\n",
       "      <th>xp</th>\n",
       "    </tr>\n",
       "  </thead>\n",
       "  <tbody>\n",
       "    <tr>\n",
       "      <th>2019-11-14</th>\n",
       "      <td>TSLA2019-11-15P135.00</td>\n",
       "      <td>2019-11-15</td>\n",
       "      <td>0.01</td>\n",
       "      <td>0.00</td>\n",
       "      <td>put</td>\n",
       "      <td>135.0</td>\n",
       "      <td>349.35</td>\n",
       "      <td>2019-11-14</td>\n",
       "      <td>1 days</td>\n",
       "      <td>-0.613568</td>\n",
       "      <td>1</td>\n",
       "      <td>1</td>\n",
       "      <td>0.0</td>\n",
       "      <td>0.0</td>\n",
       "      <td>0.0</td>\n",
       "      <td>1 days</td>\n",
       "      <td>False</td>\n",
       "      <td>False</td>\n",
       "      <td>False</td>\n",
       "      <td>False</td>\n",
       "      <td>False</td>\n",
       "      <td>False</td>\n",
       "      <td>False</td>\n",
       "      <td>-1</td>\n",
       "      <td>NaN</td>\n",
       "    </tr>\n",
       "    <tr>\n",
       "      <th>2019-11-13</th>\n",
       "      <td>TSLA2019-11-15P155.00</td>\n",
       "      <td>2019-11-15</td>\n",
       "      <td>0.05</td>\n",
       "      <td>0.00</td>\n",
       "      <td>put</td>\n",
       "      <td>155.0</td>\n",
       "      <td>346.11</td>\n",
       "      <td>2019-11-13</td>\n",
       "      <td>2 days</td>\n",
       "      <td>-0.552165</td>\n",
       "      <td>1</td>\n",
       "      <td>1</td>\n",
       "      <td>0.0</td>\n",
       "      <td>0.0</td>\n",
       "      <td>0.0</td>\n",
       "      <td>2 days</td>\n",
       "      <td>False</td>\n",
       "      <td>False</td>\n",
       "      <td>False</td>\n",
       "      <td>False</td>\n",
       "      <td>False</td>\n",
       "      <td>False</td>\n",
       "      <td>False</td>\n",
       "      <td>0</td>\n",
       "      <td>NaN</td>\n",
       "    </tr>\n",
       "    <tr>\n",
       "      <th>2019-11-13</th>\n",
       "      <td>TSLA2019-11-15P165.00</td>\n",
       "      <td>2019-11-15</td>\n",
       "      <td>0.01</td>\n",
       "      <td>0.00</td>\n",
       "      <td>put</td>\n",
       "      <td>165.0</td>\n",
       "      <td>346.11</td>\n",
       "      <td>2019-11-13</td>\n",
       "      <td>2 days</td>\n",
       "      <td>-0.523273</td>\n",
       "      <td>1</td>\n",
       "      <td>1</td>\n",
       "      <td>0.0</td>\n",
       "      <td>0.0</td>\n",
       "      <td>0.0</td>\n",
       "      <td>2 days</td>\n",
       "      <td>False</td>\n",
       "      <td>False</td>\n",
       "      <td>False</td>\n",
       "      <td>False</td>\n",
       "      <td>False</td>\n",
       "      <td>False</td>\n",
       "      <td>False</td>\n",
       "      <td>1</td>\n",
       "      <td>0.01</td>\n",
       "    </tr>\n",
       "    <tr>\n",
       "      <th>2019-11-15</th>\n",
       "      <td>TSLA2019-11-15P165.00</td>\n",
       "      <td>2019-11-15</td>\n",
       "      <td>0.01</td>\n",
       "      <td>0.00</td>\n",
       "      <td>put</td>\n",
       "      <td>165.0</td>\n",
       "      <td>352.17</td>\n",
       "      <td>2019-11-15</td>\n",
       "      <td>0 days</td>\n",
       "      <td>-0.531476</td>\n",
       "      <td>1</td>\n",
       "      <td>1</td>\n",
       "      <td>0.0</td>\n",
       "      <td>0.0</td>\n",
       "      <td>0.0</td>\n",
       "      <td>0 days</td>\n",
       "      <td>True</td>\n",
       "      <td>False</td>\n",
       "      <td>False</td>\n",
       "      <td>False</td>\n",
       "      <td>False</td>\n",
       "      <td>False</td>\n",
       "      <td>False</td>\n",
       "      <td>-1</td>\n",
       "      <td>0.01</td>\n",
       "    </tr>\n",
       "    <tr>\n",
       "      <th>2019-11-15</th>\n",
       "      <td>TSLA2019-11-15P170.00</td>\n",
       "      <td>2019-11-15</td>\n",
       "      <td>0.01</td>\n",
       "      <td>0.00</td>\n",
       "      <td>put</td>\n",
       "      <td>170.0</td>\n",
       "      <td>352.17</td>\n",
       "      <td>2019-11-15</td>\n",
       "      <td>0 days</td>\n",
       "      <td>-0.517279</td>\n",
       "      <td>1</td>\n",
       "      <td>1</td>\n",
       "      <td>0.0</td>\n",
       "      <td>0.0</td>\n",
       "      <td>0.0</td>\n",
       "      <td>0 days</td>\n",
       "      <td>True</td>\n",
       "      <td>False</td>\n",
       "      <td>False</td>\n",
       "      <td>False</td>\n",
       "      <td>False</td>\n",
       "      <td>False</td>\n",
       "      <td>False</td>\n",
       "      <td>1</td>\n",
       "      <td>0.01</td>\n",
       "    </tr>\n",
       "    <tr>\n",
       "      <th>...</th>\n",
       "      <td>...</td>\n",
       "      <td>...</td>\n",
       "      <td>...</td>\n",
       "      <td>...</td>\n",
       "      <td>...</td>\n",
       "      <td>...</td>\n",
       "      <td>...</td>\n",
       "      <td>...</td>\n",
       "      <td>...</td>\n",
       "      <td>...</td>\n",
       "      <td>...</td>\n",
       "      <td>...</td>\n",
       "      <td>...</td>\n",
       "      <td>...</td>\n",
       "      <td>...</td>\n",
       "      <td>...</td>\n",
       "      <td>...</td>\n",
       "      <td>...</td>\n",
       "      <td>...</td>\n",
       "      <td>...</td>\n",
       "      <td>...</td>\n",
       "      <td>...</td>\n",
       "      <td>...</td>\n",
       "      <td>...</td>\n",
       "      <td>...</td>\n",
       "    </tr>\n",
       "    <tr>\n",
       "      <th>2019-11-19</th>\n",
       "      <td>TSLA2019-12-27P475.00</td>\n",
       "      <td>2019-12-27</td>\n",
       "      <td>118.35</td>\n",
       "      <td>114.00</td>\n",
       "      <td>put</td>\n",
       "      <td>475.0</td>\n",
       "      <td>359.52</td>\n",
       "      <td>2019-11-19</td>\n",
       "      <td>38 days</td>\n",
       "      <td>0.321206</td>\n",
       "      <td>-1</td>\n",
       "      <td>1</td>\n",
       "      <td>0.0</td>\n",
       "      <td>11835.0</td>\n",
       "      <td>11400.0</td>\n",
       "      <td>38 days</td>\n",
       "      <td>False</td>\n",
       "      <td>False</td>\n",
       "      <td>False</td>\n",
       "      <td>False</td>\n",
       "      <td>False</td>\n",
       "      <td>False</td>\n",
       "      <td>False</td>\n",
       "      <td>1</td>\n",
       "      <td>NaN</td>\n",
       "    </tr>\n",
       "    <tr>\n",
       "      <th>2019-11-22</th>\n",
       "      <td>TSLA2019-12-27P475.00</td>\n",
       "      <td>2019-12-27</td>\n",
       "      <td>143.75</td>\n",
       "      <td>139.75</td>\n",
       "      <td>put</td>\n",
       "      <td>475.0</td>\n",
       "      <td>333.04</td>\n",
       "      <td>2019-11-22</td>\n",
       "      <td>35 days</td>\n",
       "      <td>0.426255</td>\n",
       "      <td>-1</td>\n",
       "      <td>1</td>\n",
       "      <td>0.0</td>\n",
       "      <td>14375.0</td>\n",
       "      <td>13975.0</td>\n",
       "      <td>35 days</td>\n",
       "      <td>False</td>\n",
       "      <td>False</td>\n",
       "      <td>False</td>\n",
       "      <td>False</td>\n",
       "      <td>False</td>\n",
       "      <td>False</td>\n",
       "      <td>False</td>\n",
       "      <td>-1</td>\n",
       "      <td>NaN</td>\n",
       "    </tr>\n",
       "    <tr>\n",
       "      <th>2019-11-25</th>\n",
       "      <td>TSLA2019-12-27P475.00</td>\n",
       "      <td>2019-12-27</td>\n",
       "      <td>140.50</td>\n",
       "      <td>136.35</td>\n",
       "      <td>put</td>\n",
       "      <td>475.0</td>\n",
       "      <td>336.34</td>\n",
       "      <td>2019-11-25</td>\n",
       "      <td>32 days</td>\n",
       "      <td>0.412261</td>\n",
       "      <td>-1</td>\n",
       "      <td>0</td>\n",
       "      <td>0.0</td>\n",
       "      <td>0.0</td>\n",
       "      <td>13635.0</td>\n",
       "      <td>32 days</td>\n",
       "      <td>False</td>\n",
       "      <td>False</td>\n",
       "      <td>False</td>\n",
       "      <td>False</td>\n",
       "      <td>False</td>\n",
       "      <td>False</td>\n",
       "      <td>False</td>\n",
       "      <td>0</td>\n",
       "      <td>NaN</td>\n",
       "    </tr>\n",
       "    <tr>\n",
       "      <th>2019-12-18</th>\n",
       "      <td>TSLA2019-12-27P490.00</td>\n",
       "      <td>2019-12-27</td>\n",
       "      <td>97.60</td>\n",
       "      <td>96.30</td>\n",
       "      <td>put</td>\n",
       "      <td>490.0</td>\n",
       "      <td>393.15</td>\n",
       "      <td>2019-12-18</td>\n",
       "      <td>9 days</td>\n",
       "      <td>0.246344</td>\n",
       "      <td>1</td>\n",
       "      <td>1</td>\n",
       "      <td>9760.0</td>\n",
       "      <td>9760.0</td>\n",
       "      <td>9630.0</td>\n",
       "      <td>9 days</td>\n",
       "      <td>False</td>\n",
       "      <td>False</td>\n",
       "      <td>False</td>\n",
       "      <td>False</td>\n",
       "      <td>False</td>\n",
       "      <td>False</td>\n",
       "      <td>False</td>\n",
       "      <td>0</td>\n",
       "      <td>NaN</td>\n",
       "    </tr>\n",
       "    <tr>\n",
       "      <th>2019-12-17</th>\n",
       "      <td>TSLA2019-12-27P500.00</td>\n",
       "      <td>2019-12-27</td>\n",
       "      <td>121.60</td>\n",
       "      <td>120.60</td>\n",
       "      <td>put</td>\n",
       "      <td>500.0</td>\n",
       "      <td>378.99</td>\n",
       "      <td>2019-12-17</td>\n",
       "      <td>10 days</td>\n",
       "      <td>0.319296</td>\n",
       "      <td>1</td>\n",
       "      <td>1</td>\n",
       "      <td>12160.0</td>\n",
       "      <td>12160.0</td>\n",
       "      <td>12060.0</td>\n",
       "      <td>10 days</td>\n",
       "      <td>False</td>\n",
       "      <td>False</td>\n",
       "      <td>False</td>\n",
       "      <td>False</td>\n",
       "      <td>False</td>\n",
       "      <td>False</td>\n",
       "      <td>False</td>\n",
       "      <td>1</td>\n",
       "      <td>NaN</td>\n",
       "    </tr>\n",
       "  </tbody>\n",
       "</table>\n",
       "<p>5834 rows × 25 columns</p>\n",
       "</div>"
      ],
      "text/plain": [
       "                        OptionKey ExpirationDate  AskPrice  BidPrice PutCall  \\\n",
       "2019-11-14  TSLA2019-11-15P135.00     2019-11-15      0.01      0.00     put   \n",
       "2019-11-13  TSLA2019-11-15P155.00     2019-11-15      0.05      0.00     put   \n",
       "2019-11-13  TSLA2019-11-15P165.00     2019-11-15      0.01      0.00     put   \n",
       "2019-11-15  TSLA2019-11-15P165.00     2019-11-15      0.01      0.00     put   \n",
       "2019-11-15  TSLA2019-11-15P170.00     2019-11-15      0.01      0.00     put   \n",
       "...                           ...            ...       ...       ...     ...   \n",
       "2019-11-19  TSLA2019-12-27P475.00     2019-12-27    118.35    114.00     put   \n",
       "2019-11-22  TSLA2019-12-27P475.00     2019-12-27    143.75    139.75     put   \n",
       "2019-11-25  TSLA2019-12-27P475.00     2019-12-27    140.50    136.35     put   \n",
       "2019-12-18  TSLA2019-12-27P490.00     2019-12-27     97.60     96.30     put   \n",
       "2019-12-17  TSLA2019-12-27P500.00     2019-12-27    121.60    120.60     put   \n",
       "\n",
       "            StrikePrice  UnderlyingPrice   DataDate time delta     % out  \\\n",
       "2019-11-14        135.0           349.35 2019-11-14     1 days -0.613568   \n",
       "2019-11-13        155.0           346.11 2019-11-13     2 days -0.552165   \n",
       "2019-11-13        165.0           346.11 2019-11-13     2 days -0.523273   \n",
       "2019-11-15        165.0           352.17 2019-11-15     0 days -0.531476   \n",
       "2019-11-15        170.0           352.17 2019-11-15     0 days -0.517279   \n",
       "...                 ...              ...        ...        ...       ...   \n",
       "2019-11-19        475.0           359.52 2019-11-19    38 days  0.321206   \n",
       "2019-11-22        475.0           333.04 2019-11-22    35 days  0.426255   \n",
       "2019-11-25        475.0           336.34 2019-11-25    32 days  0.412261   \n",
       "2019-12-18        490.0           393.15 2019-12-18     9 days  0.246344   \n",
       "2019-12-17        500.0           378.99 2019-12-17    10 days  0.319296   \n",
       "\n",
       "            LSTM Predicted Signal  RF Predicted Value  LSTM OTM Cr Entry  \\\n",
       "2019-11-14                      1                   1                0.0   \n",
       "2019-11-13                      1                   1                0.0   \n",
       "2019-11-13                      1                   1                0.0   \n",
       "2019-11-15                      1                   1                0.0   \n",
       "2019-11-15                      1                   1                0.0   \n",
       "...                           ...                 ...                ...   \n",
       "2019-11-19                     -1                   1                0.0   \n",
       "2019-11-22                     -1                   1                0.0   \n",
       "2019-11-25                     -1                   0                0.0   \n",
       "2019-12-18                      1                   1             9760.0   \n",
       "2019-12-17                      1                   1            12160.0   \n",
       "\n",
       "            RF OTM Cr Entry  Bid Price   delta   exp?  long_close  \\\n",
       "2019-11-14              0.0        0.0  1 days  False       False   \n",
       "2019-11-13              0.0        0.0  2 days  False       False   \n",
       "2019-11-13              0.0        0.0  2 days  False       False   \n",
       "2019-11-15              0.0        0.0  0 days   True       False   \n",
       "2019-11-15              0.0        0.0  0 days   True       False   \n",
       "...                     ...        ...     ...    ...         ...   \n",
       "2019-11-19          11835.0    11400.0 38 days  False       False   \n",
       "2019-11-22          14375.0    13975.0 35 days  False       False   \n",
       "2019-11-25              0.0    13635.0 32 days  False       False   \n",
       "2019-12-18           9760.0     9630.0  9 days  False       False   \n",
       "2019-12-17          12160.0    12060.0 10 days  False       False   \n",
       "\n",
       "            long_medium  long_far  short_close  short_medium  short_far  \\\n",
       "2019-11-14        False     False        False         False      False   \n",
       "2019-11-13        False     False        False         False      False   \n",
       "2019-11-13        False     False        False         False      False   \n",
       "2019-11-15        False     False        False         False      False   \n",
       "2019-11-15        False     False        False         False      False   \n",
       "...                 ...       ...          ...           ...        ...   \n",
       "2019-11-19        False     False        False         False      False   \n",
       "2019-11-22        False     False        False         False      False   \n",
       "2019-11-25        False     False        False         False      False   \n",
       "2019-12-18        False     False        False         False      False   \n",
       "2019-12-17        False     False        False         False      False   \n",
       "\n",
       "            Signal    xp  \n",
       "2019-11-14      -1   NaN  \n",
       "2019-11-13       0   NaN  \n",
       "2019-11-13       1  0.01  \n",
       "2019-11-15      -1  0.01  \n",
       "2019-11-15       1  0.01  \n",
       "...            ...   ...  \n",
       "2019-11-19       1   NaN  \n",
       "2019-11-22      -1   NaN  \n",
       "2019-11-25       0   NaN  \n",
       "2019-12-18       0   NaN  \n",
       "2019-12-17       1   NaN  \n",
       "\n",
       "[5834 rows x 25 columns]"
      ]
     },
     "execution_count": 29,
     "metadata": {},
     "output_type": "execute_result"
    }
   ],
   "source": [
    "df['xp']=df.OptionKey.map(xp.set_index('OptionKey')['xp'])\n",
    "df"
   ]
  },
  {
   "cell_type": "code",
   "execution_count": 10,
   "metadata": {},
   "outputs": [
    {
     "name": "stdout",
     "output_type": "stream",
     "text": [
      "-57.769999999999996\n"
     ]
    },
    {
     "name": "stderr",
     "output_type": "stream",
     "text": [
      "<ipython-input-10-db0ecfdb9cad>:2: SettingWithCopyWarning: \n",
      "A value is trying to be set on a copy of a slice from a DataFrame.\n",
      "Try using .loc[row_indexer,col_indexer] = value instead\n",
      "\n",
      "See the caveats in the documentation: https://pandas.pydata.org/pandas-docs/stable/user_guide/indexing.html#returning-a-view-versus-a-copy\n",
      "  short_close['log'] = short_close['AskPrice'] - short_close['xp']\n"
     ]
    }
   ],
   "source": [
    "short_close = df.loc[(df['short_close']== True) & (df['Signal'] == 1)]\n",
    "short_close['log'] = short_close['AskPrice'] - short_close['xp']\n",
    "short_close_total = short_close['log'].sum()\n",
    "print(short_close_total)"
   ]
  },
  {
   "cell_type": "code",
   "execution_count": 49,
   "metadata": {},
   "outputs": [
    {
     "name": "stdout",
     "output_type": "stream",
     "text": [
      "-183.46999999999994\n"
     ]
    },
    {
     "name": "stderr",
     "output_type": "stream",
     "text": [
      "<ipython-input-49-26e370e263bb>:2: SettingWithCopyWarning: \n",
      "A value is trying to be set on a copy of a slice from a DataFrame.\n",
      "Try using .loc[row_indexer,col_indexer] = value instead\n",
      "\n",
      "See the caveats in the documentation: https://pandas.pydata.org/pandas-docs/stable/user_guide/indexing.html#returning-a-view-versus-a-copy\n",
      "  short_close_RF['log'] = short_close_RF['AskPrice'] - short_close_RF['xp']\n"
     ]
    }
   ],
   "source": [
    "short_close_RF = df.loc[(df['short_close']== True) & (df['RF Predicted Value'] == 1)]\n",
    "short_close_RF['log'] = short_close_RF['AskPrice'] - short_close_RF['xp']\n",
    "short_close_RF_total = short_close_RF['log'].sum()\n",
    "print(short_close_RF_total)"
   ]
  },
  {
   "cell_type": "code",
   "execution_count": 30,
   "metadata": {},
   "outputs": [
    {
     "name": "stdout",
     "output_type": "stream",
     "text": [
      "66.73000000000002\n"
     ]
    },
    {
     "name": "stderr",
     "output_type": "stream",
     "text": [
      "<ipython-input-30-859958c1296c>:2: SettingWithCopyWarning: \n",
      "A value is trying to be set on a copy of a slice from a DataFrame.\n",
      "Try using .loc[row_indexer,col_indexer] = value instead\n",
      "\n",
      "See the caveats in the documentation: https://pandas.pydata.org/pandas-docs/stable/user_guide/indexing.html#returning-a-view-versus-a-copy\n",
      "  short_close_LTSM['log'] = short_close_LTSM['AskPrice'] - short_close_LTSM['xp']\n"
     ]
    }
   ],
   "source": [
    "short_close_LTSM = df.loc[(df['short_close']== True) & (df['LSTM Predicted Signal'] == 1)]\n",
    "short_close_LTSM['log'] = short_close_LTSM['AskPrice'] - short_close_LTSM['xp']\n",
    "short_close_LTSM_total = short_close_LTSM['log'].sum()\n",
    "print(short_close_LTSM_total)"
   ]
  },
  {
   "cell_type": "code",
   "execution_count": 11,
   "metadata": {},
   "outputs": [
    {
     "name": "stdout",
     "output_type": "stream",
     "text": [
      "2.56\n"
     ]
    },
    {
     "name": "stderr",
     "output_type": "stream",
     "text": [
      "<ipython-input-11-e8b5d44531af>:2: SettingWithCopyWarning: \n",
      "A value is trying to be set on a copy of a slice from a DataFrame.\n",
      "Try using .loc[row_indexer,col_indexer] = value instead\n",
      "\n",
      "See the caveats in the documentation: https://pandas.pydata.org/pandas-docs/stable/user_guide/indexing.html#returning-a-view-versus-a-copy\n",
      "  short_medium['log'] = short_medium['AskPrice'] - short_medium['xp']\n"
     ]
    }
   ],
   "source": [
    "short_medium = df.loc[(df['short_medium']== True) & (df['Signal'] == 1)]\n",
    "short_medium['log'] = short_medium['AskPrice'] - short_medium['xp']\n",
    "short_medium_total = short_medium['log'].sum()\n",
    "print(short_medium_total)"
   ]
  },
  {
   "cell_type": "code",
   "execution_count": 32,
   "metadata": {},
   "outputs": [
    {
     "name": "stdout",
     "output_type": "stream",
     "text": [
      "7.68\n"
     ]
    },
    {
     "name": "stderr",
     "output_type": "stream",
     "text": [
      "<ipython-input-32-3e62de6047f9>:2: SettingWithCopyWarning: \n",
      "A value is trying to be set on a copy of a slice from a DataFrame.\n",
      "Try using .loc[row_indexer,col_indexer] = value instead\n",
      "\n",
      "See the caveats in the documentation: https://pandas.pydata.org/pandas-docs/stable/user_guide/indexing.html#returning-a-view-versus-a-copy\n",
      "  short_medium_RF['log'] = short_medium_RF['AskPrice'] - short_medium_RF['xp']\n"
     ]
    }
   ],
   "source": [
    "short_medium_RF = df.loc[(df['short_medium']== True) & (df['RF Predicted Value'] == 1)]\n",
    "short_medium_RF['log'] = short_medium_RF['AskPrice'] - short_medium_RF['xp']\n",
    "short_medium_RF_total = short_medium_RF['log'].sum()\n",
    "print(short_medium_RF_total)"
   ]
  },
  {
   "cell_type": "code",
   "execution_count": 35,
   "metadata": {},
   "outputs": [
    {
     "name": "stdout",
     "output_type": "stream",
     "text": [
      "6.51\n"
     ]
    },
    {
     "name": "stderr",
     "output_type": "stream",
     "text": [
      "<ipython-input-35-fcf0944296be>:2: SettingWithCopyWarning: \n",
      "A value is trying to be set on a copy of a slice from a DataFrame.\n",
      "Try using .loc[row_indexer,col_indexer] = value instead\n",
      "\n",
      "See the caveats in the documentation: https://pandas.pydata.org/pandas-docs/stable/user_guide/indexing.html#returning-a-view-versus-a-copy\n",
      "  short_medium_LTSM['log'] = short_medium_LTSM['AskPrice'] - short_medium_LTSM['xp']\n"
     ]
    }
   ],
   "source": [
    "short_medium_LTSM = df.loc[(df['short_medium']== True) & (df['LSTM Predicted Signal'] == 1)]\n",
    "short_medium_LTSM['log'] = short_medium_LTSM['AskPrice'] - short_medium_LTSM['xp']\n",
    "short_medium_LTSM_total = short_medium_LTSM['log'].sum()\n",
    "print(short_medium_LTSM_total)"
   ]
  },
  {
   "cell_type": "code",
   "execution_count": 12,
   "metadata": {},
   "outputs": [
    {
     "name": "stdout",
     "output_type": "stream",
     "text": [
      "0.11000000000000001\n"
     ]
    },
    {
     "name": "stderr",
     "output_type": "stream",
     "text": [
      "<ipython-input-12-ac8845e429a2>:2: SettingWithCopyWarning: \n",
      "A value is trying to be set on a copy of a slice from a DataFrame.\n",
      "Try using .loc[row_indexer,col_indexer] = value instead\n",
      "\n",
      "See the caveats in the documentation: https://pandas.pydata.org/pandas-docs/stable/user_guide/indexing.html#returning-a-view-versus-a-copy\n",
      "  short_far['log'] = short_far['AskPrice'] - short_far['xp']\n"
     ]
    }
   ],
   "source": [
    "short_far = df.loc[(df['short_far']== True) & (df['Signal'] == 1)]\n",
    "short_far['log'] = short_far['AskPrice'] - short_far['xp']\n",
    "short_far_total = short_far['log'].sum()\n",
    "print(short_far_total)"
   ]
  },
  {
   "cell_type": "code",
   "execution_count": 51,
   "metadata": {},
   "outputs": [
    {
     "name": "stdout",
     "output_type": "stream",
     "text": [
      "0.26\n"
     ]
    },
    {
     "name": "stderr",
     "output_type": "stream",
     "text": [
      "<ipython-input-51-b3a1e7696dea>:2: SettingWithCopyWarning: \n",
      "A value is trying to be set on a copy of a slice from a DataFrame.\n",
      "Try using .loc[row_indexer,col_indexer] = value instead\n",
      "\n",
      "See the caveats in the documentation: https://pandas.pydata.org/pandas-docs/stable/user_guide/indexing.html#returning-a-view-versus-a-copy\n",
      "  short_far_LTSM['log'] = short_far_LTSM['AskPrice'] - short_far_LTSM['xp']\n"
     ]
    }
   ],
   "source": [
    "short_far_LTSM = df.loc[(df['short_far']== True) & (df['LSTM Predicted Signal'] == 1)]\n",
    "short_far_LTSM['log'] = short_far_LTSM['AskPrice'] - short_far_LTSM['xp']\n",
    "short_far_LTSM_total = short_far_LTSM['log'].sum()\n",
    "print(short_far_LTSM_total)"
   ]
  },
  {
   "cell_type": "code",
   "execution_count": 52,
   "metadata": {},
   "outputs": [
    {
     "name": "stdout",
     "output_type": "stream",
     "text": [
      "0.47\n"
     ]
    },
    {
     "name": "stderr",
     "output_type": "stream",
     "text": [
      "<ipython-input-52-18c5042b77ee>:2: SettingWithCopyWarning: \n",
      "A value is trying to be set on a copy of a slice from a DataFrame.\n",
      "Try using .loc[row_indexer,col_indexer] = value instead\n",
      "\n",
      "See the caveats in the documentation: https://pandas.pydata.org/pandas-docs/stable/user_guide/indexing.html#returning-a-view-versus-a-copy\n",
      "  short_far_RF['log'] = short_far_RF['AskPrice'] - short_far_RF['xp']\n"
     ]
    }
   ],
   "source": [
    "short_far_RF = df.loc[(df['short_far']== True) & (df['RF Predicted Value'] == 1)]\n",
    "short_far_RF['log'] = short_far_RF['AskPrice'] - short_far_RF['xp']\n",
    "short_far_RF_total = short_far_RF['log'].sum()\n",
    "print(short_far_RF_total)"
   ]
  },
  {
   "cell_type": "code",
   "execution_count": 13,
   "metadata": {},
   "outputs": [
    {
     "name": "stdout",
     "output_type": "stream",
     "text": [
      "-60.41999999999999\n"
     ]
    },
    {
     "name": "stderr",
     "output_type": "stream",
     "text": [
      "<ipython-input-13-75a269248bd1>:2: SettingWithCopyWarning: \n",
      "A value is trying to be set on a copy of a slice from a DataFrame.\n",
      "Try using .loc[row_indexer,col_indexer] = value instead\n",
      "\n",
      "See the caveats in the documentation: https://pandas.pydata.org/pandas-docs/stable/user_guide/indexing.html#returning-a-view-versus-a-copy\n",
      "  long_close['log'] = long_close['AskPrice'] - long_close['xp']\n"
     ]
    }
   ],
   "source": [
    "long_close = df.loc[(df['long_close']== True) & (df['Signal'] == 1)]\n",
    "long_close['log'] = long_close['AskPrice'] - long_close['xp']\n",
    "long_close_total = long_close['log'].sum()\n",
    "print(long_close_total)"
   ]
  },
  {
   "cell_type": "code",
   "execution_count": 36,
   "metadata": {},
   "outputs": [
    {
     "name": "stdout",
     "output_type": "stream",
     "text": [
      "183.60000000000002\n"
     ]
    },
    {
     "name": "stderr",
     "output_type": "stream",
     "text": [
      "<ipython-input-36-3a82462531d2>:2: SettingWithCopyWarning: \n",
      "A value is trying to be set on a copy of a slice from a DataFrame.\n",
      "Try using .loc[row_indexer,col_indexer] = value instead\n",
      "\n",
      "See the caveats in the documentation: https://pandas.pydata.org/pandas-docs/stable/user_guide/indexing.html#returning-a-view-versus-a-copy\n",
      "  long_close_LTSM['log'] = long_close_LTSM['AskPrice'] - long_close_LTSM['xp']\n"
     ]
    }
   ],
   "source": [
    "long_close_LTSM = df.loc[(df['long_close']== True) & (df['LSTM Predicted Signal'] == 1)]\n",
    "long_close_LTSM['log'] = long_close_LTSM['AskPrice'] - long_close_LTSM['xp']\n",
    "long_close_LTSM_total = long_close_LTSM['log'].sum()\n",
    "print(long_close_LTSM_total)"
   ]
  },
  {
   "cell_type": "code",
   "execution_count": 37,
   "metadata": {},
   "outputs": [
    {
     "name": "stdout",
     "output_type": "stream",
     "text": [
      "-284.42\n"
     ]
    },
    {
     "name": "stderr",
     "output_type": "stream",
     "text": [
      "<ipython-input-37-2c96faa3b979>:2: SettingWithCopyWarning: \n",
      "A value is trying to be set on a copy of a slice from a DataFrame.\n",
      "Try using .loc[row_indexer,col_indexer] = value instead\n",
      "\n",
      "See the caveats in the documentation: https://pandas.pydata.org/pandas-docs/stable/user_guide/indexing.html#returning-a-view-versus-a-copy\n",
      "  long_close_RF['log'] = long_close_RF['AskPrice'] - long_close_RF['xp']\n"
     ]
    }
   ],
   "source": [
    "long_close_RF = df.loc[(df['long_close']== True) & (df['RF Predicted Value'] == 1)]\n",
    "long_close_RF['log'] = long_close_RF['AskPrice'] - long_close_RF['xp']\n",
    "long_close_RF_total = long_close_RF['log'].sum()\n",
    "print(long_close_RF_total)"
   ]
  },
  {
   "cell_type": "code",
   "execution_count": 14,
   "metadata": {},
   "outputs": [
    {
     "name": "stdout",
     "output_type": "stream",
     "text": [
      "0.45000000000000007\n"
     ]
    },
    {
     "name": "stderr",
     "output_type": "stream",
     "text": [
      "<ipython-input-14-f50bec28ebd4>:2: SettingWithCopyWarning: \n",
      "A value is trying to be set on a copy of a slice from a DataFrame.\n",
      "Try using .loc[row_indexer,col_indexer] = value instead\n",
      "\n",
      "See the caveats in the documentation: https://pandas.pydata.org/pandas-docs/stable/user_guide/indexing.html#returning-a-view-versus-a-copy\n",
      "  long_far['log'] = long_far['AskPrice'] - long_far['xp']\n"
     ]
    }
   ],
   "source": [
    "long_far = df.loc[(df['long_far']== True) & (df['Signal'] == 1)]\n",
    "long_far['log'] = long_far['AskPrice'] - long_far['xp']\n",
    "long_far_total = long_far['log'].sum()\n",
    "print(long_far_total)"
   ]
  },
  {
   "cell_type": "code",
   "execution_count": 40,
   "metadata": {},
   "outputs": [
    {
     "name": "stdout",
     "output_type": "stream",
     "text": [
      "1.19\n"
     ]
    },
    {
     "name": "stderr",
     "output_type": "stream",
     "text": [
      "<ipython-input-40-42ba9debbf05>:2: SettingWithCopyWarning: \n",
      "A value is trying to be set on a copy of a slice from a DataFrame.\n",
      "Try using .loc[row_indexer,col_indexer] = value instead\n",
      "\n",
      "See the caveats in the documentation: https://pandas.pydata.org/pandas-docs/stable/user_guide/indexing.html#returning-a-view-versus-a-copy\n",
      "  long_far_RF['log'] = long_far_RF['AskPrice'] - long_far_RF['xp']\n"
     ]
    }
   ],
   "source": [
    "long_far_RF = df.loc[(df['long_far']== True) & (df['RF Predicted Value'] == 1)]\n",
    "long_far_RF['log'] = long_far_RF['AskPrice'] - long_far_RF['xp']\n",
    "long_far_RF_total = long_far_RF['log'].sum()\n",
    "print(long_far_RF_total)"
   ]
  },
  {
   "cell_type": "code",
   "execution_count": 41,
   "metadata": {},
   "outputs": [
    {
     "name": "stdout",
     "output_type": "stream",
     "text": [
      "0.4\n"
     ]
    },
    {
     "name": "stderr",
     "output_type": "stream",
     "text": [
      "<ipython-input-41-7db88ed9f97f>:2: SettingWithCopyWarning: \n",
      "A value is trying to be set on a copy of a slice from a DataFrame.\n",
      "Try using .loc[row_indexer,col_indexer] = value instead\n",
      "\n",
      "See the caveats in the documentation: https://pandas.pydata.org/pandas-docs/stable/user_guide/indexing.html#returning-a-view-versus-a-copy\n",
      "  long_far_LTSM['log'] = long_far_LTSM['AskPrice'] - long_far_LTSM['xp']\n"
     ]
    }
   ],
   "source": [
    "long_far_LTSM = df.loc[(df['long_far']== True) & (df['LSTM Predicted Signal'] == 1)]\n",
    "long_far_LTSM['log'] = long_far_LTSM['AskPrice'] - long_far_LTSM['xp']\n",
    "long_far_LTSM_total = long_far_LTSM['log'].sum()\n",
    "print(long_far_LTSM_total)"
   ]
  },
  {
   "cell_type": "code",
   "execution_count": 38,
   "metadata": {},
   "outputs": [
    {
     "name": "stdout",
     "output_type": "stream",
     "text": [
      "17.59\n"
     ]
    },
    {
     "name": "stderr",
     "output_type": "stream",
     "text": [
      "<ipython-input-38-9fa1fb1575a9>:2: SettingWithCopyWarning: \n",
      "A value is trying to be set on a copy of a slice from a DataFrame.\n",
      "Try using .loc[row_indexer,col_indexer] = value instead\n",
      "\n",
      "See the caveats in the documentation: https://pandas.pydata.org/pandas-docs/stable/user_guide/indexing.html#returning-a-view-versus-a-copy\n",
      "  long_medium_LTSM['log'] = long_medium_LTSM['AskPrice'] - long_medium_LTSM['xp']\n"
     ]
    }
   ],
   "source": [
    "long_medium_LTSM = df.loc[(df['long_medium']== True) & (df['LSTM Predicted Signal'] == 1)]\n",
    "long_medium_LTSM['log'] = long_medium_LTSM['AskPrice'] - long_medium_LTSM['xp']\n",
    "long_medium_LTSM_total = long_medium_LTSM['log'].sum()\n",
    "print(long_medium_LTSM_total)"
   ]
  },
  {
   "cell_type": "code",
   "execution_count": 39,
   "metadata": {},
   "outputs": [
    {
     "name": "stdout",
     "output_type": "stream",
     "text": [
      "27.61\n"
     ]
    },
    {
     "name": "stderr",
     "output_type": "stream",
     "text": [
      "<ipython-input-39-29d39dcc6c84>:2: SettingWithCopyWarning: \n",
      "A value is trying to be set on a copy of a slice from a DataFrame.\n",
      "Try using .loc[row_indexer,col_indexer] = value instead\n",
      "\n",
      "See the caveats in the documentation: https://pandas.pydata.org/pandas-docs/stable/user_guide/indexing.html#returning-a-view-versus-a-copy\n",
      "  long_medium_RF['log'] = long_medium_RF['AskPrice'] - long_medium_RF['xp']\n"
     ]
    }
   ],
   "source": [
    "long_medium_RF = df.loc[(df['long_medium']== True) & (df['RF Predicted Value'] == 1)]\n",
    "long_medium_RF['log'] = long_medium_RF['AskPrice'] - long_medium_RF['xp']\n",
    "long_medium_RF_total = long_medium_RF['log'].sum()\n",
    "print(long_medium_RF_total)"
   ]
  },
  {
   "cell_type": "code",
   "execution_count": 15,
   "metadata": {},
   "outputs": [
    {
     "name": "stdout",
     "output_type": "stream",
     "text": [
      "8.879999999999999\n"
     ]
    },
    {
     "name": "stderr",
     "output_type": "stream",
     "text": [
      "<ipython-input-15-466d7a72f370>:2: SettingWithCopyWarning: \n",
      "A value is trying to be set on a copy of a slice from a DataFrame.\n",
      "Try using .loc[row_indexer,col_indexer] = value instead\n",
      "\n",
      "See the caveats in the documentation: https://pandas.pydata.org/pandas-docs/stable/user_guide/indexing.html#returning-a-view-versus-a-copy\n",
      "  long_medium['log'] = long_medium['AskPrice'] - long_medium['xp']\n"
     ]
    }
   ],
   "source": [
    "long_medium = df.loc[(df['long_medium']== True) & (df['Signal'] == 1)]\n",
    "long_medium['log'] = long_medium['AskPrice'] - long_medium['xp']\n",
    "long_medium_total = long_medium['log'].sum()\n",
    "print(long_medium_total)"
   ]
  },
  {
   "cell_type": "code",
   "execution_count": 16,
   "metadata": {},
   "outputs": [
    {
     "data": {
      "text/plain": [
       "-8.474285714285713"
      ]
     },
     "execution_count": 16,
     "metadata": {},
     "output_type": "execute_result"
    }
   ],
   "source": [
    "short_close_negatives =(short_close.loc[(short_close.log < 0)])\n",
    "short_close_negatives.log.mean()\n",
    "# there are 14 times we were wrong"
   ]
  },
  {
   "cell_type": "code",
   "execution_count": 17,
   "metadata": {},
   "outputs": [
    {
     "data": {
      "text/html": [
       "<div>\n",
       "<style scoped>\n",
       "    .dataframe tbody tr th:only-of-type {\n",
       "        vertical-align: middle;\n",
       "    }\n",
       "\n",
       "    .dataframe tbody tr th {\n",
       "        vertical-align: top;\n",
       "    }\n",
       "\n",
       "    .dataframe thead th {\n",
       "        text-align: right;\n",
       "    }\n",
       "</style>\n",
       "<table border=\"1\" class=\"dataframe\">\n",
       "  <thead>\n",
       "    <tr style=\"text-align: right;\">\n",
       "      <th></th>\n",
       "      <th>OptionKey</th>\n",
       "      <th>ExpirationDate</th>\n",
       "      <th>AskPrice</th>\n",
       "      <th>BidPrice</th>\n",
       "      <th>PutCall</th>\n",
       "      <th>StrikePrice</th>\n",
       "      <th>UnderlyingPrice</th>\n",
       "      <th>DataDate</th>\n",
       "      <th>time delta</th>\n",
       "      <th>% out</th>\n",
       "      <th>...</th>\n",
       "      <th>exp?</th>\n",
       "      <th>long_close</th>\n",
       "      <th>long_medium</th>\n",
       "      <th>long_far</th>\n",
       "      <th>short_close</th>\n",
       "      <th>short_medium</th>\n",
       "      <th>short_far</th>\n",
       "      <th>Signal</th>\n",
       "      <th>xp</th>\n",
       "      <th>log</th>\n",
       "    </tr>\n",
       "  </thead>\n",
       "  <tbody>\n",
       "    <tr>\n",
       "      <th>2019-11-22</th>\n",
       "      <td>TSLA2019-11-29P330.00</td>\n",
       "      <td>2019-11-29</td>\n",
       "      <td>4.50</td>\n",
       "      <td>4.40</td>\n",
       "      <td>put</td>\n",
       "      <td>330.0</td>\n",
       "      <td>333.04</td>\n",
       "      <td>2019-11-22</td>\n",
       "      <td>7 days</td>\n",
       "      <td>-0.009128</td>\n",
       "      <td>...</td>\n",
       "      <td>False</td>\n",
       "      <td>True</td>\n",
       "      <td>False</td>\n",
       "      <td>False</td>\n",
       "      <td>True</td>\n",
       "      <td>False</td>\n",
       "      <td>False</td>\n",
       "      <td>1</td>\n",
       "      <td>0.19</td>\n",
       "      <td>4.31</td>\n",
       "    </tr>\n",
       "    <tr>\n",
       "      <th>2019-12-03</th>\n",
       "      <td>TSLA2019-12-06P335.00</td>\n",
       "      <td>2019-12-06</td>\n",
       "      <td>3.75</td>\n",
       "      <td>3.55</td>\n",
       "      <td>put</td>\n",
       "      <td>335.0</td>\n",
       "      <td>336.20</td>\n",
       "      <td>2019-12-03</td>\n",
       "      <td>3 days</td>\n",
       "      <td>-0.003569</td>\n",
       "      <td>...</td>\n",
       "      <td>False</td>\n",
       "      <td>True</td>\n",
       "      <td>False</td>\n",
       "      <td>False</td>\n",
       "      <td>True</td>\n",
       "      <td>False</td>\n",
       "      <td>False</td>\n",
       "      <td>1</td>\n",
       "      <td>0.12</td>\n",
       "      <td>3.63</td>\n",
       "    </tr>\n",
       "    <tr>\n",
       "      <th>2019-12-06</th>\n",
       "      <td>TSLA2019-12-13P330.00</td>\n",
       "      <td>2019-12-13</td>\n",
       "      <td>3.05</td>\n",
       "      <td>2.91</td>\n",
       "      <td>put</td>\n",
       "      <td>330.0</td>\n",
       "      <td>335.89</td>\n",
       "      <td>2019-12-06</td>\n",
       "      <td>7 days</td>\n",
       "      <td>-0.017536</td>\n",
       "      <td>...</td>\n",
       "      <td>False</td>\n",
       "      <td>True</td>\n",
       "      <td>False</td>\n",
       "      <td>False</td>\n",
       "      <td>True</td>\n",
       "      <td>False</td>\n",
       "      <td>False</td>\n",
       "      <td>1</td>\n",
       "      <td>0.01</td>\n",
       "      <td>3.04</td>\n",
       "    </tr>\n",
       "    <tr>\n",
       "      <th>2019-11-22</th>\n",
       "      <td>TSLA2019-11-29P332.50</td>\n",
       "      <td>2019-11-29</td>\n",
       "      <td>5.60</td>\n",
       "      <td>5.45</td>\n",
       "      <td>put</td>\n",
       "      <td>332.5</td>\n",
       "      <td>333.04</td>\n",
       "      <td>2019-11-22</td>\n",
       "      <td>7 days</td>\n",
       "      <td>-0.001621</td>\n",
       "      <td>...</td>\n",
       "      <td>False</td>\n",
       "      <td>True</td>\n",
       "      <td>False</td>\n",
       "      <td>False</td>\n",
       "      <td>True</td>\n",
       "      <td>False</td>\n",
       "      <td>False</td>\n",
       "      <td>1</td>\n",
       "      <td>2.69</td>\n",
       "      <td>2.91</td>\n",
       "    </tr>\n",
       "    <tr>\n",
       "      <th>2019-11-22</th>\n",
       "      <td>TSLA2019-11-29P325.00</td>\n",
       "      <td>2019-11-29</td>\n",
       "      <td>2.79</td>\n",
       "      <td>2.66</td>\n",
       "      <td>put</td>\n",
       "      <td>325.0</td>\n",
       "      <td>333.04</td>\n",
       "      <td>2019-11-22</td>\n",
       "      <td>7 days</td>\n",
       "      <td>-0.024141</td>\n",
       "      <td>...</td>\n",
       "      <td>False</td>\n",
       "      <td>True</td>\n",
       "      <td>False</td>\n",
       "      <td>False</td>\n",
       "      <td>True</td>\n",
       "      <td>False</td>\n",
       "      <td>False</td>\n",
       "      <td>1</td>\n",
       "      <td>0.01</td>\n",
       "      <td>2.78</td>\n",
       "    </tr>\n",
       "  </tbody>\n",
       "</table>\n",
       "<p>5 rows × 26 columns</p>\n",
       "</div>"
      ],
      "text/plain": [
       "                        OptionKey ExpirationDate  AskPrice  BidPrice PutCall  \\\n",
       "2019-11-22  TSLA2019-11-29P330.00     2019-11-29      4.50      4.40     put   \n",
       "2019-12-03  TSLA2019-12-06P335.00     2019-12-06      3.75      3.55     put   \n",
       "2019-12-06  TSLA2019-12-13P330.00     2019-12-13      3.05      2.91     put   \n",
       "2019-11-22  TSLA2019-11-29P332.50     2019-11-29      5.60      5.45     put   \n",
       "2019-11-22  TSLA2019-11-29P325.00     2019-11-29      2.79      2.66     put   \n",
       "\n",
       "            StrikePrice  UnderlyingPrice   DataDate time delta     % out  ...  \\\n",
       "2019-11-22        330.0           333.04 2019-11-22     7 days -0.009128  ...   \n",
       "2019-12-03        335.0           336.20 2019-12-03     3 days -0.003569  ...   \n",
       "2019-12-06        330.0           335.89 2019-12-06     7 days -0.017536  ...   \n",
       "2019-11-22        332.5           333.04 2019-11-22     7 days -0.001621  ...   \n",
       "2019-11-22        325.0           333.04 2019-11-22     7 days -0.024141  ...   \n",
       "\n",
       "             exp?  long_close  long_medium  long_far  short_close  \\\n",
       "2019-11-22  False        True        False     False         True   \n",
       "2019-12-03  False        True        False     False         True   \n",
       "2019-12-06  False        True        False     False         True   \n",
       "2019-11-22  False        True        False     False         True   \n",
       "2019-11-22  False        True        False     False         True   \n",
       "\n",
       "           short_medium  short_far  Signal    xp   log  \n",
       "2019-11-22        False      False       1  0.19  4.31  \n",
       "2019-12-03        False      False       1  0.12  3.63  \n",
       "2019-12-06        False      False       1  0.01  3.04  \n",
       "2019-11-22        False      False       1  2.69  2.91  \n",
       "2019-11-22        False      False       1  0.01  2.78  \n",
       "\n",
       "[5 rows x 26 columns]"
      ]
     },
     "execution_count": 17,
     "metadata": {},
     "output_type": "execute_result"
    }
   ],
   "source": [
    "short_close_positives =(short_close.loc[(short_close.log > 0)])\n",
    "#short_close_positives.log.mean()\n",
    "short_close_positives = short_close_positives.sort_values('log', ascending= False)\n",
    "short_close_positives.head()"
   ]
  },
  {
   "cell_type": "code",
   "execution_count": 18,
   "metadata": {},
   "outputs": [
    {
     "data": {
      "text/plain": [
       "(154, 26)"
      ]
     },
     "execution_count": 18,
     "metadata": {},
     "output_type": "execute_result"
    }
   ],
   "source": [
    "short_close.shape"
   ]
  },
  {
   "cell_type": "code",
   "execution_count": 19,
   "metadata": {},
   "outputs": [
    {
     "ename": "AttributeError",
     "evalue": "'DataFrame' object has no attribute 'dropindex'",
     "output_type": "error",
     "traceback": [
      "\u001b[1;31m---------------------------------------------------------------------------\u001b[0m",
      "\u001b[1;31mAttributeError\u001b[0m                            Traceback (most recent call last)",
      "\u001b[1;32m<ipython-input-19-63e05cf01640>\u001b[0m in \u001b[0;36m<module>\u001b[1;34m\u001b[0m\n\u001b[0;32m      1\u001b[0m \u001b[0mshort_close\u001b[0m \u001b[1;33m=\u001b[0m \u001b[0mshort_close\u001b[0m\u001b[1;33m.\u001b[0m\u001b[0msort_values\u001b[0m\u001b[1;33m(\u001b[0m\u001b[1;34m'log'\u001b[0m\u001b[1;33m,\u001b[0m \u001b[0mascending\u001b[0m \u001b[1;33m=\u001b[0m \u001b[1;32mTrue\u001b[0m\u001b[1;33m)\u001b[0m\u001b[1;33m\u001b[0m\u001b[1;33m\u001b[0m\u001b[0m\n\u001b[0;32m      2\u001b[0m \u001b[0mshort_close\u001b[0m \u001b[1;33m=\u001b[0m \u001b[0mshort_close\u001b[0m\u001b[1;33m.\u001b[0m\u001b[0mdropna\u001b[0m\u001b[1;33m(\u001b[0m\u001b[1;33m)\u001b[0m\u001b[1;33m\u001b[0m\u001b[1;33m\u001b[0m\u001b[0m\n\u001b[1;32m----> 3\u001b[1;33m \u001b[0mshort_close\u001b[0m \u001b[1;33m=\u001b[0m \u001b[0mshort_close\u001b[0m\u001b[1;33m.\u001b[0m\u001b[0mdropindex\u001b[0m\u001b[1;33m(\u001b[0m\u001b[1;33m)\u001b[0m\u001b[1;33m\u001b[0m\u001b[1;33m\u001b[0m\u001b[0m\n\u001b[0m\u001b[0;32m      4\u001b[0m \u001b[0mshort_close_max_premium\u001b[0m \u001b[1;33m=\u001b[0m \u001b[0mshort_close\u001b[0m\u001b[1;33m[\u001b[0m\u001b[1;34m'log'\u001b[0m\u001b[1;33m]\u001b[0m\u001b[1;33m.\u001b[0m\u001b[0mtail\u001b[0m\u001b[1;33m(\u001b[0m\u001b[1;33m)\u001b[0m\u001b[1;33m\u001b[0m\u001b[1;33m\u001b[0m\u001b[0m\n",
      "\u001b[1;32m~\\anaconda3\\lib\\site-packages\\pandas\\core\\generic.py\u001b[0m in \u001b[0;36m__getattr__\u001b[1;34m(self, name)\u001b[0m\n\u001b[0;32m   5137\u001b[0m             \u001b[1;32mif\u001b[0m \u001b[0mself\u001b[0m\u001b[1;33m.\u001b[0m\u001b[0m_info_axis\u001b[0m\u001b[1;33m.\u001b[0m\u001b[0m_can_hold_identifiers_and_holds_name\u001b[0m\u001b[1;33m(\u001b[0m\u001b[0mname\u001b[0m\u001b[1;33m)\u001b[0m\u001b[1;33m:\u001b[0m\u001b[1;33m\u001b[0m\u001b[1;33m\u001b[0m\u001b[0m\n\u001b[0;32m   5138\u001b[0m                 \u001b[1;32mreturn\u001b[0m \u001b[0mself\u001b[0m\u001b[1;33m[\u001b[0m\u001b[0mname\u001b[0m\u001b[1;33m]\u001b[0m\u001b[1;33m\u001b[0m\u001b[1;33m\u001b[0m\u001b[0m\n\u001b[1;32m-> 5139\u001b[1;33m             \u001b[1;32mreturn\u001b[0m \u001b[0mobject\u001b[0m\u001b[1;33m.\u001b[0m\u001b[0m__getattribute__\u001b[0m\u001b[1;33m(\u001b[0m\u001b[0mself\u001b[0m\u001b[1;33m,\u001b[0m \u001b[0mname\u001b[0m\u001b[1;33m)\u001b[0m\u001b[1;33m\u001b[0m\u001b[1;33m\u001b[0m\u001b[0m\n\u001b[0m\u001b[0;32m   5140\u001b[0m \u001b[1;33m\u001b[0m\u001b[0m\n\u001b[0;32m   5141\u001b[0m     \u001b[1;32mdef\u001b[0m \u001b[0m__setattr__\u001b[0m\u001b[1;33m(\u001b[0m\u001b[0mself\u001b[0m\u001b[1;33m,\u001b[0m \u001b[0mname\u001b[0m\u001b[1;33m:\u001b[0m \u001b[0mstr\u001b[0m\u001b[1;33m,\u001b[0m \u001b[0mvalue\u001b[0m\u001b[1;33m)\u001b[0m \u001b[1;33m->\u001b[0m \u001b[1;32mNone\u001b[0m\u001b[1;33m:\u001b[0m\u001b[1;33m\u001b[0m\u001b[1;33m\u001b[0m\u001b[0m\n",
      "\u001b[1;31mAttributeError\u001b[0m: 'DataFrame' object has no attribute 'dropindex'"
     ]
    }
   ],
   "source": [
    "short_close = short_close.sort_values('log', ascending = True)\n",
    "short_close = short_close.dropna()\n",
    "#short_close = short_close.dropindex()\n",
    "short_close_max_premium = short_close['log'].tail()"
   ]
  },
  {
   "cell_type": "code",
   "execution_count": 20,
   "metadata": {},
   "outputs": [
    {
     "data": {
      "text/plain": [
       "2019-11-19   -18.00\n",
       "2019-11-19   -16.30\n",
       "2019-11-21   -14.15\n",
       "2019-11-19   -12.81\n",
       "2019-11-21   -12.10\n",
       "Name: log, dtype: float64"
      ]
     },
     "execution_count": 20,
     "metadata": {},
     "output_type": "execute_result"
    }
   ],
   "source": [
    "short_close_max_loss = short_close['log'].head()\n",
    "short_close_max_loss"
   ]
  },
  {
   "cell_type": "code",
   "execution_count": 42,
   "metadata": {},
   "outputs": [
    {
     "name": "stdout",
     "output_type": "stream",
     "text": [
      "the biggest loses were -183.46999999999994\n"
     ]
    }
   ],
   "source": [
    "print(f'the biggest loses were', short_close_RF_total)"
   ]
  },
  {
   "cell_type": "code",
   "execution_count": 58,
   "metadata": {},
   "outputs": [
    {
     "name": "stdout",
     "output_type": "stream",
     "text": [
      "Selling options expiring in a week and close to the money,\n",
      " RF generated: -183.46999999999994 \n",
      " LTSM generated: 66.73000000000002\n",
      "\n",
      "Selling options expiring in a week and slightly out to the money,\n",
      " RF generated: 7.68 \n",
      " LTSM generated: 6.51\n",
      "\n",
      "Selling options expiring in a week and far out to the money,\n",
      " RF generated: 0.47 \n",
      " LTSM generated: 0.26\n"
     ]
    }
   ],
   "source": [
    "print('Selling options expiring in a week and close to the money,\\n RF generated:', short_close_RF_total, '\\n LTSM generated:', short_close_LTSM_total)\n",
    "print('\\nSelling options expiring in a week and slightly out to the money,\\n RF generated:', short_medium_RF_total, '\\n LTSM generated:', short_medium_LTSM_total)\n",
    "print('\\nSelling options expiring in a week and far out to the money,\\n RF generated:', short_far_RF_total, '\\n LTSM generated:', short_far_LTSM_total)\n"
   ]
  },
  {
   "cell_type": "code",
   "execution_count": 57,
   "metadata": {},
   "outputs": [
    {
     "name": "stdout",
     "output_type": "stream",
     "text": [
      "Selling options expiring in a two weeks and close to the money,\n",
      " RF generated: -284.42 \n",
      " LTSM generated: 183.60000000000002\n",
      "\n",
      "Selling options expiring in two weeks and slightly out to the money,\n",
      " RF generated: 27.61 \n",
      " LTSM generated: 17.59\n",
      "\n",
      "Selling options expiring in two weeks and far out to the money,\n",
      " RF generated: 1.19 \n",
      " LTSM generated: 0.4\n"
     ]
    }
   ],
   "source": [
    "print('Selling options expiring in a two weeks and close to the money,\\n RF generated:', long_close_RF_total, '\\n LTSM generated:', long_close_LTSM_total)\n",
    "print('\\nSelling options expiring in two weeks and slightly out to the money,\\n RF generated:', long_medium_RF_total, '\\n LTSM generated:', long_medium_LTSM_total)\n",
    "print('\\nSelling options expiring in two weeks and far out to the money,\\n RF generated:', long_far_RF_total, '\\n LTSM generated:', long_far_LTSM_total)\n"
   ]
  },
  {
   "cell_type": "code",
   "execution_count": null,
   "metadata": {},
   "outputs": [],
   "source": []
  }
 ],
 "metadata": {
  "kernelspec": {
   "display_name": "Python 3",
   "language": "python",
   "name": "python3"
  },
  "language_info": {
   "codemirror_mode": {
    "name": "ipython",
    "version": 3
   },
   "file_extension": ".py",
   "mimetype": "text/x-python",
   "name": "python",
   "nbconvert_exporter": "python",
   "pygments_lexer": "ipython3",
   "version": "3.8.3"
  }
 },
 "nbformat": 4,
 "nbformat_minor": 4
}
