{
 "cells": [
  {
   "cell_type": "code",
   "execution_count": 1,
   "metadata": {},
   "outputs": [],
   "source": [
    "import requests\n",
    "import os\n",
    "from dotenv import load_dotenv\n",
    "import pandas as pd"
   ]
  },
  {
   "cell_type": "code",
   "execution_count": 2,
   "metadata": {},
   "outputs": [
    {
     "data": {
      "text/plain": [
       "['NYT_sentimentApple.ipynb',\n",
       " '.DS_Store',\n",
       " 'NYT_sentimentTesla.ipynb',\n",
       " 'FinTechHomework',\n",
       " 'NYT_sentimentMicrosoft.ipynb',\n",
       " '.env',\n",
       " 'AppleSentiment.pickle',\n",
       " '05-Stu_Correlating_Returns',\n",
       " 'TeslaSentiment.pickle',\n",
       " '.ipynb_checkpoints',\n",
       " 'NYT_sentimentAMD.ipynb',\n",
       " 'choice_df.csv',\n",
       " 'MicrosoftSentiment.pickle']"
      ]
     },
     "execution_count": 2,
     "metadata": {},
     "output_type": "execute_result"
    }
   ],
   "source": [
    "os.listdir()"
   ]
  },
  {
   "cell_type": "code",
   "execution_count": 3,
   "metadata": {},
   "outputs": [
    {
     "data": {
      "text/plain": [
       "True"
      ]
     },
     "execution_count": 3,
     "metadata": {},
     "output_type": "execute_result"
    }
   ],
   "source": [
    "load_dotenv()"
   ]
  },
  {
   "cell_type": "code",
   "execution_count": 4,
   "metadata": {},
   "outputs": [],
   "source": [
    "NYT_API=os.getenv('NYT_API')"
   ]
  },
  {
   "cell_type": "code",
   "execution_count": 5,
   "metadata": {},
   "outputs": [],
   "source": [
    "topic='Apple'\n",
    "url=f'https://api.nytimes.com/svc/search/v2/articlesearch.json?q={topic}&api-key={NYT_API}'\n",
    "response=requests.get(url)\n",
    "data=response.json()['response']['docs'][0]"
   ]
  },
  {
   "cell_type": "code",
   "execution_count": 6,
   "metadata": {},
   "outputs": [],
   "source": [
    "junb= '20190601'\n",
    "june= '20190630'\n",
    "julb= '20190701'\n",
    "jule= '20190731'\n",
    "augb= '20190801'\n",
    "auge= '20190830'\n",
    "sepb= '20190901'\n",
    "sepe= '20190930'\n",
    "octb= '20191001'\n",
    "octe= '20191031'\n",
    "novb= '20191101'\n",
    "nove= '20191130'\n",
    "decb= '20191201'\n",
    "dece= '20191231'"
   ]
  },
  {
   "cell_type": "code",
   "execution_count": 7,
   "metadata": {},
   "outputs": [],
   "source": [
    "def getHeadlines(start,end):\n",
    "    headlines=[]\n",
    "    i=1\n",
    "    max_results=100\n",
    "    topic='Apple'\n",
    "    # begin_date=20120101&end_date=20121231\n",
    "    beg_date=start\n",
    "    end_date=end\n",
    "    for n in range(1, int(max_results/10)): \n",
    "        url=f'https://api.nytimes.com/svc/search/v2/articlesearch.json?q={topic}&api-key={NYT_API}&page={n}&begin_date={beg_date}&end_date={end_date}'\n",
    "        response=requests.get(url)\n",
    "        data=response.json()\n",
    "        article_list=data['response']['docs']\n",
    "        for each_article in article_list: \n",
    "            article_dict={}\n",
    "            article_dict['item']=i\n",
    "            article_dict['headline']=each_article['headline']['main']\n",
    "            article_dict['pub_date']=each_article['pub_date']\n",
    "            headlines.append(article_dict)\n",
    "            i=i+1\n",
    "    df = pd.DataFrame(headlines)\n",
    "    return df"
   ]
  },
  {
   "cell_type": "code",
   "execution_count": null,
   "metadata": {},
   "outputs": [],
   "source": []
  },
  {
   "cell_type": "code",
   "execution_count": 8,
   "metadata": {},
   "outputs": [],
   "source": [
    "from nltk.sentiment.vader import SentimentIntensityAnalyzer\n",
    "\n",
    "# Instantiate SentimentIntensityAnalyzer\n",
    "sid = SentimentIntensityAnalyzer()\n",
    "\n",
    "# Create function that computes average compound sentiment of headlines for each day\n",
    "def headline_sentiment_summarizer_avg(headlines):\n",
    "    # print(headlines)\n",
    "    sentiment_by_word=[]\n",
    "    sentiment_by_sentence=[]\n",
    "    for each_headline in headlines:\n",
    "        article_score=[]\n",
    "        sentiment_by_sentence.append(sid.polarity_scores(each_headline)[\"compound\"])\n",
    "        for each_word in each_headline.split(' '):\n",
    "            if each_word == None:\n",
    "                continue\n",
    "            else:\n",
    "                # print(f'{each_word}-{sid.polarity_scores(each_word)}')\n",
    "                article_score.append(sid.polarity_scores(each_word)[\"compound\"])\n",
    "                # \n",
    "        sentiment_by_word.append(sum(article_score) / len(article_score))\n",
    "        # print(article_score)\n",
    "        # print('-'*20)\n",
    "    return sentiment_by_word, sentiment_by_sentence"
   ]
  },
  {
   "cell_type": "code",
   "execution_count": 9,
   "metadata": {},
   "outputs": [],
   "source": [
    "july = getHeadlines(julb, jule)"
   ]
  },
  {
   "cell_type": "code",
   "execution_count": 10,
   "metadata": {},
   "outputs": [],
   "source": [
    "results=headline_sentiment_summarizer_avg(july['headline'])\n",
    "july['sent_by_word_score']=results[0]\n",
    "july['sent_by_sentence_score']=results[1]"
   ]
  },
  {
   "cell_type": "code",
   "execution_count": 11,
   "metadata": {},
   "outputs": [
    {
     "data": {
      "text/html": [
       "<div>\n",
       "<style scoped>\n",
       "    .dataframe tbody tr th:only-of-type {\n",
       "        vertical-align: middle;\n",
       "    }\n",
       "\n",
       "    .dataframe tbody tr th {\n",
       "        vertical-align: top;\n",
       "    }\n",
       "\n",
       "    .dataframe thead th {\n",
       "        text-align: right;\n",
       "    }\n",
       "</style>\n",
       "<table border=\"1\" class=\"dataframe\">\n",
       "  <thead>\n",
       "    <tr style=\"text-align: right;\">\n",
       "      <th></th>\n",
       "      <th>item</th>\n",
       "      <th>headline</th>\n",
       "      <th>pub_date</th>\n",
       "      <th>sent_by_word_score</th>\n",
       "      <th>sent_by_sentence_score</th>\n",
       "    </tr>\n",
       "  </thead>\n",
       "  <tbody>\n",
       "    <tr>\n",
       "      <th>0</th>\n",
       "      <td>1</td>\n",
       "      <td>Beware. Other Nations Will Follow France With ...</td>\n",
       "      <td>2019-07-15T10:00:05+0000</td>\n",
       "      <td>0.0000</td>\n",
       "      <td>0.0000</td>\n",
       "    </tr>\n",
       "    <tr>\n",
       "      <th>1</th>\n",
       "      <td>2</td>\n",
       "      <td>Investors Use Indexes to Play in the Video Gam...</td>\n",
       "      <td>2019-07-12T12:00:06+0000</td>\n",
       "      <td>0.0340</td>\n",
       "      <td>0.3400</td>\n",
       "    </tr>\n",
       "    <tr>\n",
       "      <th>2</th>\n",
       "      <td>3</td>\n",
       "      <td>‘General Magic’ Review: A Startup Before Its Time</td>\n",
       "      <td>2019-07-11T11:00:08+0000</td>\n",
       "      <td>0.0000</td>\n",
       "      <td>0.0000</td>\n",
       "    </tr>\n",
       "    <tr>\n",
       "      <th>3</th>\n",
       "      <td>4</td>\n",
       "      <td>Negroni Mela</td>\n",
       "      <td>2019-07-03T00:00:00+0000</td>\n",
       "      <td>0.0000</td>\n",
       "      <td>0.0000</td>\n",
       "    </tr>\n",
       "    <tr>\n",
       "      <th>4</th>\n",
       "      <td>5</td>\n",
       "      <td>Economics Isn’t Dismal. It’s Useful.</td>\n",
       "      <td>2019-07-26T16:45:17+0000</td>\n",
       "      <td>-0.0344</td>\n",
       "      <td>-0.2732</td>\n",
       "    </tr>\n",
       "  </tbody>\n",
       "</table>\n",
       "</div>"
      ],
      "text/plain": [
       "   item                                           headline  \\\n",
       "0     1  Beware. Other Nations Will Follow France With ...   \n",
       "1     2  Investors Use Indexes to Play in the Video Gam...   \n",
       "2     3  ‘General Magic’ Review: A Startup Before Its Time   \n",
       "3     4                                       Negroni Mela   \n",
       "4     5               Economics Isn’t Dismal. It’s Useful.   \n",
       "\n",
       "                   pub_date  sent_by_word_score  sent_by_sentence_score  \n",
       "0  2019-07-15T10:00:05+0000              0.0000                  0.0000  \n",
       "1  2019-07-12T12:00:06+0000              0.0340                  0.3400  \n",
       "2  2019-07-11T11:00:08+0000              0.0000                  0.0000  \n",
       "3  2019-07-03T00:00:00+0000              0.0000                  0.0000  \n",
       "4  2019-07-26T16:45:17+0000             -0.0344                 -0.2732  "
      ]
     },
     "execution_count": 11,
     "metadata": {},
     "output_type": "execute_result"
    }
   ],
   "source": [
    "july.head()"
   ]
  },
  {
   "cell_type": "code",
   "execution_count": null,
   "metadata": {},
   "outputs": [],
   "source": []
  },
  {
   "cell_type": "code",
   "execution_count": 13,
   "metadata": {},
   "outputs": [],
   "source": [
    "june = getHeadlines(junb, june)"
   ]
  },
  {
   "cell_type": "code",
   "execution_count": 14,
   "metadata": {},
   "outputs": [],
   "source": [
    "results=headline_sentiment_summarizer_avg(june['headline'])\n",
    "june['sent_by_word_score']=results[0]\n",
    "june['sent_by_sentence_score']=results[1]"
   ]
  },
  {
   "cell_type": "code",
   "execution_count": 15,
   "metadata": {},
   "outputs": [
    {
     "data": {
      "text/html": [
       "<div>\n",
       "<style scoped>\n",
       "    .dataframe tbody tr th:only-of-type {\n",
       "        vertical-align: middle;\n",
       "    }\n",
       "\n",
       "    .dataframe tbody tr th {\n",
       "        vertical-align: top;\n",
       "    }\n",
       "\n",
       "    .dataframe thead th {\n",
       "        text-align: right;\n",
       "    }\n",
       "</style>\n",
       "<table border=\"1\" class=\"dataframe\">\n",
       "  <thead>\n",
       "    <tr style=\"text-align: right;\">\n",
       "      <th></th>\n",
       "      <th>item</th>\n",
       "      <th>headline</th>\n",
       "      <th>pub_date</th>\n",
       "      <th>sent_by_word_score</th>\n",
       "      <th>sent_by_sentence_score</th>\n",
       "    </tr>\n",
       "  </thead>\n",
       "  <tbody>\n",
       "    <tr>\n",
       "      <th>0</th>\n",
       "      <td>1</td>\n",
       "      <td>Taiwan’s iPhone Tycoon Walks a Fraught U.S.-Ch...</td>\n",
       "      <td>2019-06-21T07:15:34+0000</td>\n",
       "      <td>0.000000</td>\n",
       "      <td>0.0000</td>\n",
       "    </tr>\n",
       "    <tr>\n",
       "      <th>1</th>\n",
       "      <td>2</td>\n",
       "      <td>To Take Down Big Tech, They First Need to Rein...</td>\n",
       "      <td>2019-06-20T09:00:11+0000</td>\n",
       "      <td>0.000000</td>\n",
       "      <td>0.0000</td>\n",
       "    </tr>\n",
       "    <tr>\n",
       "      <th>2</th>\n",
       "      <td>3</td>\n",
       "      <td>Inside Apple’s Earthquake-Ready Headquarters</td>\n",
       "      <td>2019-06-04T09:00:11+0000</td>\n",
       "      <td>0.000000</td>\n",
       "      <td>0.0000</td>\n",
       "    </tr>\n",
       "    <tr>\n",
       "      <th>3</th>\n",
       "      <td>4</td>\n",
       "      <td>‘If You’ve Built a Chaos Factory, You Can’t Do...</td>\n",
       "      <td>2019-06-19T10:37:41+0000</td>\n",
       "      <td>-0.043992</td>\n",
       "      <td>-0.5719</td>\n",
       "    </tr>\n",
       "    <tr>\n",
       "      <th>4</th>\n",
       "      <td>5</td>\n",
       "      <td>Facebook Under Oath: You Have No Expectation o...</td>\n",
       "      <td>2019-06-18T19:00:02+0000</td>\n",
       "      <td>-0.032889</td>\n",
       "      <td>-0.2960</td>\n",
       "    </tr>\n",
       "  </tbody>\n",
       "</table>\n",
       "</div>"
      ],
      "text/plain": [
       "   item                                           headline  \\\n",
       "0     1  Taiwan’s iPhone Tycoon Walks a Fraught U.S.-Ch...   \n",
       "1     2  To Take Down Big Tech, They First Need to Rein...   \n",
       "2     3       Inside Apple’s Earthquake-Ready Headquarters   \n",
       "3     4  ‘If You’ve Built a Chaos Factory, You Can’t Do...   \n",
       "4     5  Facebook Under Oath: You Have No Expectation o...   \n",
       "\n",
       "                   pub_date  sent_by_word_score  sent_by_sentence_score  \n",
       "0  2019-06-21T07:15:34+0000            0.000000                  0.0000  \n",
       "1  2019-06-20T09:00:11+0000            0.000000                  0.0000  \n",
       "2  2019-06-04T09:00:11+0000            0.000000                  0.0000  \n",
       "3  2019-06-19T10:37:41+0000           -0.043992                 -0.5719  \n",
       "4  2019-06-18T19:00:02+0000           -0.032889                 -0.2960  "
      ]
     },
     "execution_count": 15,
     "metadata": {},
     "output_type": "execute_result"
    }
   ],
   "source": [
    "june.head()"
   ]
  },
  {
   "cell_type": "code",
   "execution_count": 16,
   "metadata": {},
   "outputs": [],
   "source": [
    "august = getHeadlines(augb, auge)"
   ]
  },
  {
   "cell_type": "code",
   "execution_count": 17,
   "metadata": {},
   "outputs": [],
   "source": [
    "results=headline_sentiment_summarizer_avg(august['headline'])\n",
    "august['sent_by_word_score']=results[0]\n",
    "august['sent_by_sentence_score']=results[1]"
   ]
  },
  {
   "cell_type": "code",
   "execution_count": 18,
   "metadata": {},
   "outputs": [
    {
     "data": {
      "text/html": [
       "<div>\n",
       "<style scoped>\n",
       "    .dataframe tbody tr th:only-of-type {\n",
       "        vertical-align: middle;\n",
       "    }\n",
       "\n",
       "    .dataframe tbody tr th {\n",
       "        vertical-align: top;\n",
       "    }\n",
       "\n",
       "    .dataframe thead th {\n",
       "        text-align: right;\n",
       "    }\n",
       "</style>\n",
       "<table border=\"1\" class=\"dataframe\">\n",
       "  <thead>\n",
       "    <tr style=\"text-align: right;\">\n",
       "      <th></th>\n",
       "      <th>item</th>\n",
       "      <th>headline</th>\n",
       "      <th>pub_date</th>\n",
       "      <th>sent_by_word_score</th>\n",
       "      <th>sent_by_sentence_score</th>\n",
       "    </tr>\n",
       "  </thead>\n",
       "  <tbody>\n",
       "    <tr>\n",
       "      <th>0</th>\n",
       "      <td>1</td>\n",
       "      <td>Hi, Alexa. How Do I Stop You From Listening In...</td>\n",
       "      <td>2019-08-21T09:00:15+0000</td>\n",
       "      <td>-0.024667</td>\n",
       "      <td>-0.2960</td>\n",
       "    </tr>\n",
       "    <tr>\n",
       "      <th>1</th>\n",
       "      <td>2</td>\n",
       "      <td>How Should Big Tech Be Reined In? Here Are 4 P...</td>\n",
       "      <td>2019-08-20T16:23:08+0000</td>\n",
       "      <td>0.026517</td>\n",
       "      <td>0.3182</td>\n",
       "    </tr>\n",
       "    <tr>\n",
       "      <th>2</th>\n",
       "      <td>3</td>\n",
       "      <td>China Pressures Business Over Hong Kong. Worke...</td>\n",
       "      <td>2019-08-18T17:10:57+0000</td>\n",
       "      <td>-0.026517</td>\n",
       "      <td>-0.3182</td>\n",
       "    </tr>\n",
       "    <tr>\n",
       "      <th>3</th>\n",
       "      <td>4</td>\n",
       "      <td>The Phony Patriots of Silicon Valley</td>\n",
       "      <td>2019-08-12T17:28:21+0000</td>\n",
       "      <td>0.000000</td>\n",
       "      <td>0.0000</td>\n",
       "    </tr>\n",
       "    <tr>\n",
       "      <th>4</th>\n",
       "      <td>5</td>\n",
       "      <td>Trump Has Succeeded. Now Lots of Chinese Peopl...</td>\n",
       "      <td>2019-08-09T10:00:06+0000</td>\n",
       "      <td>0.035125</td>\n",
       "      <td>0.4215</td>\n",
       "    </tr>\n",
       "  </tbody>\n",
       "</table>\n",
       "</div>"
      ],
      "text/plain": [
       "   item                                           headline  \\\n",
       "0     1  Hi, Alexa. How Do I Stop You From Listening In...   \n",
       "1     2  How Should Big Tech Be Reined In? Here Are 4 P...   \n",
       "2     3  China Pressures Business Over Hong Kong. Worke...   \n",
       "3     4               The Phony Patriots of Silicon Valley   \n",
       "4     5  Trump Has Succeeded. Now Lots of Chinese Peopl...   \n",
       "\n",
       "                   pub_date  sent_by_word_score  sent_by_sentence_score  \n",
       "0  2019-08-21T09:00:15+0000           -0.024667                 -0.2960  \n",
       "1  2019-08-20T16:23:08+0000            0.026517                  0.3182  \n",
       "2  2019-08-18T17:10:57+0000           -0.026517                 -0.3182  \n",
       "3  2019-08-12T17:28:21+0000            0.000000                  0.0000  \n",
       "4  2019-08-09T10:00:06+0000            0.035125                  0.4215  "
      ]
     },
     "execution_count": 18,
     "metadata": {},
     "output_type": "execute_result"
    }
   ],
   "source": [
    "august.head()"
   ]
  },
  {
   "cell_type": "code",
   "execution_count": 19,
   "metadata": {},
   "outputs": [],
   "source": [
    "september = getHeadlines(sepb, sepe)"
   ]
  },
  {
   "cell_type": "code",
   "execution_count": 20,
   "metadata": {},
   "outputs": [],
   "source": [
    "results=headline_sentiment_summarizer_avg(september['headline'])\n",
    "september['sent_by_word_score']=results[0]\n",
    "september['sent_by_sentence_score']=results[1]"
   ]
  },
  {
   "cell_type": "code",
   "execution_count": 21,
   "metadata": {},
   "outputs": [
    {
     "data": {
      "text/html": [
       "<div>\n",
       "<style scoped>\n",
       "    .dataframe tbody tr th:only-of-type {\n",
       "        vertical-align: middle;\n",
       "    }\n",
       "\n",
       "    .dataframe tbody tr th {\n",
       "        vertical-align: top;\n",
       "    }\n",
       "\n",
       "    .dataframe thead th {\n",
       "        text-align: right;\n",
       "    }\n",
       "</style>\n",
       "<table border=\"1\" class=\"dataframe\">\n",
       "  <thead>\n",
       "    <tr style=\"text-align: right;\">\n",
       "      <th></th>\n",
       "      <th>item</th>\n",
       "      <th>headline</th>\n",
       "      <th>pub_date</th>\n",
       "      <th>sent_by_word_score</th>\n",
       "      <th>sent_by_sentence_score</th>\n",
       "    </tr>\n",
       "  </thead>\n",
       "  <tbody>\n",
       "    <tr>\n",
       "      <th>0</th>\n",
       "      <td>1</td>\n",
       "      <td>How Apple’s Apps Topped Rivals in the App Stor...</td>\n",
       "      <td>2019-09-09T09:00:01+0000</td>\n",
       "      <td>0.000000</td>\n",
       "      <td>0.0000</td>\n",
       "    </tr>\n",
       "    <tr>\n",
       "      <th>1</th>\n",
       "      <td>2</td>\n",
       "      <td>E.U. Court Orders Fiat Chrysler to Pay Back $3...</td>\n",
       "      <td>2019-09-24T11:27:07+0000</td>\n",
       "      <td>-0.008558</td>\n",
       "      <td>-0.1027</td>\n",
       "    </tr>\n",
       "    <tr>\n",
       "      <th>2</th>\n",
       "      <td>3</td>\n",
       "      <td>Congress Asks More Than 80 Companies for Big T...</td>\n",
       "      <td>2019-09-20T23:22:16+0000</td>\n",
       "      <td>-0.040190</td>\n",
       "      <td>-0.4019</td>\n",
       "    </tr>\n",
       "    <tr>\n",
       "      <th>3</th>\n",
       "      <td>4</td>\n",
       "      <td>The Week in Tech: An Emerging Twist on Antitrust</td>\n",
       "      <td>2019-09-20T13:00:05+0000</td>\n",
       "      <td>0.000000</td>\n",
       "      <td>0.0000</td>\n",
       "    </tr>\n",
       "    <tr>\n",
       "      <th>4</th>\n",
       "      <td>5</td>\n",
       "      <td>Lawmakers Urge Aggressive Action From Regulato...</td>\n",
       "      <td>2019-09-17T23:13:22+0000</td>\n",
       "      <td>-0.017011</td>\n",
       "      <td>-0.1531</td>\n",
       "    </tr>\n",
       "  </tbody>\n",
       "</table>\n",
       "</div>"
      ],
      "text/plain": [
       "   item                                           headline  \\\n",
       "0     1  How Apple’s Apps Topped Rivals in the App Stor...   \n",
       "1     2  E.U. Court Orders Fiat Chrysler to Pay Back $3...   \n",
       "2     3  Congress Asks More Than 80 Companies for Big T...   \n",
       "3     4   The Week in Tech: An Emerging Twist on Antitrust   \n",
       "4     5  Lawmakers Urge Aggressive Action From Regulato...   \n",
       "\n",
       "                   pub_date  sent_by_word_score  sent_by_sentence_score  \n",
       "0  2019-09-09T09:00:01+0000            0.000000                  0.0000  \n",
       "1  2019-09-24T11:27:07+0000           -0.008558                 -0.1027  \n",
       "2  2019-09-20T23:22:16+0000           -0.040190                 -0.4019  \n",
       "3  2019-09-20T13:00:05+0000            0.000000                  0.0000  \n",
       "4  2019-09-17T23:13:22+0000           -0.017011                 -0.1531  "
      ]
     },
     "execution_count": 21,
     "metadata": {},
     "output_type": "execute_result"
    }
   ],
   "source": [
    "september.head()"
   ]
  },
  {
   "cell_type": "code",
   "execution_count": 22,
   "metadata": {},
   "outputs": [],
   "source": [
    "october = getHeadlines(octb, octe)"
   ]
  },
  {
   "cell_type": "code",
   "execution_count": 23,
   "metadata": {},
   "outputs": [],
   "source": [
    "results=headline_sentiment_summarizer_avg(october['headline'])\n",
    "october['sent_by_word_score']=results[0]\n",
    "october['sent_by_sentence_score']=results[1]"
   ]
  },
  {
   "cell_type": "code",
   "execution_count": 24,
   "metadata": {},
   "outputs": [
    {
     "data": {
      "text/html": [
       "<div>\n",
       "<style scoped>\n",
       "    .dataframe tbody tr th:only-of-type {\n",
       "        vertical-align: middle;\n",
       "    }\n",
       "\n",
       "    .dataframe tbody tr th {\n",
       "        vertical-align: top;\n",
       "    }\n",
       "\n",
       "    .dataframe thead th {\n",
       "        text-align: right;\n",
       "    }\n",
       "</style>\n",
       "<table border=\"1\" class=\"dataframe\">\n",
       "  <thead>\n",
       "    <tr style=\"text-align: right;\">\n",
       "      <th></th>\n",
       "      <th>item</th>\n",
       "      <th>headline</th>\n",
       "      <th>pub_date</th>\n",
       "      <th>sent_by_word_score</th>\n",
       "      <th>sent_by_sentence_score</th>\n",
       "    </tr>\n",
       "  </thead>\n",
       "  <tbody>\n",
       "    <tr>\n",
       "      <th>0</th>\n",
       "      <td>1</td>\n",
       "      <td>The Week in Business: A Brexit Battering, and ...</td>\n",
       "      <td>2019-10-20T11:00:06+0000</td>\n",
       "      <td>0.031500</td>\n",
       "      <td>0.3612</td>\n",
       "    </tr>\n",
       "    <tr>\n",
       "      <th>1</th>\n",
       "      <td>2</td>\n",
       "      <td>In House Antitrust Hearing, Lawmakers Focus on...</td>\n",
       "      <td>2019-10-18T18:57:49+0000</td>\n",
       "      <td>-0.049390</td>\n",
       "      <td>-0.4939</td>\n",
       "    </tr>\n",
       "    <tr>\n",
       "      <th>2</th>\n",
       "      <td>3</td>\n",
       "      <td>Europe’s Margrethe Vestager Takes a Rare Step ...</td>\n",
       "      <td>2019-10-16T12:49:18+0000</td>\n",
       "      <td>0.000000</td>\n",
       "      <td>0.0000</td>\n",
       "    </tr>\n",
       "    <tr>\n",
       "      <th>3</th>\n",
       "      <td>4</td>\n",
       "      <td>The Reason Your Photos Are About to Get a Lot ...</td>\n",
       "      <td>2019-10-15T15:00:09+0000</td>\n",
       "      <td>0.040036</td>\n",
       "      <td>0.4404</td>\n",
       "    </tr>\n",
       "    <tr>\n",
       "      <th>4</th>\n",
       "      <td>5</td>\n",
       "      <td>Tech Giants Shift Profits to Avoid Taxes. Ther...</td>\n",
       "      <td>2019-10-09T19:58:35+0000</td>\n",
       "      <td>-0.011662</td>\n",
       "      <td>-0.1280</td>\n",
       "    </tr>\n",
       "  </tbody>\n",
       "</table>\n",
       "</div>"
      ],
      "text/plain": [
       "   item                                           headline  \\\n",
       "0     1  The Week in Business: A Brexit Battering, and ...   \n",
       "1     2  In House Antitrust Hearing, Lawmakers Focus on...   \n",
       "2     3  Europe’s Margrethe Vestager Takes a Rare Step ...   \n",
       "3     4  The Reason Your Photos Are About to Get a Lot ...   \n",
       "4     5  Tech Giants Shift Profits to Avoid Taxes. Ther...   \n",
       "\n",
       "                   pub_date  sent_by_word_score  sent_by_sentence_score  \n",
       "0  2019-10-20T11:00:06+0000            0.031500                  0.3612  \n",
       "1  2019-10-18T18:57:49+0000           -0.049390                 -0.4939  \n",
       "2  2019-10-16T12:49:18+0000            0.000000                  0.0000  \n",
       "3  2019-10-15T15:00:09+0000            0.040036                  0.4404  \n",
       "4  2019-10-09T19:58:35+0000           -0.011662                 -0.1280  "
      ]
     },
     "execution_count": 24,
     "metadata": {},
     "output_type": "execute_result"
    }
   ],
   "source": [
    "october.head()"
   ]
  },
  {
   "cell_type": "code",
   "execution_count": 26,
   "metadata": {},
   "outputs": [],
   "source": [
    "november = getHeadlines(novb, nove)"
   ]
  },
  {
   "cell_type": "code",
   "execution_count": 27,
   "metadata": {},
   "outputs": [],
   "source": [
    "results=headline_sentiment_summarizer_avg(november['headline'])\n",
    "november['sent_by_word_score']=results[0]\n",
    "november['sent_by_sentence_score']=results[1]"
   ]
  },
  {
   "cell_type": "code",
   "execution_count": 28,
   "metadata": {},
   "outputs": [
    {
     "data": {
      "text/html": [
       "<div>\n",
       "<style scoped>\n",
       "    .dataframe tbody tr th:only-of-type {\n",
       "        vertical-align: middle;\n",
       "    }\n",
       "\n",
       "    .dataframe tbody tr th {\n",
       "        vertical-align: top;\n",
       "    }\n",
       "\n",
       "    .dataframe thead th {\n",
       "        text-align: right;\n",
       "    }\n",
       "</style>\n",
       "<table border=\"1\" class=\"dataframe\">\n",
       "  <thead>\n",
       "    <tr style=\"text-align: right;\">\n",
       "      <th></th>\n",
       "      <th>item</th>\n",
       "      <th>headline</th>\n",
       "      <th>pub_date</th>\n",
       "      <th>sent_by_word_score</th>\n",
       "      <th>sent_by_sentence_score</th>\n",
       "    </tr>\n",
       "  </thead>\n",
       "  <tbody>\n",
       "    <tr>\n",
       "      <th>0</th>\n",
       "      <td>1</td>\n",
       "      <td>Apple Card Investigated After Gender Discrimin...</td>\n",
       "      <td>2019-11-10T19:06:42+0000</td>\n",
       "      <td>-0.057414</td>\n",
       "      <td>-0.4019</td>\n",
       "    </tr>\n",
       "    <tr>\n",
       "      <th>1</th>\n",
       "      <td>2</td>\n",
       "      <td>Apple Commits $2.5 Billion to Ease California ...</td>\n",
       "      <td>2019-11-04T11:36:20+0000</td>\n",
       "      <td>0.043000</td>\n",
       "      <td>0.3818</td>\n",
       "    </tr>\n",
       "    <tr>\n",
       "      <th>2</th>\n",
       "      <td>3</td>\n",
       "      <td>Review: M. Night Shyamalan’s Thanksgiving Feas...</td>\n",
       "      <td>2019-11-28T13:00:09+0000</td>\n",
       "      <td>0.000000</td>\n",
       "      <td>0.0000</td>\n",
       "    </tr>\n",
       "    <tr>\n",
       "      <th>3</th>\n",
       "      <td>4</td>\n",
       "      <td>Don’t Blame Tech Bros for the Housing Crisis</td>\n",
       "      <td>2019-11-30T19:30:09+0000</td>\n",
       "      <td>-0.120613</td>\n",
       "      <td>-0.7579</td>\n",
       "    </tr>\n",
       "    <tr>\n",
       "      <th>4</th>\n",
       "      <td>5</td>\n",
       "      <td>How We Created a ‘Turducken’ of Media News</td>\n",
       "      <td>2019-11-30T17:14:49+0000</td>\n",
       "      <td>0.031250</td>\n",
       "      <td>0.2500</td>\n",
       "    </tr>\n",
       "  </tbody>\n",
       "</table>\n",
       "</div>"
      ],
      "text/plain": [
       "   item                                           headline  \\\n",
       "0     1  Apple Card Investigated After Gender Discrimin...   \n",
       "1     2  Apple Commits $2.5 Billion to Ease California ...   \n",
       "2     3  Review: M. Night Shyamalan’s Thanksgiving Feas...   \n",
       "3     4       Don’t Blame Tech Bros for the Housing Crisis   \n",
       "4     5         How We Created a ‘Turducken’ of Media News   \n",
       "\n",
       "                   pub_date  sent_by_word_score  sent_by_sentence_score  \n",
       "0  2019-11-10T19:06:42+0000           -0.057414                 -0.4019  \n",
       "1  2019-11-04T11:36:20+0000            0.043000                  0.3818  \n",
       "2  2019-11-28T13:00:09+0000            0.000000                  0.0000  \n",
       "3  2019-11-30T19:30:09+0000           -0.120613                 -0.7579  \n",
       "4  2019-11-30T17:14:49+0000            0.031250                  0.2500  "
      ]
     },
     "execution_count": 28,
     "metadata": {},
     "output_type": "execute_result"
    }
   ],
   "source": [
    "november.head()"
   ]
  },
  {
   "cell_type": "code",
   "execution_count": 29,
   "metadata": {},
   "outputs": [],
   "source": [
    "december = getHeadlines(decb, dece)"
   ]
  },
  {
   "cell_type": "code",
   "execution_count": 30,
   "metadata": {},
   "outputs": [],
   "source": [
    "results=headline_sentiment_summarizer_avg(december['headline'])\n",
    "december['sent_by_word_score']=results[0]\n",
    "december['sent_by_sentence_score']=results[1]"
   ]
  },
  {
   "cell_type": "code",
   "execution_count": 31,
   "metadata": {},
   "outputs": [
    {
     "data": {
      "text/html": [
       "<div>\n",
       "<style scoped>\n",
       "    .dataframe tbody tr th:only-of-type {\n",
       "        vertical-align: middle;\n",
       "    }\n",
       "\n",
       "    .dataframe tbody tr th {\n",
       "        vertical-align: top;\n",
       "    }\n",
       "\n",
       "    .dataframe thead th {\n",
       "        text-align: right;\n",
       "    }\n",
       "</style>\n",
       "<table border=\"1\" class=\"dataframe\">\n",
       "  <thead>\n",
       "    <tr style=\"text-align: right;\">\n",
       "      <th></th>\n",
       "      <th>item</th>\n",
       "      <th>headline</th>\n",
       "      <th>pub_date</th>\n",
       "      <th>sent_by_word_score</th>\n",
       "      <th>sent_by_sentence_score</th>\n",
       "    </tr>\n",
       "  </thead>\n",
       "  <tbody>\n",
       "    <tr>\n",
       "      <th>0</th>\n",
       "      <td>1</td>\n",
       "      <td>The Week in Tech: How Is Antitrust Enforcement...</td>\n",
       "      <td>2019-12-22T15:18:46+0000</td>\n",
       "      <td>0.000000</td>\n",
       "      <td>0.0000</td>\n",
       "    </tr>\n",
       "    <tr>\n",
       "      <th>1</th>\n",
       "      <td>2</td>\n",
       "      <td>The Playlist: Taylor Swift’s Nostalgic Tune, a...</td>\n",
       "      <td>2019-12-20T19:48:53+0000</td>\n",
       "      <td>0.036536</td>\n",
       "      <td>0.4576</td>\n",
       "    </tr>\n",
       "    <tr>\n",
       "      <th>2</th>\n",
       "      <td>3</td>\n",
       "      <td>‘Hala’ Is the Story of a Chameleon. It Reminde...</td>\n",
       "      <td>2019-12-19T21:20:34+0000</td>\n",
       "      <td>0.000000</td>\n",
       "      <td>0.0000</td>\n",
       "    </tr>\n",
       "    <tr>\n",
       "      <th>3</th>\n",
       "      <td>4</td>\n",
       "      <td>The Catastrophist’s 2019 Tech Gift Guide</td>\n",
       "      <td>2019-12-18T18:07:11+0000</td>\n",
       "      <td>0.073400</td>\n",
       "      <td>0.4404</td>\n",
       "    </tr>\n",
       "    <tr>\n",
       "      <th>4</th>\n",
       "      <td>5</td>\n",
       "      <td>The New Pop Culture Optimism</td>\n",
       "      <td>2019-12-18T11:00:12+0000</td>\n",
       "      <td>0.108460</td>\n",
       "      <td>0.5423</td>\n",
       "    </tr>\n",
       "  </tbody>\n",
       "</table>\n",
       "</div>"
      ],
      "text/plain": [
       "   item                                           headline  \\\n",
       "0     1  The Week in Tech: How Is Antitrust Enforcement...   \n",
       "1     2  The Playlist: Taylor Swift’s Nostalgic Tune, a...   \n",
       "2     3  ‘Hala’ Is the Story of a Chameleon. It Reminde...   \n",
       "3     4           The Catastrophist’s 2019 Tech Gift Guide   \n",
       "4     5                       The New Pop Culture Optimism   \n",
       "\n",
       "                   pub_date  sent_by_word_score  sent_by_sentence_score  \n",
       "0  2019-12-22T15:18:46+0000            0.000000                  0.0000  \n",
       "1  2019-12-20T19:48:53+0000            0.036536                  0.4576  \n",
       "2  2019-12-19T21:20:34+0000            0.000000                  0.0000  \n",
       "3  2019-12-18T18:07:11+0000            0.073400                  0.4404  \n",
       "4  2019-12-18T11:00:12+0000            0.108460                  0.5423  "
      ]
     },
     "execution_count": 31,
     "metadata": {},
     "output_type": "execute_result"
    }
   ],
   "source": [
    "december.head()"
   ]
  },
  {
   "cell_type": "code",
   "execution_count": 34,
   "metadata": {},
   "outputs": [],
   "source": [
    "apple_months = pd.concat([june, july, august, september, october, november, december])"
   ]
  },
  {
   "cell_type": "code",
   "execution_count": 36,
   "metadata": {},
   "outputs": [],
   "source": [
    "apple_months.to_pickle('AppleSentimentMonths.pickle')"
   ]
  },
  {
   "cell_type": "code",
   "execution_count": null,
   "metadata": {},
   "outputs": [],
   "source": []
  },
  {
   "cell_type": "code",
   "execution_count": null,
   "metadata": {},
   "outputs": [],
   "source": []
  },
  {
   "cell_type": "code",
   "execution_count": null,
   "metadata": {},
   "outputs": [],
   "source": []
  },
  {
   "cell_type": "code",
   "execution_count": null,
   "metadata": {},
   "outputs": [],
   "source": []
  },
  {
   "cell_type": "code",
   "execution_count": null,
   "metadata": {},
   "outputs": [],
   "source": []
  },
  {
   "cell_type": "code",
   "execution_count": null,
   "metadata": {},
   "outputs": [],
   "source": []
  },
  {
   "cell_type": "code",
   "execution_count": null,
   "metadata": {},
   "outputs": [],
   "source": []
  },
  {
   "cell_type": "code",
   "execution_count": null,
   "metadata": {},
   "outputs": [],
   "source": [
    "# df.to_pickle('AppleSentiment.pickle')"
   ]
  }
 ],
 "metadata": {
  "kernelspec": {
   "display_name": "Python 3",
   "language": "python",
   "name": "python3"
  },
  "language_info": {
   "codemirror_mode": {
    "name": "ipython",
    "version": 3
   },
   "file_extension": ".py",
   "mimetype": "text/x-python",
   "name": "python",
   "nbconvert_exporter": "python",
   "pygments_lexer": "ipython3",
   "version": "3.8.3"
  }
 },
 "nbformat": 4,
 "nbformat_minor": 4
}
