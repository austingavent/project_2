{
 "cells": [
  {
   "cell_type": "code",
   "execution_count": 1,
   "metadata": {},
   "outputs": [],
   "source": [
    "import pandas as pd\n",
    "import numpy as np\n",
    "import datetime as dt\n",
    "from pathlib import Path\n",
    "from datetime import datetime, timedelta\n",
    "%matplotlib inline\n",
    "import yfinance as yf\n",
    "import mibian as mb"
   ]
  },
  {
   "cell_type": "code",
   "execution_count": 2,
   "metadata": {},
   "outputs": [],
   "source": [
    "msft_df = pd.read_pickle('msft_merged.pickle')"
   ]
  },
  {
   "cell_type": "code",
   "execution_count": 3,
   "metadata": {},
   "outputs": [],
   "source": [
    "df = msft_df\n",
    "df = df.drop(columns= ['LastPrice', 'Symbol', 'Volume', 'OpenInterest', 'Volume'])\n",
    "#df['OptionKey'] =df['OptionKey'].map(lambda x: str(x)[:-10])\n"
   ]
  },
  {
   "cell_type": "code",
   "execution_count": 4,
   "metadata": {},
   "outputs": [],
   "source": [
    "df['ExpirationDate'] =  pd.to_datetime(df['ExpirationDate'], infer_datetime_format=True)\n",
    "df['DataDate'] =  pd.to_datetime(df['DataDate'], infer_datetime_format=True)\n",
    "df['delta'] = df['ExpirationDate'] - df['DataDate']\n",
    "\n",
    "df['exp?'] =df['ExpirationDate'] ==df['DataDate']\n",
    "df['long_close'] = ((df['delta'] < np.timedelta64(14, 'D')) & (df['% out'] > -.1) & (df['% out'] < 0))\n",
    "df['long_medium'] = ((df['delta'] < np.timedelta64(14, 'D')) & (df['% out'] > -.2) & (df['% out'] < -.1))\n",
    "df['long_far'] = ((df['delta'] < np.timedelta64(14, 'D')) & (df['% out'] > -.3) & (df['% out'] < -.2))\n",
    "df['short_close'] = ((df['delta'] < np.timedelta64(8, 'D')) & (df['% out'] > -.1) & (df['% out'] < 0))\n",
    "df['short_medium'] = ((df['delta'] < np.timedelta64(8, 'D')) & (df['% out'] > -.2) & (df['% out'] < -.1))\n",
    "df['short_far'] = ((df['delta'] < np.timedelta64(8, 'D')) & (df['% out'] > -.3) & (df['% out'] < -.2))\n",
    "\n",
    "#df['collatarel'] = ((df['delta'] < np.timedelta64(14, 'D')) & (df['% out'] > -.4) & (df['% out'] < -.2))\n",
    "df['Signal'] = np.random.randint(-1,2, df.shape[0])\n",
    "#df.loc[(df['Signal'] == 1) & (df['worth_it'] == True), 'execute']=df.loc[(df['Signal'] == 1) & (df['worth_it'] == True), 'AskPrice']\n",
    "#df['enter?'] = (df['worth_it'] == True) & (df['Signal'] == 1)\n",
    "#df.loc[df['enter?'] == True]\n",
    "pd.set_option('display.max_columns', 30)"
   ]
  },
  {
   "cell_type": "code",
   "execution_count": 5,
   "metadata": {},
   "outputs": [
    {
     "data": {
      "text/plain": [
       "416"
      ]
     },
     "execution_count": 5,
     "metadata": {},
     "output_type": "execute_result"
    }
   ],
   "source": [
    "df_table=df.loc[:, ['OptionKey', 'BidPrice']]\n",
    "df_table=df_table.reset_index()\n",
    "df_table.columns=['PriceDate', 'OptionKey', 'RebuyPrice']\n",
    "df_table['RebuyPrice'].nunique()"
   ]
  },
  {
   "cell_type": "code",
   "execution_count": 6,
   "metadata": {},
   "outputs": [],
   "source": [
    "#msft_df_table['PriceDate'] =  pd.to_datetime(msft_df_table['PriceDate'], infer_datetime_format=True)\n",
    "#msft_result = pd.merge(msft_df, msft_df_table, left_on=['ExpirationDate', 'OptionKey'], right_on=['PriceDate', 'OptionKey'], how='left')\n",
    "#msft_result"
   ]
  },
  {
   "cell_type": "code",
   "execution_count": 7,
   "metadata": {},
   "outputs": [],
   "source": [
    "#ok=msft_result.columns.values.tolist()\n",
    "#for column_name in ok:\n",
    " #  print(msft_result['RebuyPrice'].unique())"
   ]
  },
  {
   "cell_type": "code",
   "execution_count": 8,
   "metadata": {},
   "outputs": [],
   "source": [
    "#exp = (df.loc[df['exp?'] == True], "
   ]
  },
  {
   "cell_type": "code",
   "execution_count": 9,
   "metadata": {},
   "outputs": [
    {
     "data": {
      "text/html": [
       "<div>\n",
       "<style scoped>\n",
       "    .dataframe tbody tr th:only-of-type {\n",
       "        vertical-align: middle;\n",
       "    }\n",
       "\n",
       "    .dataframe tbody tr th {\n",
       "        vertical-align: top;\n",
       "    }\n",
       "\n",
       "    .dataframe thead th {\n",
       "        text-align: right;\n",
       "    }\n",
       "</style>\n",
       "<table border=\"1\" class=\"dataframe\">\n",
       "  <thead>\n",
       "    <tr style=\"text-align: right;\">\n",
       "      <th></th>\n",
       "      <th>OptionKey</th>\n",
       "      <th>xp</th>\n",
       "    </tr>\n",
       "  </thead>\n",
       "  <tbody>\n",
       "    <tr>\n",
       "      <th>2019-11-15</th>\n",
       "      <td>MSFT2019-11-15P125.00</td>\n",
       "      <td>0.01</td>\n",
       "    </tr>\n",
       "    <tr>\n",
       "      <th>2019-11-15</th>\n",
       "      <td>MSFT2019-11-15P127.00</td>\n",
       "      <td>0.01</td>\n",
       "    </tr>\n",
       "    <tr>\n",
       "      <th>2019-11-15</th>\n",
       "      <td>MSFT2019-11-15P129.00</td>\n",
       "      <td>0.45</td>\n",
       "    </tr>\n",
       "    <tr>\n",
       "      <th>2019-11-15</th>\n",
       "      <td>MSFT2019-11-15P130.00</td>\n",
       "      <td>0.01</td>\n",
       "    </tr>\n",
       "    <tr>\n",
       "      <th>2019-11-15</th>\n",
       "      <td>MSFT2019-11-15P131.00</td>\n",
       "      <td>0.03</td>\n",
       "    </tr>\n",
       "    <tr>\n",
       "      <th>...</th>\n",
       "      <td>...</td>\n",
       "      <td>...</td>\n",
       "    </tr>\n",
       "    <tr>\n",
       "      <th>2019-12-13</th>\n",
       "      <td>MSFT2019-12-13P150.00</td>\n",
       "      <td>0.01</td>\n",
       "    </tr>\n",
       "    <tr>\n",
       "      <th>2019-12-13</th>\n",
       "      <td>MSFT2019-12-13P152.50</td>\n",
       "      <td>0.01</td>\n",
       "    </tr>\n",
       "    <tr>\n",
       "      <th>2019-12-13</th>\n",
       "      <td>MSFT2019-12-13P155.00</td>\n",
       "      <td>0.68</td>\n",
       "    </tr>\n",
       "    <tr>\n",
       "      <th>2019-12-13</th>\n",
       "      <td>MSFT2019-12-13P157.50</td>\n",
       "      <td>3.85</td>\n",
       "    </tr>\n",
       "    <tr>\n",
       "      <th>2019-12-13</th>\n",
       "      <td>MSFT2019-12-13P160.00</td>\n",
       "      <td>7.40</td>\n",
       "    </tr>\n",
       "  </tbody>\n",
       "</table>\n",
       "<p>93 rows × 2 columns</p>\n",
       "</div>"
      ],
      "text/plain": [
       "                        OptionKey    xp\n",
       "2019-11-15  MSFT2019-11-15P125.00  0.01\n",
       "2019-11-15  MSFT2019-11-15P127.00  0.01\n",
       "2019-11-15  MSFT2019-11-15P129.00  0.45\n",
       "2019-11-15  MSFT2019-11-15P130.00  0.01\n",
       "2019-11-15  MSFT2019-11-15P131.00  0.03\n",
       "...                           ...   ...\n",
       "2019-12-13  MSFT2019-12-13P150.00  0.01\n",
       "2019-12-13  MSFT2019-12-13P152.50  0.01\n",
       "2019-12-13  MSFT2019-12-13P155.00  0.68\n",
       "2019-12-13  MSFT2019-12-13P157.50  3.85\n",
       "2019-12-13  MSFT2019-12-13P160.00  7.40\n",
       "\n",
       "[93 rows x 2 columns]"
      ]
     },
     "execution_count": 9,
     "metadata": {},
     "output_type": "execute_result"
    }
   ],
   "source": [
    "xp = df\n",
    "xp.loc[xp['exp?']== True, 'xp' ] = xp.loc[df['exp?'] == True, 'AskPrice']\n",
    "xp = xp.loc[xp['exp?']== True]\n",
    "xp= xp[['OptionKey', 'xp']]\n",
    "xp"
   ]
  },
  {
   "cell_type": "code",
   "execution_count": 10,
   "metadata": {},
   "outputs": [],
   "source": [
    "#mf = exp\n",
    "#mf = mf[['OptionKey', 'xp']]\n",
    "#mf = mf.dropna()\n",
    "#mf\n",
    "#msft_xp"
   ]
  },
  {
   "cell_type": "code",
   "execution_count": 11,
   "metadata": {},
   "outputs": [
    {
     "data": {
      "text/html": [
       "<div>\n",
       "<style scoped>\n",
       "    .dataframe tbody tr th:only-of-type {\n",
       "        vertical-align: middle;\n",
       "    }\n",
       "\n",
       "    .dataframe tbody tr th {\n",
       "        vertical-align: top;\n",
       "    }\n",
       "\n",
       "    .dataframe thead th {\n",
       "        text-align: right;\n",
       "    }\n",
       "</style>\n",
       "<table border=\"1\" class=\"dataframe\">\n",
       "  <thead>\n",
       "    <tr style=\"text-align: right;\">\n",
       "      <th></th>\n",
       "      <th>OptionKey</th>\n",
       "      <th>ExpirationDate</th>\n",
       "      <th>AskPrice</th>\n",
       "      <th>BidPrice</th>\n",
       "      <th>PutCall</th>\n",
       "      <th>StrikePrice</th>\n",
       "      <th>UnderlyingPrice</th>\n",
       "      <th>DataDate</th>\n",
       "      <th>time delta</th>\n",
       "      <th>% out</th>\n",
       "      <th>LSTM Predicted Signal</th>\n",
       "      <th>RF Predicted Value</th>\n",
       "      <th>LSTM OTM Cr Entry</th>\n",
       "      <th>RF OTM Cr Entry</th>\n",
       "      <th>Bid Price</th>\n",
       "      <th>delta</th>\n",
       "      <th>exp?</th>\n",
       "      <th>long_close</th>\n",
       "      <th>long_medium</th>\n",
       "      <th>long_far</th>\n",
       "      <th>short_close</th>\n",
       "      <th>short_medium</th>\n",
       "      <th>short_far</th>\n",
       "      <th>Signal</th>\n",
       "      <th>xp</th>\n",
       "    </tr>\n",
       "  </thead>\n",
       "  <tbody>\n",
       "    <tr>\n",
       "      <th>2019-11-13</th>\n",
       "      <td>MSFT2019-11-15P120.00</td>\n",
       "      <td>2019-11-15</td>\n",
       "      <td>0.01</td>\n",
       "      <td>0.00</td>\n",
       "      <td>put</td>\n",
       "      <td>120.0</td>\n",
       "      <td>147.31</td>\n",
       "      <td>2019-11-13</td>\n",
       "      <td>2 days</td>\n",
       "      <td>-0.185391</td>\n",
       "      <td>1</td>\n",
       "      <td>1</td>\n",
       "      <td>0.0</td>\n",
       "      <td>0.0</td>\n",
       "      <td>0.0</td>\n",
       "      <td>2 days</td>\n",
       "      <td>False</td>\n",
       "      <td>False</td>\n",
       "      <td>True</td>\n",
       "      <td>False</td>\n",
       "      <td>False</td>\n",
       "      <td>True</td>\n",
       "      <td>False</td>\n",
       "      <td>1</td>\n",
       "      <td>NaN</td>\n",
       "    </tr>\n",
       "    <tr>\n",
       "      <th>2019-11-13</th>\n",
       "      <td>MSFT2019-11-15P125.00</td>\n",
       "      <td>2019-11-15</td>\n",
       "      <td>0.01</td>\n",
       "      <td>0.00</td>\n",
       "      <td>put</td>\n",
       "      <td>125.0</td>\n",
       "      <td>147.31</td>\n",
       "      <td>2019-11-13</td>\n",
       "      <td>2 days</td>\n",
       "      <td>-0.151449</td>\n",
       "      <td>1</td>\n",
       "      <td>1</td>\n",
       "      <td>0.0</td>\n",
       "      <td>0.0</td>\n",
       "      <td>0.0</td>\n",
       "      <td>2 days</td>\n",
       "      <td>False</td>\n",
       "      <td>False</td>\n",
       "      <td>True</td>\n",
       "      <td>False</td>\n",
       "      <td>False</td>\n",
       "      <td>True</td>\n",
       "      <td>False</td>\n",
       "      <td>-1</td>\n",
       "      <td>0.01</td>\n",
       "    </tr>\n",
       "    <tr>\n",
       "      <th>2019-11-14</th>\n",
       "      <td>MSFT2019-11-15P125.00</td>\n",
       "      <td>2019-11-15</td>\n",
       "      <td>0.01</td>\n",
       "      <td>0.00</td>\n",
       "      <td>put</td>\n",
       "      <td>125.0</td>\n",
       "      <td>148.06</td>\n",
       "      <td>2019-11-14</td>\n",
       "      <td>1 days</td>\n",
       "      <td>-0.155748</td>\n",
       "      <td>1</td>\n",
       "      <td>1</td>\n",
       "      <td>0.0</td>\n",
       "      <td>0.0</td>\n",
       "      <td>0.0</td>\n",
       "      <td>1 days</td>\n",
       "      <td>False</td>\n",
       "      <td>False</td>\n",
       "      <td>True</td>\n",
       "      <td>False</td>\n",
       "      <td>False</td>\n",
       "      <td>True</td>\n",
       "      <td>False</td>\n",
       "      <td>-1</td>\n",
       "      <td>0.01</td>\n",
       "    </tr>\n",
       "    <tr>\n",
       "      <th>2019-11-15</th>\n",
       "      <td>MSFT2019-11-15P125.00</td>\n",
       "      <td>2019-11-15</td>\n",
       "      <td>0.01</td>\n",
       "      <td>0.00</td>\n",
       "      <td>put</td>\n",
       "      <td>125.0</td>\n",
       "      <td>149.97</td>\n",
       "      <td>2019-11-15</td>\n",
       "      <td>0 days</td>\n",
       "      <td>-0.166500</td>\n",
       "      <td>1</td>\n",
       "      <td>1</td>\n",
       "      <td>0.0</td>\n",
       "      <td>0.0</td>\n",
       "      <td>0.0</td>\n",
       "      <td>0 days</td>\n",
       "      <td>True</td>\n",
       "      <td>False</td>\n",
       "      <td>True</td>\n",
       "      <td>False</td>\n",
       "      <td>False</td>\n",
       "      <td>True</td>\n",
       "      <td>False</td>\n",
       "      <td>-1</td>\n",
       "      <td>0.01</td>\n",
       "    </tr>\n",
       "    <tr>\n",
       "      <th>2019-11-14</th>\n",
       "      <td>MSFT2019-11-15P127.00</td>\n",
       "      <td>2019-11-15</td>\n",
       "      <td>0.01</td>\n",
       "      <td>0.00</td>\n",
       "      <td>put</td>\n",
       "      <td>127.0</td>\n",
       "      <td>148.06</td>\n",
       "      <td>2019-11-14</td>\n",
       "      <td>1 days</td>\n",
       "      <td>-0.142240</td>\n",
       "      <td>1</td>\n",
       "      <td>1</td>\n",
       "      <td>0.0</td>\n",
       "      <td>0.0</td>\n",
       "      <td>0.0</td>\n",
       "      <td>1 days</td>\n",
       "      <td>False</td>\n",
       "      <td>False</td>\n",
       "      <td>True</td>\n",
       "      <td>False</td>\n",
       "      <td>False</td>\n",
       "      <td>True</td>\n",
       "      <td>False</td>\n",
       "      <td>0</td>\n",
       "      <td>0.01</td>\n",
       "    </tr>\n",
       "    <tr>\n",
       "      <th>...</th>\n",
       "      <td>...</td>\n",
       "      <td>...</td>\n",
       "      <td>...</td>\n",
       "      <td>...</td>\n",
       "      <td>...</td>\n",
       "      <td>...</td>\n",
       "      <td>...</td>\n",
       "      <td>...</td>\n",
       "      <td>...</td>\n",
       "      <td>...</td>\n",
       "      <td>...</td>\n",
       "      <td>...</td>\n",
       "      <td>...</td>\n",
       "      <td>...</td>\n",
       "      <td>...</td>\n",
       "      <td>...</td>\n",
       "      <td>...</td>\n",
       "      <td>...</td>\n",
       "      <td>...</td>\n",
       "      <td>...</td>\n",
       "      <td>...</td>\n",
       "      <td>...</td>\n",
       "      <td>...</td>\n",
       "      <td>...</td>\n",
       "      <td>...</td>\n",
       "    </tr>\n",
       "    <tr>\n",
       "      <th>2019-12-02</th>\n",
       "      <td>MSFT2019-12-27P162.50</td>\n",
       "      <td>2019-12-27</td>\n",
       "      <td>13.60</td>\n",
       "      <td>12.30</td>\n",
       "      <td>put</td>\n",
       "      <td>162.5</td>\n",
       "      <td>149.55</td>\n",
       "      <td>2019-12-02</td>\n",
       "      <td>25 days</td>\n",
       "      <td>0.086593</td>\n",
       "      <td>-1</td>\n",
       "      <td>1</td>\n",
       "      <td>0.0</td>\n",
       "      <td>1360.0</td>\n",
       "      <td>1230.0</td>\n",
       "      <td>25 days</td>\n",
       "      <td>False</td>\n",
       "      <td>False</td>\n",
       "      <td>False</td>\n",
       "      <td>False</td>\n",
       "      <td>False</td>\n",
       "      <td>False</td>\n",
       "      <td>False</td>\n",
       "      <td>0</td>\n",
       "      <td>NaN</td>\n",
       "    </tr>\n",
       "    <tr>\n",
       "      <th>2019-12-13</th>\n",
       "      <td>MSFT2019-12-27P162.50</td>\n",
       "      <td>2019-12-27</td>\n",
       "      <td>10.15</td>\n",
       "      <td>6.45</td>\n",
       "      <td>put</td>\n",
       "      <td>162.5</td>\n",
       "      <td>154.53</td>\n",
       "      <td>2019-12-13</td>\n",
       "      <td>14 days</td>\n",
       "      <td>0.051576</td>\n",
       "      <td>1</td>\n",
       "      <td>1</td>\n",
       "      <td>1015.0</td>\n",
       "      <td>1015.0</td>\n",
       "      <td>645.0</td>\n",
       "      <td>14 days</td>\n",
       "      <td>False</td>\n",
       "      <td>False</td>\n",
       "      <td>False</td>\n",
       "      <td>False</td>\n",
       "      <td>False</td>\n",
       "      <td>False</td>\n",
       "      <td>False</td>\n",
       "      <td>1</td>\n",
       "      <td>NaN</td>\n",
       "    </tr>\n",
       "    <tr>\n",
       "      <th>2019-11-19</th>\n",
       "      <td>MSFT2019-12-27P170.00</td>\n",
       "      <td>2019-12-27</td>\n",
       "      <td>21.70</td>\n",
       "      <td>18.15</td>\n",
       "      <td>put</td>\n",
       "      <td>170.0</td>\n",
       "      <td>150.39</td>\n",
       "      <td>2019-11-19</td>\n",
       "      <td>38 days</td>\n",
       "      <td>0.130394</td>\n",
       "      <td>-1</td>\n",
       "      <td>1</td>\n",
       "      <td>0.0</td>\n",
       "      <td>2170.0</td>\n",
       "      <td>1815.0</td>\n",
       "      <td>38 days</td>\n",
       "      <td>False</td>\n",
       "      <td>False</td>\n",
       "      <td>False</td>\n",
       "      <td>False</td>\n",
       "      <td>False</td>\n",
       "      <td>False</td>\n",
       "      <td>False</td>\n",
       "      <td>0</td>\n",
       "      <td>NaN</td>\n",
       "    </tr>\n",
       "    <tr>\n",
       "      <th>2019-11-20</th>\n",
       "      <td>MSFT2019-12-27P170.00</td>\n",
       "      <td>2019-12-27</td>\n",
       "      <td>22.25</td>\n",
       "      <td>19.45</td>\n",
       "      <td>put</td>\n",
       "      <td>170.0</td>\n",
       "      <td>149.62</td>\n",
       "      <td>2019-11-20</td>\n",
       "      <td>37 days</td>\n",
       "      <td>0.136212</td>\n",
       "      <td>-1</td>\n",
       "      <td>1</td>\n",
       "      <td>0.0</td>\n",
       "      <td>2225.0</td>\n",
       "      <td>1945.0</td>\n",
       "      <td>37 days</td>\n",
       "      <td>False</td>\n",
       "      <td>False</td>\n",
       "      <td>False</td>\n",
       "      <td>False</td>\n",
       "      <td>False</td>\n",
       "      <td>False</td>\n",
       "      <td>False</td>\n",
       "      <td>-1</td>\n",
       "      <td>NaN</td>\n",
       "    </tr>\n",
       "    <tr>\n",
       "      <th>2019-12-17</th>\n",
       "      <td>MSFT2019-12-27P185.00</td>\n",
       "      <td>2019-12-27</td>\n",
       "      <td>30.80</td>\n",
       "      <td>29.45</td>\n",
       "      <td>put</td>\n",
       "      <td>185.0</td>\n",
       "      <td>154.69</td>\n",
       "      <td>2019-12-17</td>\n",
       "      <td>10 days</td>\n",
       "      <td>0.195940</td>\n",
       "      <td>-1</td>\n",
       "      <td>1</td>\n",
       "      <td>0.0</td>\n",
       "      <td>3080.0</td>\n",
       "      <td>2945.0</td>\n",
       "      <td>10 days</td>\n",
       "      <td>False</td>\n",
       "      <td>False</td>\n",
       "      <td>False</td>\n",
       "      <td>False</td>\n",
       "      <td>False</td>\n",
       "      <td>False</td>\n",
       "      <td>False</td>\n",
       "      <td>0</td>\n",
       "      <td>NaN</td>\n",
       "    </tr>\n",
       "  </tbody>\n",
       "</table>\n",
       "<p>2573 rows × 25 columns</p>\n",
       "</div>"
      ],
      "text/plain": [
       "                        OptionKey ExpirationDate  AskPrice  BidPrice PutCall  \\\n",
       "2019-11-13  MSFT2019-11-15P120.00     2019-11-15      0.01      0.00     put   \n",
       "2019-11-13  MSFT2019-11-15P125.00     2019-11-15      0.01      0.00     put   \n",
       "2019-11-14  MSFT2019-11-15P125.00     2019-11-15      0.01      0.00     put   \n",
       "2019-11-15  MSFT2019-11-15P125.00     2019-11-15      0.01      0.00     put   \n",
       "2019-11-14  MSFT2019-11-15P127.00     2019-11-15      0.01      0.00     put   \n",
       "...                           ...            ...       ...       ...     ...   \n",
       "2019-12-02  MSFT2019-12-27P162.50     2019-12-27     13.60     12.30     put   \n",
       "2019-12-13  MSFT2019-12-27P162.50     2019-12-27     10.15      6.45     put   \n",
       "2019-11-19  MSFT2019-12-27P170.00     2019-12-27     21.70     18.15     put   \n",
       "2019-11-20  MSFT2019-12-27P170.00     2019-12-27     22.25     19.45     put   \n",
       "2019-12-17  MSFT2019-12-27P185.00     2019-12-27     30.80     29.45     put   \n",
       "\n",
       "            StrikePrice  UnderlyingPrice   DataDate time delta     % out  \\\n",
       "2019-11-13        120.0           147.31 2019-11-13     2 days -0.185391   \n",
       "2019-11-13        125.0           147.31 2019-11-13     2 days -0.151449   \n",
       "2019-11-14        125.0           148.06 2019-11-14     1 days -0.155748   \n",
       "2019-11-15        125.0           149.97 2019-11-15     0 days -0.166500   \n",
       "2019-11-14        127.0           148.06 2019-11-14     1 days -0.142240   \n",
       "...                 ...              ...        ...        ...       ...   \n",
       "2019-12-02        162.5           149.55 2019-12-02    25 days  0.086593   \n",
       "2019-12-13        162.5           154.53 2019-12-13    14 days  0.051576   \n",
       "2019-11-19        170.0           150.39 2019-11-19    38 days  0.130394   \n",
       "2019-11-20        170.0           149.62 2019-11-20    37 days  0.136212   \n",
       "2019-12-17        185.0           154.69 2019-12-17    10 days  0.195940   \n",
       "\n",
       "            LSTM Predicted Signal  RF Predicted Value  LSTM OTM Cr Entry  \\\n",
       "2019-11-13                      1                   1                0.0   \n",
       "2019-11-13                      1                   1                0.0   \n",
       "2019-11-14                      1                   1                0.0   \n",
       "2019-11-15                      1                   1                0.0   \n",
       "2019-11-14                      1                   1                0.0   \n",
       "...                           ...                 ...                ...   \n",
       "2019-12-02                     -1                   1                0.0   \n",
       "2019-12-13                      1                   1             1015.0   \n",
       "2019-11-19                     -1                   1                0.0   \n",
       "2019-11-20                     -1                   1                0.0   \n",
       "2019-12-17                     -1                   1                0.0   \n",
       "\n",
       "            RF OTM Cr Entry  Bid Price   delta   exp?  long_close  \\\n",
       "2019-11-13              0.0        0.0  2 days  False       False   \n",
       "2019-11-13              0.0        0.0  2 days  False       False   \n",
       "2019-11-14              0.0        0.0  1 days  False       False   \n",
       "2019-11-15              0.0        0.0  0 days   True       False   \n",
       "2019-11-14              0.0        0.0  1 days  False       False   \n",
       "...                     ...        ...     ...    ...         ...   \n",
       "2019-12-02           1360.0     1230.0 25 days  False       False   \n",
       "2019-12-13           1015.0      645.0 14 days  False       False   \n",
       "2019-11-19           2170.0     1815.0 38 days  False       False   \n",
       "2019-11-20           2225.0     1945.0 37 days  False       False   \n",
       "2019-12-17           3080.0     2945.0 10 days  False       False   \n",
       "\n",
       "            long_medium  long_far  short_close  short_medium  short_far  \\\n",
       "2019-11-13         True     False        False          True      False   \n",
       "2019-11-13         True     False        False          True      False   \n",
       "2019-11-14         True     False        False          True      False   \n",
       "2019-11-15         True     False        False          True      False   \n",
       "2019-11-14         True     False        False          True      False   \n",
       "...                 ...       ...          ...           ...        ...   \n",
       "2019-12-02        False     False        False         False      False   \n",
       "2019-12-13        False     False        False         False      False   \n",
       "2019-11-19        False     False        False         False      False   \n",
       "2019-11-20        False     False        False         False      False   \n",
       "2019-12-17        False     False        False         False      False   \n",
       "\n",
       "            Signal    xp  \n",
       "2019-11-13       1   NaN  \n",
       "2019-11-13      -1  0.01  \n",
       "2019-11-14      -1  0.01  \n",
       "2019-11-15      -1  0.01  \n",
       "2019-11-14       0  0.01  \n",
       "...            ...   ...  \n",
       "2019-12-02       0   NaN  \n",
       "2019-12-13       1   NaN  \n",
       "2019-11-19       0   NaN  \n",
       "2019-11-20      -1   NaN  \n",
       "2019-12-17       0   NaN  \n",
       "\n",
       "[2573 rows x 25 columns]"
      ]
     },
     "execution_count": 11,
     "metadata": {},
     "output_type": "execute_result"
    }
   ],
   "source": [
    "df['xp']=df.OptionKey.map(xp.set_index('OptionKey')['xp'])\n",
    "df"
   ]
  },
  {
   "cell_type": "code",
   "execution_count": 12,
   "metadata": {},
   "outputs": [
    {
     "name": "stdout",
     "output_type": "stream",
     "text": [
      "14.170000000000002\n"
     ]
    },
    {
     "name": "stderr",
     "output_type": "stream",
     "text": [
      "<ipython-input-12-db0ecfdb9cad>:2: SettingWithCopyWarning: \n",
      "A value is trying to be set on a copy of a slice from a DataFrame.\n",
      "Try using .loc[row_indexer,col_indexer] = value instead\n",
      "\n",
      "See the caveats in the documentation: https://pandas.pydata.org/pandas-docs/stable/user_guide/indexing.html#returning-a-view-versus-a-copy\n",
      "  short_close['log'] = short_close['AskPrice'] - short_close['xp']\n"
     ]
    }
   ],
   "source": [
    "short_close = df.loc[(df['short_close']== True) & (df['Signal'] == 1)]\n",
    "short_close['log'] = short_close['AskPrice'] - short_close['xp']\n",
    "short_close_total = short_close['log'].sum()\n",
    "print(short_close_total)"
   ]
  },
  {
   "cell_type": "code",
   "execution_count": 13,
   "metadata": {},
   "outputs": [
    {
     "name": "stdout",
     "output_type": "stream",
     "text": [
      "26.919999999999998\n"
     ]
    },
    {
     "name": "stderr",
     "output_type": "stream",
     "text": [
      "<ipython-input-13-26e370e263bb>:2: SettingWithCopyWarning: \n",
      "A value is trying to be set on a copy of a slice from a DataFrame.\n",
      "Try using .loc[row_indexer,col_indexer] = value instead\n",
      "\n",
      "See the caveats in the documentation: https://pandas.pydata.org/pandas-docs/stable/user_guide/indexing.html#returning-a-view-versus-a-copy\n",
      "  short_close_RF['log'] = short_close_RF['AskPrice'] - short_close_RF['xp']\n"
     ]
    }
   ],
   "source": [
    "short_close_RF = df.loc[(df['short_close']== True) & (df['RF Predicted Value'] == 1)]\n",
    "short_close_RF['log'] = short_close_RF['AskPrice'] - short_close_RF['xp']\n",
    "short_close_RF_total = short_close_RF['log'].sum()\n",
    "print(short_close_RF_total)"
   ]
  },
  {
   "cell_type": "code",
   "execution_count": 14,
   "metadata": {},
   "outputs": [
    {
     "name": "stdout",
     "output_type": "stream",
     "text": [
      "8.080000000000002\n"
     ]
    },
    {
     "name": "stderr",
     "output_type": "stream",
     "text": [
      "<ipython-input-14-859958c1296c>:2: SettingWithCopyWarning: \n",
      "A value is trying to be set on a copy of a slice from a DataFrame.\n",
      "Try using .loc[row_indexer,col_indexer] = value instead\n",
      "\n",
      "See the caveats in the documentation: https://pandas.pydata.org/pandas-docs/stable/user_guide/indexing.html#returning-a-view-versus-a-copy\n",
      "  short_close_LTSM['log'] = short_close_LTSM['AskPrice'] - short_close_LTSM['xp']\n"
     ]
    }
   ],
   "source": [
    "short_close_LTSM = df.loc[(df['short_close']== True) & (df['LSTM Predicted Signal'] == 1)]\n",
    "short_close_LTSM['log'] = short_close_LTSM['AskPrice'] - short_close_LTSM['xp']\n",
    "short_close_LTSM_total = short_close_LTSM['log'].sum()\n",
    "print(short_close_LTSM_total)"
   ]
  },
  {
   "cell_type": "code",
   "execution_count": 15,
   "metadata": {},
   "outputs": [
    {
     "name": "stdout",
     "output_type": "stream",
     "text": [
      "0.08000000000000002\n"
     ]
    },
    {
     "name": "stderr",
     "output_type": "stream",
     "text": [
      "<ipython-input-15-e8b5d44531af>:2: SettingWithCopyWarning: \n",
      "A value is trying to be set on a copy of a slice from a DataFrame.\n",
      "Try using .loc[row_indexer,col_indexer] = value instead\n",
      "\n",
      "See the caveats in the documentation: https://pandas.pydata.org/pandas-docs/stable/user_guide/indexing.html#returning-a-view-versus-a-copy\n",
      "  short_medium['log'] = short_medium['AskPrice'] - short_medium['xp']\n"
     ]
    }
   ],
   "source": [
    "short_medium = df.loc[(df['short_medium']== True) & (df['Signal'] == 1)]\n",
    "short_medium['log'] = short_medium['AskPrice'] - short_medium['xp']\n",
    "short_medium_total = short_medium['log'].sum()\n",
    "print(short_medium_total)"
   ]
  },
  {
   "cell_type": "code",
   "execution_count": 16,
   "metadata": {},
   "outputs": [
    {
     "name": "stdout",
     "output_type": "stream",
     "text": [
      "0.010000000000000009\n"
     ]
    },
    {
     "name": "stderr",
     "output_type": "stream",
     "text": [
      "<ipython-input-16-3e62de6047f9>:2: SettingWithCopyWarning: \n",
      "A value is trying to be set on a copy of a slice from a DataFrame.\n",
      "Try using .loc[row_indexer,col_indexer] = value instead\n",
      "\n",
      "See the caveats in the documentation: https://pandas.pydata.org/pandas-docs/stable/user_guide/indexing.html#returning-a-view-versus-a-copy\n",
      "  short_medium_RF['log'] = short_medium_RF['AskPrice'] - short_medium_RF['xp']\n"
     ]
    }
   ],
   "source": [
    "short_medium_RF = df.loc[(df['short_medium']== True) & (df['RF Predicted Value'] == 1)]\n",
    "short_medium_RF['log'] = short_medium_RF['AskPrice'] - short_medium_RF['xp']\n",
    "short_medium_RF_total = short_medium_RF['log'].sum()\n",
    "print(short_medium_RF_total)"
   ]
  },
  {
   "cell_type": "code",
   "execution_count": 17,
   "metadata": {},
   "outputs": [
    {
     "name": "stdout",
     "output_type": "stream",
     "text": [
      "-0.019999999999999907\n"
     ]
    },
    {
     "name": "stderr",
     "output_type": "stream",
     "text": [
      "<ipython-input-17-fcf0944296be>:2: SettingWithCopyWarning: \n",
      "A value is trying to be set on a copy of a slice from a DataFrame.\n",
      "Try using .loc[row_indexer,col_indexer] = value instead\n",
      "\n",
      "See the caveats in the documentation: https://pandas.pydata.org/pandas-docs/stable/user_guide/indexing.html#returning-a-view-versus-a-copy\n",
      "  short_medium_LTSM['log'] = short_medium_LTSM['AskPrice'] - short_medium_LTSM['xp']\n"
     ]
    }
   ],
   "source": [
    "short_medium_LTSM = df.loc[(df['short_medium']== True) & (df['LSTM Predicted Signal'] == 1)]\n",
    "short_medium_LTSM['log'] = short_medium_LTSM['AskPrice'] - short_medium_LTSM['xp']\n",
    "short_medium_LTSM_total = short_medium_LTSM['log'].sum()\n",
    "print(short_medium_LTSM_total)"
   ]
  },
  {
   "cell_type": "code",
   "execution_count": 18,
   "metadata": {},
   "outputs": [
    {
     "name": "stdout",
     "output_type": "stream",
     "text": [
      "0.0\n"
     ]
    },
    {
     "name": "stderr",
     "output_type": "stream",
     "text": [
      "<ipython-input-18-ac8845e429a2>:2: SettingWithCopyWarning: \n",
      "A value is trying to be set on a copy of a slice from a DataFrame.\n",
      "Try using .loc[row_indexer,col_indexer] = value instead\n",
      "\n",
      "See the caveats in the documentation: https://pandas.pydata.org/pandas-docs/stable/user_guide/indexing.html#returning-a-view-versus-a-copy\n",
      "  short_far['log'] = short_far['AskPrice'] - short_far['xp']\n"
     ]
    }
   ],
   "source": [
    "short_far = df.loc[(df['short_far']== True) & (df['Signal'] == 1)]\n",
    "short_far['log'] = short_far['AskPrice'] - short_far['xp']\n",
    "short_far_total = short_far['log'].sum()\n",
    "print(short_far_total)"
   ]
  },
  {
   "cell_type": "code",
   "execution_count": 19,
   "metadata": {},
   "outputs": [
    {
     "name": "stdout",
     "output_type": "stream",
     "text": [
      "0.0\n"
     ]
    },
    {
     "name": "stderr",
     "output_type": "stream",
     "text": [
      "<ipython-input-19-b3a1e7696dea>:2: SettingWithCopyWarning: \n",
      "A value is trying to be set on a copy of a slice from a DataFrame.\n",
      "Try using .loc[row_indexer,col_indexer] = value instead\n",
      "\n",
      "See the caveats in the documentation: https://pandas.pydata.org/pandas-docs/stable/user_guide/indexing.html#returning-a-view-versus-a-copy\n",
      "  short_far_LTSM['log'] = short_far_LTSM['AskPrice'] - short_far_LTSM['xp']\n"
     ]
    }
   ],
   "source": [
    "short_far_LTSM = df.loc[(df['short_far']== True) & (df['LSTM Predicted Signal'] == 1)]\n",
    "short_far_LTSM['log'] = short_far_LTSM['AskPrice'] - short_far_LTSM['xp']\n",
    "short_far_LTSM_total = short_far_LTSM['log'].sum()\n",
    "print(short_far_LTSM_total)"
   ]
  },
  {
   "cell_type": "code",
   "execution_count": 20,
   "metadata": {},
   "outputs": [
    {
     "name": "stdout",
     "output_type": "stream",
     "text": [
      "0.0\n"
     ]
    },
    {
     "name": "stderr",
     "output_type": "stream",
     "text": [
      "<ipython-input-20-18c5042b77ee>:2: SettingWithCopyWarning: \n",
      "A value is trying to be set on a copy of a slice from a DataFrame.\n",
      "Try using .loc[row_indexer,col_indexer] = value instead\n",
      "\n",
      "See the caveats in the documentation: https://pandas.pydata.org/pandas-docs/stable/user_guide/indexing.html#returning-a-view-versus-a-copy\n",
      "  short_far_RF['log'] = short_far_RF['AskPrice'] - short_far_RF['xp']\n"
     ]
    }
   ],
   "source": [
    "short_far_RF = df.loc[(df['short_far']== True) & (df['RF Predicted Value'] == 1)]\n",
    "short_far_RF['log'] = short_far_RF['AskPrice'] - short_far_RF['xp']\n",
    "short_far_RF_total = short_far_RF['log'].sum()\n",
    "print(short_far_RF_total)"
   ]
  },
  {
   "cell_type": "code",
   "execution_count": 21,
   "metadata": {},
   "outputs": [
    {
     "name": "stdout",
     "output_type": "stream",
     "text": [
      "35.39\n"
     ]
    },
    {
     "name": "stderr",
     "output_type": "stream",
     "text": [
      "<ipython-input-21-75a269248bd1>:2: SettingWithCopyWarning: \n",
      "A value is trying to be set on a copy of a slice from a DataFrame.\n",
      "Try using .loc[row_indexer,col_indexer] = value instead\n",
      "\n",
      "See the caveats in the documentation: https://pandas.pydata.org/pandas-docs/stable/user_guide/indexing.html#returning-a-view-versus-a-copy\n",
      "  long_close['log'] = long_close['AskPrice'] - long_close['xp']\n"
     ]
    }
   ],
   "source": [
    "long_close = df.loc[(df['long_close']== True) & (df['Signal'] == 1)]\n",
    "long_close['log'] = long_close['AskPrice'] - long_close['xp']\n",
    "long_close_total = long_close['log'].sum()\n",
    "print(long_close_total)"
   ]
  },
  {
   "cell_type": "code",
   "execution_count": 22,
   "metadata": {},
   "outputs": [
    {
     "name": "stdout",
     "output_type": "stream",
     "text": [
      "17.96\n"
     ]
    },
    {
     "name": "stderr",
     "output_type": "stream",
     "text": [
      "<ipython-input-22-3a82462531d2>:2: SettingWithCopyWarning: \n",
      "A value is trying to be set on a copy of a slice from a DataFrame.\n",
      "Try using .loc[row_indexer,col_indexer] = value instead\n",
      "\n",
      "See the caveats in the documentation: https://pandas.pydata.org/pandas-docs/stable/user_guide/indexing.html#returning-a-view-versus-a-copy\n",
      "  long_close_LTSM['log'] = long_close_LTSM['AskPrice'] - long_close_LTSM['xp']\n"
     ]
    }
   ],
   "source": [
    "long_close_LTSM = df.loc[(df['long_close']== True) & (df['LSTM Predicted Signal'] == 1)]\n",
    "long_close_LTSM['log'] = long_close_LTSM['AskPrice'] - long_close_LTSM['xp']\n",
    "long_close_LTSM_total = long_close_LTSM['log'].sum()\n",
    "print(long_close_LTSM_total)"
   ]
  },
  {
   "cell_type": "code",
   "execution_count": 23,
   "metadata": {},
   "outputs": [
    {
     "name": "stdout",
     "output_type": "stream",
     "text": [
      "72.93\n"
     ]
    },
    {
     "name": "stderr",
     "output_type": "stream",
     "text": [
      "<ipython-input-23-2c96faa3b979>:2: SettingWithCopyWarning: \n",
      "A value is trying to be set on a copy of a slice from a DataFrame.\n",
      "Try using .loc[row_indexer,col_indexer] = value instead\n",
      "\n",
      "See the caveats in the documentation: https://pandas.pydata.org/pandas-docs/stable/user_guide/indexing.html#returning-a-view-versus-a-copy\n",
      "  long_close_RF['log'] = long_close_RF['AskPrice'] - long_close_RF['xp']\n"
     ]
    }
   ],
   "source": [
    "long_close_RF = df.loc[(df['long_close']== True) & (df['RF Predicted Value'] == 1)]\n",
    "long_close_RF['log'] = long_close_RF['AskPrice'] - long_close_RF['xp']\n",
    "long_close_RF_total = long_close_RF['log'].sum()\n",
    "print(long_close_RF_total)"
   ]
  },
  {
   "cell_type": "code",
   "execution_count": 24,
   "metadata": {},
   "outputs": [
    {
     "name": "stdout",
     "output_type": "stream",
     "text": [
      "0.0\n"
     ]
    },
    {
     "name": "stderr",
     "output_type": "stream",
     "text": [
      "<ipython-input-24-f50bec28ebd4>:2: SettingWithCopyWarning: \n",
      "A value is trying to be set on a copy of a slice from a DataFrame.\n",
      "Try using .loc[row_indexer,col_indexer] = value instead\n",
      "\n",
      "See the caveats in the documentation: https://pandas.pydata.org/pandas-docs/stable/user_guide/indexing.html#returning-a-view-versus-a-copy\n",
      "  long_far['log'] = long_far['AskPrice'] - long_far['xp']\n"
     ]
    }
   ],
   "source": [
    "long_far = df.loc[(df['long_far']== True) & (df['Signal'] == 1)]\n",
    "long_far['log'] = long_far['AskPrice'] - long_far['xp']\n",
    "long_far_total = long_far['log'].sum()\n",
    "print(long_far_total)"
   ]
  },
  {
   "cell_type": "code",
   "execution_count": 25,
   "metadata": {},
   "outputs": [
    {
     "name": "stdout",
     "output_type": "stream",
     "text": [
      "0.0\n"
     ]
    },
    {
     "name": "stderr",
     "output_type": "stream",
     "text": [
      "<ipython-input-25-42ba9debbf05>:2: SettingWithCopyWarning: \n",
      "A value is trying to be set on a copy of a slice from a DataFrame.\n",
      "Try using .loc[row_indexer,col_indexer] = value instead\n",
      "\n",
      "See the caveats in the documentation: https://pandas.pydata.org/pandas-docs/stable/user_guide/indexing.html#returning-a-view-versus-a-copy\n",
      "  long_far_RF['log'] = long_far_RF['AskPrice'] - long_far_RF['xp']\n"
     ]
    }
   ],
   "source": [
    "long_far_RF = df.loc[(df['long_far']== True) & (df['RF Predicted Value'] == 1)]\n",
    "long_far_RF['log'] = long_far_RF['AskPrice'] - long_far_RF['xp']\n",
    "long_far_RF_total = long_far_RF['log'].sum()\n",
    "print(long_far_RF_total)"
   ]
  },
  {
   "cell_type": "code",
   "execution_count": 26,
   "metadata": {},
   "outputs": [
    {
     "name": "stdout",
     "output_type": "stream",
     "text": [
      "0.0\n"
     ]
    },
    {
     "name": "stderr",
     "output_type": "stream",
     "text": [
      "<ipython-input-26-7db88ed9f97f>:2: SettingWithCopyWarning: \n",
      "A value is trying to be set on a copy of a slice from a DataFrame.\n",
      "Try using .loc[row_indexer,col_indexer] = value instead\n",
      "\n",
      "See the caveats in the documentation: https://pandas.pydata.org/pandas-docs/stable/user_guide/indexing.html#returning-a-view-versus-a-copy\n",
      "  long_far_LTSM['log'] = long_far_LTSM['AskPrice'] - long_far_LTSM['xp']\n"
     ]
    }
   ],
   "source": [
    "long_far_LTSM = df.loc[(df['long_far']== True) & (df['LSTM Predicted Signal'] == 1)]\n",
    "long_far_LTSM['log'] = long_far_LTSM['AskPrice'] - long_far_LTSM['xp']\n",
    "long_far_LTSM_total = long_far_LTSM['log'].sum()\n",
    "print(long_far_LTSM_total)"
   ]
  },
  {
   "cell_type": "code",
   "execution_count": 27,
   "metadata": {},
   "outputs": [
    {
     "name": "stdout",
     "output_type": "stream",
     "text": [
      "0.24000000000000007\n"
     ]
    },
    {
     "name": "stderr",
     "output_type": "stream",
     "text": [
      "<ipython-input-27-9fa1fb1575a9>:2: SettingWithCopyWarning: \n",
      "A value is trying to be set on a copy of a slice from a DataFrame.\n",
      "Try using .loc[row_indexer,col_indexer] = value instead\n",
      "\n",
      "See the caveats in the documentation: https://pandas.pydata.org/pandas-docs/stable/user_guide/indexing.html#returning-a-view-versus-a-copy\n",
      "  long_medium_LTSM['log'] = long_medium_LTSM['AskPrice'] - long_medium_LTSM['xp']\n"
     ]
    }
   ],
   "source": [
    "long_medium_LTSM = df.loc[(df['long_medium']== True) & (df['LSTM Predicted Signal'] == 1)]\n",
    "long_medium_LTSM['log'] = long_medium_LTSM['AskPrice'] - long_medium_LTSM['xp']\n",
    "long_medium_LTSM_total = long_medium_LTSM['log'].sum()\n",
    "print(long_medium_LTSM_total)"
   ]
  },
  {
   "cell_type": "code",
   "execution_count": 28,
   "metadata": {},
   "outputs": [
    {
     "name": "stdout",
     "output_type": "stream",
     "text": [
      "0.4900000000000001\n"
     ]
    },
    {
     "name": "stderr",
     "output_type": "stream",
     "text": [
      "<ipython-input-28-29d39dcc6c84>:2: SettingWithCopyWarning: \n",
      "A value is trying to be set on a copy of a slice from a DataFrame.\n",
      "Try using .loc[row_indexer,col_indexer] = value instead\n",
      "\n",
      "See the caveats in the documentation: https://pandas.pydata.org/pandas-docs/stable/user_guide/indexing.html#returning-a-view-versus-a-copy\n",
      "  long_medium_RF['log'] = long_medium_RF['AskPrice'] - long_medium_RF['xp']\n"
     ]
    }
   ],
   "source": [
    "long_medium_RF = df.loc[(df['long_medium']== True) & (df['RF Predicted Value'] == 1)]\n",
    "long_medium_RF['log'] = long_medium_RF['AskPrice'] - long_medium_RF['xp']\n",
    "long_medium_RF_total = long_medium_RF['log'].sum()\n",
    "print(long_medium_RF_total)"
   ]
  },
  {
   "cell_type": "code",
   "execution_count": 29,
   "metadata": {},
   "outputs": [
    {
     "name": "stdout",
     "output_type": "stream",
     "text": [
      "0.6200000000000001\n"
     ]
    },
    {
     "name": "stderr",
     "output_type": "stream",
     "text": [
      "<ipython-input-29-466d7a72f370>:2: SettingWithCopyWarning: \n",
      "A value is trying to be set on a copy of a slice from a DataFrame.\n",
      "Try using .loc[row_indexer,col_indexer] = value instead\n",
      "\n",
      "See the caveats in the documentation: https://pandas.pydata.org/pandas-docs/stable/user_guide/indexing.html#returning-a-view-versus-a-copy\n",
      "  long_medium['log'] = long_medium['AskPrice'] - long_medium['xp']\n"
     ]
    }
   ],
   "source": [
    "long_medium = df.loc[(df['long_medium']== True) & (df['Signal'] == 1)]\n",
    "long_medium['log'] = long_medium['AskPrice'] - long_medium['xp']\n",
    "long_medium_total = long_medium['log'].sum()\n",
    "print(long_medium_total)"
   ]
  },
  {
   "cell_type": "code",
   "execution_count": 30,
   "metadata": {},
   "outputs": [
    {
     "data": {
      "text/plain": [
       "-0.05000000000000001"
      ]
     },
     "execution_count": 30,
     "metadata": {},
     "output_type": "execute_result"
    }
   ],
   "source": [
    "short_close_negatives =(short_close.loc[(short_close.log < 0)])\n",
    "short_close_negatives.log.mean()\n",
    "# there are 14 times we were wrong"
   ]
  },
  {
   "cell_type": "code",
   "execution_count": 31,
   "metadata": {},
   "outputs": [
    {
     "data": {
      "text/html": [
       "<div>\n",
       "<style scoped>\n",
       "    .dataframe tbody tr th:only-of-type {\n",
       "        vertical-align: middle;\n",
       "    }\n",
       "\n",
       "    .dataframe tbody tr th {\n",
       "        vertical-align: top;\n",
       "    }\n",
       "\n",
       "    .dataframe thead th {\n",
       "        text-align: right;\n",
       "    }\n",
       "</style>\n",
       "<table border=\"1\" class=\"dataframe\">\n",
       "  <thead>\n",
       "    <tr style=\"text-align: right;\">\n",
       "      <th></th>\n",
       "      <th>OptionKey</th>\n",
       "      <th>ExpirationDate</th>\n",
       "      <th>AskPrice</th>\n",
       "      <th>BidPrice</th>\n",
       "      <th>PutCall</th>\n",
       "      <th>StrikePrice</th>\n",
       "      <th>UnderlyingPrice</th>\n",
       "      <th>DataDate</th>\n",
       "      <th>time delta</th>\n",
       "      <th>% out</th>\n",
       "      <th>LSTM Predicted Signal</th>\n",
       "      <th>RF Predicted Value</th>\n",
       "      <th>LSTM OTM Cr Entry</th>\n",
       "      <th>RF OTM Cr Entry</th>\n",
       "      <th>Bid Price</th>\n",
       "      <th>delta</th>\n",
       "      <th>exp?</th>\n",
       "      <th>long_close</th>\n",
       "      <th>long_medium</th>\n",
       "      <th>long_far</th>\n",
       "      <th>short_close</th>\n",
       "      <th>short_medium</th>\n",
       "      <th>short_far</th>\n",
       "      <th>Signal</th>\n",
       "      <th>xp</th>\n",
       "      <th>log</th>\n",
       "    </tr>\n",
       "  </thead>\n",
       "  <tbody>\n",
       "    <tr>\n",
       "      <th>2019-12-06</th>\n",
       "      <td>MSFT2019-12-13P141.00</td>\n",
       "      <td>2019-12-13</td>\n",
       "      <td>1.07</td>\n",
       "      <td>0.05</td>\n",
       "      <td>put</td>\n",
       "      <td>141.0</td>\n",
       "      <td>151.75</td>\n",
       "      <td>2019-12-06</td>\n",
       "      <td>7 days</td>\n",
       "      <td>-0.070840</td>\n",
       "      <td>-1</td>\n",
       "      <td>0</td>\n",
       "      <td>0.0</td>\n",
       "      <td>0.0</td>\n",
       "      <td>5.0</td>\n",
       "      <td>7 days</td>\n",
       "      <td>False</td>\n",
       "      <td>True</td>\n",
       "      <td>False</td>\n",
       "      <td>False</td>\n",
       "      <td>True</td>\n",
       "      <td>False</td>\n",
       "      <td>False</td>\n",
       "      <td>1</td>\n",
       "      <td>0.01</td>\n",
       "      <td>1.06</td>\n",
       "    </tr>\n",
       "    <tr>\n",
       "      <th>2019-11-15</th>\n",
       "      <td>MSFT2019-11-22P149.00</td>\n",
       "      <td>2019-11-22</td>\n",
       "      <td>1.02</td>\n",
       "      <td>0.86</td>\n",
       "      <td>put</td>\n",
       "      <td>149.0</td>\n",
       "      <td>149.97</td>\n",
       "      <td>2019-11-15</td>\n",
       "      <td>7 days</td>\n",
       "      <td>-0.006468</td>\n",
       "      <td>1</td>\n",
       "      <td>1</td>\n",
       "      <td>0.0</td>\n",
       "      <td>0.0</td>\n",
       "      <td>86.0</td>\n",
       "      <td>7 days</td>\n",
       "      <td>False</td>\n",
       "      <td>True</td>\n",
       "      <td>False</td>\n",
       "      <td>False</td>\n",
       "      <td>True</td>\n",
       "      <td>False</td>\n",
       "      <td>False</td>\n",
       "      <td>1</td>\n",
       "      <td>0.03</td>\n",
       "      <td>0.99</td>\n",
       "    </tr>\n",
       "    <tr>\n",
       "      <th>2019-11-22</th>\n",
       "      <td>MSFT2019-11-29P149.00</td>\n",
       "      <td>2019-11-29</td>\n",
       "      <td>0.73</td>\n",
       "      <td>0.66</td>\n",
       "      <td>put</td>\n",
       "      <td>149.0</td>\n",
       "      <td>149.59</td>\n",
       "      <td>2019-11-22</td>\n",
       "      <td>7 days</td>\n",
       "      <td>-0.003944</td>\n",
       "      <td>-1</td>\n",
       "      <td>1</td>\n",
       "      <td>0.0</td>\n",
       "      <td>0.0</td>\n",
       "      <td>66.0</td>\n",
       "      <td>7 days</td>\n",
       "      <td>False</td>\n",
       "      <td>True</td>\n",
       "      <td>False</td>\n",
       "      <td>False</td>\n",
       "      <td>True</td>\n",
       "      <td>False</td>\n",
       "      <td>False</td>\n",
       "      <td>1</td>\n",
       "      <td>0.01</td>\n",
       "      <td>0.72</td>\n",
       "    </tr>\n",
       "    <tr>\n",
       "      <th>2019-11-29</th>\n",
       "      <td>MSFT2019-12-06P150.00</td>\n",
       "      <td>2019-12-06</td>\n",
       "      <td>0.67</td>\n",
       "      <td>0.60</td>\n",
       "      <td>put</td>\n",
       "      <td>150.0</td>\n",
       "      <td>151.38</td>\n",
       "      <td>2019-11-29</td>\n",
       "      <td>7 days</td>\n",
       "      <td>-0.009116</td>\n",
       "      <td>-1</td>\n",
       "      <td>1</td>\n",
       "      <td>0.0</td>\n",
       "      <td>0.0</td>\n",
       "      <td>60.0</td>\n",
       "      <td>7 days</td>\n",
       "      <td>False</td>\n",
       "      <td>True</td>\n",
       "      <td>False</td>\n",
       "      <td>False</td>\n",
       "      <td>True</td>\n",
       "      <td>False</td>\n",
       "      <td>False</td>\n",
       "      <td>1</td>\n",
       "      <td>0.01</td>\n",
       "      <td>0.66</td>\n",
       "    </tr>\n",
       "    <tr>\n",
       "      <th>2019-12-06</th>\n",
       "      <td>MSFT2019-12-13P150.00</td>\n",
       "      <td>2019-12-13</td>\n",
       "      <td>0.60</td>\n",
       "      <td>0.49</td>\n",
       "      <td>put</td>\n",
       "      <td>150.0</td>\n",
       "      <td>151.75</td>\n",
       "      <td>2019-12-06</td>\n",
       "      <td>7 days</td>\n",
       "      <td>-0.011532</td>\n",
       "      <td>-1</td>\n",
       "      <td>0</td>\n",
       "      <td>0.0</td>\n",
       "      <td>0.0</td>\n",
       "      <td>49.0</td>\n",
       "      <td>7 days</td>\n",
       "      <td>False</td>\n",
       "      <td>True</td>\n",
       "      <td>False</td>\n",
       "      <td>False</td>\n",
       "      <td>True</td>\n",
       "      <td>False</td>\n",
       "      <td>False</td>\n",
       "      <td>1</td>\n",
       "      <td>0.01</td>\n",
       "      <td>0.59</td>\n",
       "    </tr>\n",
       "  </tbody>\n",
       "</table>\n",
       "</div>"
      ],
      "text/plain": [
       "                        OptionKey ExpirationDate  AskPrice  BidPrice PutCall  \\\n",
       "2019-12-06  MSFT2019-12-13P141.00     2019-12-13      1.07      0.05     put   \n",
       "2019-11-15  MSFT2019-11-22P149.00     2019-11-22      1.02      0.86     put   \n",
       "2019-11-22  MSFT2019-11-29P149.00     2019-11-29      0.73      0.66     put   \n",
       "2019-11-29  MSFT2019-12-06P150.00     2019-12-06      0.67      0.60     put   \n",
       "2019-12-06  MSFT2019-12-13P150.00     2019-12-13      0.60      0.49     put   \n",
       "\n",
       "            StrikePrice  UnderlyingPrice   DataDate time delta     % out  \\\n",
       "2019-12-06        141.0           151.75 2019-12-06     7 days -0.070840   \n",
       "2019-11-15        149.0           149.97 2019-11-15     7 days -0.006468   \n",
       "2019-11-22        149.0           149.59 2019-11-22     7 days -0.003944   \n",
       "2019-11-29        150.0           151.38 2019-11-29     7 days -0.009116   \n",
       "2019-12-06        150.0           151.75 2019-12-06     7 days -0.011532   \n",
       "\n",
       "            LSTM Predicted Signal  RF Predicted Value  LSTM OTM Cr Entry  \\\n",
       "2019-12-06                     -1                   0                0.0   \n",
       "2019-11-15                      1                   1                0.0   \n",
       "2019-11-22                     -1                   1                0.0   \n",
       "2019-11-29                     -1                   1                0.0   \n",
       "2019-12-06                     -1                   0                0.0   \n",
       "\n",
       "            RF OTM Cr Entry  Bid Price  delta   exp?  long_close  long_medium  \\\n",
       "2019-12-06              0.0        5.0 7 days  False        True        False   \n",
       "2019-11-15              0.0       86.0 7 days  False        True        False   \n",
       "2019-11-22              0.0       66.0 7 days  False        True        False   \n",
       "2019-11-29              0.0       60.0 7 days  False        True        False   \n",
       "2019-12-06              0.0       49.0 7 days  False        True        False   \n",
       "\n",
       "            long_far  short_close  short_medium  short_far  Signal    xp   log  \n",
       "2019-12-06     False         True         False      False       1  0.01  1.06  \n",
       "2019-11-15     False         True         False      False       1  0.03  0.99  \n",
       "2019-11-22     False         True         False      False       1  0.01  0.72  \n",
       "2019-11-29     False         True         False      False       1  0.01  0.66  \n",
       "2019-12-06     False         True         False      False       1  0.01  0.59  "
      ]
     },
     "execution_count": 31,
     "metadata": {},
     "output_type": "execute_result"
    }
   ],
   "source": [
    "short_close_positives =(short_close.loc[(short_close.log > 0)])\n",
    "#short_close_positives.log.mean()\n",
    "short_close_positives = short_close_positives.sort_values('log', ascending= False)\n",
    "short_close_positives.head()"
   ]
  },
  {
   "cell_type": "code",
   "execution_count": 32,
   "metadata": {},
   "outputs": [
    {
     "data": {
      "text/plain": [
       "(142, 26)"
      ]
     },
     "execution_count": 32,
     "metadata": {},
     "output_type": "execute_result"
    }
   ],
   "source": [
    "short_close.shape"
   ]
  },
  {
   "cell_type": "code",
   "execution_count": 33,
   "metadata": {},
   "outputs": [
    {
     "ename": "AttributeError",
     "evalue": "'DataFrame' object has no attribute 'dropindex'",
     "output_type": "error",
     "traceback": [
      "\u001b[1;31m---------------------------------------------------------------------------\u001b[0m",
      "\u001b[1;31mAttributeError\u001b[0m                            Traceback (most recent call last)",
      "\u001b[1;32m<ipython-input-33-63e05cf01640>\u001b[0m in \u001b[0;36m<module>\u001b[1;34m\u001b[0m\n\u001b[0;32m      1\u001b[0m \u001b[0mshort_close\u001b[0m \u001b[1;33m=\u001b[0m \u001b[0mshort_close\u001b[0m\u001b[1;33m.\u001b[0m\u001b[0msort_values\u001b[0m\u001b[1;33m(\u001b[0m\u001b[1;34m'log'\u001b[0m\u001b[1;33m,\u001b[0m \u001b[0mascending\u001b[0m \u001b[1;33m=\u001b[0m \u001b[1;32mTrue\u001b[0m\u001b[1;33m)\u001b[0m\u001b[1;33m\u001b[0m\u001b[1;33m\u001b[0m\u001b[0m\n\u001b[0;32m      2\u001b[0m \u001b[0mshort_close\u001b[0m \u001b[1;33m=\u001b[0m \u001b[0mshort_close\u001b[0m\u001b[1;33m.\u001b[0m\u001b[0mdropna\u001b[0m\u001b[1;33m(\u001b[0m\u001b[1;33m)\u001b[0m\u001b[1;33m\u001b[0m\u001b[1;33m\u001b[0m\u001b[0m\n\u001b[1;32m----> 3\u001b[1;33m \u001b[0mshort_close\u001b[0m \u001b[1;33m=\u001b[0m \u001b[0mshort_close\u001b[0m\u001b[1;33m.\u001b[0m\u001b[0mdropindex\u001b[0m\u001b[1;33m(\u001b[0m\u001b[1;33m)\u001b[0m\u001b[1;33m\u001b[0m\u001b[1;33m\u001b[0m\u001b[0m\n\u001b[0m\u001b[0;32m      4\u001b[0m \u001b[0mshort_close_max_premium\u001b[0m \u001b[1;33m=\u001b[0m \u001b[0mshort_close\u001b[0m\u001b[1;33m[\u001b[0m\u001b[1;34m'log'\u001b[0m\u001b[1;33m]\u001b[0m\u001b[1;33m.\u001b[0m\u001b[0mtail\u001b[0m\u001b[1;33m(\u001b[0m\u001b[1;33m)\u001b[0m\u001b[1;33m\u001b[0m\u001b[1;33m\u001b[0m\u001b[0m\n",
      "\u001b[1;32m~\\anaconda3\\lib\\site-packages\\pandas\\core\\generic.py\u001b[0m in \u001b[0;36m__getattr__\u001b[1;34m(self, name)\u001b[0m\n\u001b[0;32m   5137\u001b[0m             \u001b[1;32mif\u001b[0m \u001b[0mself\u001b[0m\u001b[1;33m.\u001b[0m\u001b[0m_info_axis\u001b[0m\u001b[1;33m.\u001b[0m\u001b[0m_can_hold_identifiers_and_holds_name\u001b[0m\u001b[1;33m(\u001b[0m\u001b[0mname\u001b[0m\u001b[1;33m)\u001b[0m\u001b[1;33m:\u001b[0m\u001b[1;33m\u001b[0m\u001b[1;33m\u001b[0m\u001b[0m\n\u001b[0;32m   5138\u001b[0m                 \u001b[1;32mreturn\u001b[0m \u001b[0mself\u001b[0m\u001b[1;33m[\u001b[0m\u001b[0mname\u001b[0m\u001b[1;33m]\u001b[0m\u001b[1;33m\u001b[0m\u001b[1;33m\u001b[0m\u001b[0m\n\u001b[1;32m-> 5139\u001b[1;33m             \u001b[1;32mreturn\u001b[0m \u001b[0mobject\u001b[0m\u001b[1;33m.\u001b[0m\u001b[0m__getattribute__\u001b[0m\u001b[1;33m(\u001b[0m\u001b[0mself\u001b[0m\u001b[1;33m,\u001b[0m \u001b[0mname\u001b[0m\u001b[1;33m)\u001b[0m\u001b[1;33m\u001b[0m\u001b[1;33m\u001b[0m\u001b[0m\n\u001b[0m\u001b[0;32m   5140\u001b[0m \u001b[1;33m\u001b[0m\u001b[0m\n\u001b[0;32m   5141\u001b[0m     \u001b[1;32mdef\u001b[0m \u001b[0m__setattr__\u001b[0m\u001b[1;33m(\u001b[0m\u001b[0mself\u001b[0m\u001b[1;33m,\u001b[0m \u001b[0mname\u001b[0m\u001b[1;33m:\u001b[0m \u001b[0mstr\u001b[0m\u001b[1;33m,\u001b[0m \u001b[0mvalue\u001b[0m\u001b[1;33m)\u001b[0m \u001b[1;33m->\u001b[0m \u001b[1;32mNone\u001b[0m\u001b[1;33m:\u001b[0m\u001b[1;33m\u001b[0m\u001b[1;33m\u001b[0m\u001b[0m\n",
      "\u001b[1;31mAttributeError\u001b[0m: 'DataFrame' object has no attribute 'dropindex'"
     ]
    }
   ],
   "source": [
    "short_close = short_close.sort_values('log', ascending = True)\n",
    "short_close = short_close.dropna()\n",
    "short_close = short_close.dropindex()\n",
    "short_close_max_premium = short_close['log'].tail()"
   ]
  },
  {
   "cell_type": "code",
   "execution_count": 34,
   "metadata": {},
   "outputs": [
    {
     "data": {
      "text/plain": [
       "2019-12-11   -0.10\n",
       "2019-12-11   -0.04\n",
       "2019-12-06   -0.01\n",
       "2019-11-21    0.00\n",
       "2019-11-29    0.00\n",
       "Name: log, dtype: float64"
      ]
     },
     "execution_count": 34,
     "metadata": {},
     "output_type": "execute_result"
    }
   ],
   "source": [
    "short_close_max_loss = short_close['log'].head()\n",
    "short_close_max_loss"
   ]
  },
  {
   "cell_type": "code",
   "execution_count": 35,
   "metadata": {},
   "outputs": [
    {
     "name": "stdout",
     "output_type": "stream",
     "text": [
      "the biggest loses were 26.919999999999998\n"
     ]
    }
   ],
   "source": [
    "print(f'the biggest loses were', short_close_RF_total)"
   ]
  },
  {
   "cell_type": "code",
   "execution_count": 36,
   "metadata": {},
   "outputs": [
    {
     "name": "stdout",
     "output_type": "stream",
     "text": [
      "Selling options expiring in a week and close to the money,\n",
      " RF generated: 26.919999999999998 \n",
      " LTSM generated: 8.080000000000002\n",
      "\n",
      "Selling options expiring in a week and slightly out to the money,\n",
      " RF generated: 0.010000000000000009 \n",
      " LTSM generated: -0.019999999999999907\n",
      "\n",
      "Selling options expiring in a week and far out to the money,\n",
      " RF generated: 0.0 \n",
      " LTSM generated: 0.0\n"
     ]
    }
   ],
   "source": [
    "print('Selling options expiring in a week and close to the money,\\n RF generated:', short_close_RF_total, '\\n LTSM generated:', short_close_LTSM_total)\n",
    "print('\\nSelling options expiring in a week and slightly out to the money,\\n RF generated:', short_medium_RF_total, '\\n LTSM generated:', short_medium_LTSM_total)\n",
    "print('\\nSelling options expiring in a week and far out to the money,\\n RF generated:', short_far_RF_total, '\\n LTSM generated:', short_far_LTSM_total)\n"
   ]
  },
  {
   "cell_type": "code",
   "execution_count": 37,
   "metadata": {},
   "outputs": [
    {
     "name": "stdout",
     "output_type": "stream",
     "text": [
      "Selling options expiring in a two weeks and close to the money,\n",
      " RF generated: 72.93 \n",
      " LTSM generated: 17.96\n",
      "\n",
      "Selling options expiring in two weeks and slightly out to the money,\n",
      " RF generated: 0.4900000000000001 \n",
      " LTSM generated: 0.24000000000000007\n",
      "\n",
      "Selling options expiring in two weeks and far out to the money,\n",
      " RF generated: 0.0 \n",
      " LTSM generated: 0.0\n"
     ]
    }
   ],
   "source": [
    "print('Selling options expiring in a two weeks and close to the money,\\n RF generated:', long_close_RF_total, '\\n LTSM generated:', long_close_LTSM_total)\n",
    "print('\\nSelling options expiring in two weeks and slightly out to the money,\\n RF generated:', long_medium_RF_total, '\\n LTSM generated:', long_medium_LTSM_total)\n",
    "print('\\nSelling options expiring in two weeks and far out to the money,\\n RF generated:', long_far_RF_total, '\\n LTSM generated:', long_far_LTSM_total)\n"
   ]
  },
  {
   "cell_type": "code",
   "execution_count": null,
   "metadata": {},
   "outputs": [],
   "source": []
  }
 ],
 "metadata": {
  "kernelspec": {
   "display_name": "Python 3",
   "language": "python",
   "name": "python3"
  },
  "language_info": {
   "codemirror_mode": {
    "name": "ipython",
    "version": 3
   },
   "file_extension": ".py",
   "mimetype": "text/x-python",
   "name": "python",
   "nbconvert_exporter": "python",
   "pygments_lexer": "ipython3",
   "version": "3.8.3"
  }
 },
 "nbformat": 4,
 "nbformat_minor": 4
}
